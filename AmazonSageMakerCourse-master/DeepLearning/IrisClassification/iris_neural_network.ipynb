{
 "cells": [
  {
   "cell_type": "markdown",
   "metadata": {
    "nbpresent": {
     "id": "782a07bf-08de-4030-88e1-6731c4ac956e"
    }
   },
   "source": [
    "## Neural Network - Multiclass Classification\n",
    "### Build the Neural Network using Keras - Easy and Portable across different implementations  \n",
    "\n",
    "https://keras.io/  \n",
    "\n",
    "For building on TensorFlow - Use a conda_tensorflow_py36 or equivalent kernel  \n",
    "For building on Apache MxNet  - Use a conda_mxnet_py36 or equivalent kernel  \n",
    "\n",
    "### Iris Plant Classification  \n",
    "\n",
    "<h4>Input Features:</h4>  \n",
    "sepal_length, sepal_width, petal_length, petal_width  \n",
    "\n",
    "<h4>Target:</h4>  \n",
    "Iris Class ['Iris-setosa', 'Iris-versicolor', 'Iris-virginica']  "
   ]
  },
  {
   "cell_type": "code",
   "execution_count": 1,
   "metadata": {
    "nbpresent": {
     "id": "652b58d4-3b75-405f-9f11-24d0cd1f9656"
    }
   },
   "outputs": [
    {
     "name": "stderr",
     "output_type": "stream",
     "text": [
      "Using TensorFlow backend.\n"
     ]
    }
   ],
   "source": [
    "# https://keras.io/\n",
    "# https://github.com/keras-team/keras/issues/2743\n",
    "# Change Kernel to use Tensor Flow. For example: conda_tensorflow_p36\n",
    "import sys\n",
    "import numpy as np\n",
    "# Set random seed\n",
    "np.random.seed(0)\n",
    "\n",
    "import pandas as pd\n",
    "import matplotlib.pyplot as plt\n",
    "import itertools\n",
    "\n",
    "from sklearn import preprocessing\n",
    "from sklearn.metrics import classification_report, confusion_matrix\n",
    "from sklearn.preprocessing import StandardScaler, OneHotEncoder, MinMaxScaler, KBinsDiscretizer, LabelEncoder\n",
    "\n",
    "from keras.models import Sequential\n",
    "from keras.layers import Dense, Activation\n",
    "import keras"
   ]
  },
  {
   "cell_type": "code",
   "execution_count": 2,
   "metadata": {
    "nbpresent": {
     "id": "a3946273-d086-4564-b0f1-6adc225191c3"
    }
   },
   "outputs": [],
   "source": [
    "column_list_file = 'iris_train_column_list.txt'\n",
    "train_file = 'iris_train.csv'\n",
    "validation_file = 'iris_validation.csv'"
   ]
  },
  {
   "cell_type": "code",
   "execution_count": 3,
   "metadata": {
    "nbpresent": {
     "id": "7c803d6c-74cc-40d2-ab48-747ff4346c22"
    }
   },
   "outputs": [],
   "source": [
    "columns = ''\n",
    "with open(column_list_file,'r') as f:\n",
    "    columns = f.read().split(',')"
   ]
  },
  {
   "cell_type": "code",
   "execution_count": 4,
   "metadata": {
    "nbpresent": {
     "id": "630dde8d-44b9-415d-8876-4e873407d0fc"
    }
   },
   "outputs": [
    {
     "data": {
      "text/plain": [
       "['encoded_class', 'sepal_length', 'sepal_width', 'petal_length', 'petal_width']"
      ]
     },
     "execution_count": 4,
     "metadata": {},
     "output_type": "execute_result"
    }
   ],
   "source": [
    "columns"
   ]
  },
  {
   "cell_type": "code",
   "execution_count": 5,
   "metadata": {},
   "outputs": [
    {
     "data": {
      "text/plain": [
       "LabelEncoder()"
      ]
     },
     "execution_count": 5,
     "metadata": {},
     "output_type": "execute_result"
    }
   ],
   "source": [
    "# Encode Class Labels to integers\n",
    "# Labeled Classes\n",
    "labels=[0,1,2]\n",
    "classes = ['Iris-setosa', 'Iris-versicolor', 'Iris-virginica']\n",
    "le = preprocessing.LabelEncoder()\n",
    "le.fit(classes)"
   ]
  },
  {
   "cell_type": "code",
   "execution_count": 6,
   "metadata": {
    "nbpresent": {
     "id": "d6ff2283-cb13-468f-b0cc-0aefeab7b57f"
    }
   },
   "outputs": [],
   "source": [
    "# Specify the column names as the file does not have column header\n",
    "df_train = pd.read_csv(train_file,names=columns)\n",
    "df_validation = pd.read_csv(validation_file,names=columns)"
   ]
  },
  {
   "cell_type": "code",
   "execution_count": 7,
   "metadata": {
    "nbpresent": {
     "id": "a195ae30-1962-4427-859b-73a013dc10d6"
    }
   },
   "outputs": [
    {
     "data": {
      "text/html": [
       "<div>\n",
       "<style scoped>\n",
       "    .dataframe tbody tr th:only-of-type {\n",
       "        vertical-align: middle;\n",
       "    }\n",
       "\n",
       "    .dataframe tbody tr th {\n",
       "        vertical-align: top;\n",
       "    }\n",
       "\n",
       "    .dataframe thead th {\n",
       "        text-align: right;\n",
       "    }\n",
       "</style>\n",
       "<table border=\"1\" class=\"dataframe\">\n",
       "  <thead>\n",
       "    <tr style=\"text-align: right;\">\n",
       "      <th></th>\n",
       "      <th>encoded_class</th>\n",
       "      <th>sepal_length</th>\n",
       "      <th>sepal_width</th>\n",
       "      <th>petal_length</th>\n",
       "      <th>petal_width</th>\n",
       "    </tr>\n",
       "  </thead>\n",
       "  <tbody>\n",
       "    <tr>\n",
       "      <th>0</th>\n",
       "      <td>1</td>\n",
       "      <td>5.8</td>\n",
       "      <td>2.7</td>\n",
       "      <td>3.9</td>\n",
       "      <td>1.2</td>\n",
       "    </tr>\n",
       "    <tr>\n",
       "      <th>1</th>\n",
       "      <td>2</td>\n",
       "      <td>6.1</td>\n",
       "      <td>2.6</td>\n",
       "      <td>5.6</td>\n",
       "      <td>1.4</td>\n",
       "    </tr>\n",
       "    <tr>\n",
       "      <th>2</th>\n",
       "      <td>2</td>\n",
       "      <td>5.8</td>\n",
       "      <td>2.8</td>\n",
       "      <td>5.1</td>\n",
       "      <td>2.4</td>\n",
       "    </tr>\n",
       "    <tr>\n",
       "      <th>3</th>\n",
       "      <td>0</td>\n",
       "      <td>4.4</td>\n",
       "      <td>3.2</td>\n",
       "      <td>1.3</td>\n",
       "      <td>0.2</td>\n",
       "    </tr>\n",
       "    <tr>\n",
       "      <th>4</th>\n",
       "      <td>2</td>\n",
       "      <td>7.2</td>\n",
       "      <td>3.6</td>\n",
       "      <td>6.1</td>\n",
       "      <td>2.5</td>\n",
       "    </tr>\n",
       "  </tbody>\n",
       "</table>\n",
       "</div>"
      ],
      "text/plain": [
       "   encoded_class  sepal_length  sepal_width  petal_length  petal_width\n",
       "0              1           5.8          2.7           3.9          1.2\n",
       "1              2           6.1          2.6           5.6          1.4\n",
       "2              2           5.8          2.8           5.1          2.4\n",
       "3              0           4.4          3.2           1.3          0.2\n",
       "4              2           7.2          3.6           6.1          2.5"
      ]
     },
     "execution_count": 7,
     "metadata": {},
     "output_type": "execute_result"
    }
   ],
   "source": [
    "df_train.head()"
   ]
  },
  {
   "cell_type": "code",
   "execution_count": 8,
   "metadata": {
    "nbpresent": {
     "id": "e30e8aeb-1ca2-4851-bc2d-1bdee29ab1cf"
    }
   },
   "outputs": [
    {
     "data": {
      "text/html": [
       "<div>\n",
       "<style scoped>\n",
       "    .dataframe tbody tr th:only-of-type {\n",
       "        vertical-align: middle;\n",
       "    }\n",
       "\n",
       "    .dataframe tbody tr th {\n",
       "        vertical-align: top;\n",
       "    }\n",
       "\n",
       "    .dataframe thead th {\n",
       "        text-align: right;\n",
       "    }\n",
       "</style>\n",
       "<table border=\"1\" class=\"dataframe\">\n",
       "  <thead>\n",
       "    <tr style=\"text-align: right;\">\n",
       "      <th></th>\n",
       "      <th>encoded_class</th>\n",
       "      <th>sepal_length</th>\n",
       "      <th>sepal_width</th>\n",
       "      <th>petal_length</th>\n",
       "      <th>petal_width</th>\n",
       "    </tr>\n",
       "  </thead>\n",
       "  <tbody>\n",
       "    <tr>\n",
       "      <th>0</th>\n",
       "      <td>1</td>\n",
       "      <td>5.8</td>\n",
       "      <td>2.7</td>\n",
       "      <td>4.1</td>\n",
       "      <td>1.0</td>\n",
       "    </tr>\n",
       "    <tr>\n",
       "      <th>1</th>\n",
       "      <td>0</td>\n",
       "      <td>4.8</td>\n",
       "      <td>3.4</td>\n",
       "      <td>1.6</td>\n",
       "      <td>0.2</td>\n",
       "    </tr>\n",
       "    <tr>\n",
       "      <th>2</th>\n",
       "      <td>1</td>\n",
       "      <td>6.0</td>\n",
       "      <td>2.2</td>\n",
       "      <td>4.0</td>\n",
       "      <td>1.0</td>\n",
       "    </tr>\n",
       "    <tr>\n",
       "      <th>3</th>\n",
       "      <td>2</td>\n",
       "      <td>6.4</td>\n",
       "      <td>3.1</td>\n",
       "      <td>5.5</td>\n",
       "      <td>1.8</td>\n",
       "    </tr>\n",
       "    <tr>\n",
       "      <th>4</th>\n",
       "      <td>2</td>\n",
       "      <td>6.7</td>\n",
       "      <td>2.5</td>\n",
       "      <td>5.8</td>\n",
       "      <td>1.8</td>\n",
       "    </tr>\n",
       "  </tbody>\n",
       "</table>\n",
       "</div>"
      ],
      "text/plain": [
       "   encoded_class  sepal_length  sepal_width  petal_length  petal_width\n",
       "0              1           5.8          2.7           4.1          1.0\n",
       "1              0           4.8          3.4           1.6          0.2\n",
       "2              1           6.0          2.2           4.0          1.0\n",
       "3              2           6.4          3.1           5.5          1.8\n",
       "4              2           6.7          2.5           5.8          1.8"
      ]
     },
     "execution_count": 8,
     "metadata": {},
     "output_type": "execute_result"
    }
   ],
   "source": [
    "df_validation.head()"
   ]
  },
  {
   "cell_type": "code",
   "execution_count": 9,
   "metadata": {},
   "outputs": [
    {
     "data": {
      "text/plain": [
       "0    1\n",
       "1    2\n",
       "2    2\n",
       "3    0\n",
       "4    2\n",
       "Name: encoded_class, dtype: int64"
      ]
     },
     "execution_count": 9,
     "metadata": {},
     "output_type": "execute_result"
    }
   ],
   "source": [
    "df_train['encoded_class'].head()"
   ]
  },
  {
   "cell_type": "markdown",
   "metadata": {},
   "source": [
    "## One Hot Encode Target Label"
   ]
  },
  {
   "cell_type": "code",
   "execution_count": 10,
   "metadata": {},
   "outputs": [],
   "source": [
    "# Convert labels to categorical one-hot encoding\n",
    "one_hot_labels = keras.utils.to_categorical(df_train['encoded_class'].head(), num_classes=3)"
   ]
  },
  {
   "cell_type": "code",
   "execution_count": 11,
   "metadata": {},
   "outputs": [],
   "source": [
    "# or you can use onehot encoder`\n",
    "ohe = OneHotEncoder(categories='auto',sparse=False)\n",
    "ohe.fit([[0],[1],[2]])\n",
    "one_hot_labels = ohe.transform(df_train[['encoded_class']])"
   ]
  },
  {
   "cell_type": "code",
   "execution_count": 12,
   "metadata": {},
   "outputs": [
    {
     "data": {
      "text/plain": [
       "array([[0., 1., 0.],\n",
       "       [0., 0., 1.],\n",
       "       [0., 0., 1.],\n",
       "       [1., 0., 0.],\n",
       "       [0., 0., 1.]])"
      ]
     },
     "execution_count": 12,
     "metadata": {},
     "output_type": "execute_result"
    }
   ],
   "source": [
    "one_hot_labels[:5]"
   ]
  },
  {
   "cell_type": "code",
   "execution_count": 13,
   "metadata": {
    "nbpresent": {
     "id": "3b240613-803d-4fa9-93cf-53ef68df7b93"
    }
   },
   "outputs": [],
   "source": [
    "X_train = df_train.iloc[:,1:].values # Features: 1st column onwards \n",
    "y_train = ohe.transform(df_train[['encoded_class']])\n",
    "\n",
    "X_validation = df_validation.iloc[:,1:].values\n",
    "y_validation = ohe.transform(df_validation[['encoded_class']])"
   ]
  },
  {
   "cell_type": "markdown",
   "metadata": {},
   "source": [
    "## Build Model using Keras  \n",
    "Reference: https://keras.io/getting-started/sequential-model-guide/  "
   ]
  },
  {
   "cell_type": "code",
   "execution_count": 14,
   "metadata": {},
   "outputs": [
    {
     "name": "stdout",
     "output_type": "stream",
     "text": [
      "WARNING:tensorflow:From /home/ec2-user/anaconda3/envs/tensorflow_p36/lib/python3.6/site-packages/keras/backend/tensorflow_backend.py:74: The name tf.get_default_graph is deprecated. Please use tf.compat.v1.get_default_graph instead.\n",
      "\n",
      "WARNING:tensorflow:From /home/ec2-user/anaconda3/envs/tensorflow_p36/lib/python3.6/site-packages/keras/backend/tensorflow_backend.py:517: The name tf.placeholder is deprecated. Please use tf.compat.v1.placeholder instead.\n",
      "\n",
      "WARNING:tensorflow:From /home/ec2-user/anaconda3/envs/tensorflow_p36/lib/python3.6/site-packages/keras/backend/tensorflow_backend.py:4138: The name tf.random_uniform is deprecated. Please use tf.random.uniform instead.\n",
      "\n",
      "WARNING:tensorflow:From /home/ec2-user/anaconda3/envs/tensorflow_p36/lib/python3.6/site-packages/keras/optimizers.py:790: The name tf.train.Optimizer is deprecated. Please use tf.compat.v1.train.Optimizer instead.\n",
      "\n",
      "WARNING:tensorflow:From /home/ec2-user/anaconda3/envs/tensorflow_p36/lib/python3.6/site-packages/keras/backend/tensorflow_backend.py:3295: The name tf.log is deprecated. Please use tf.math.log instead.\n",
      "\n"
     ]
    }
   ],
   "source": [
    "# Create Model\n",
    "# 1 hidden layer with 32 neurons with relu activation\n",
    "# output layer - multi-class classification with 3 classes\n",
    "# Use softmax activation - gives the probability of a sample belonging to the three classes\n",
    "#  select the one with highest probability\n",
    "#  Sum of the probabilities is 1.\n",
    "\n",
    "# optimizer - use adam or rmsprop\n",
    "# loss function - multinomial logistic loss function - called as categorical cross entropy in keras\n",
    "# metrics - additional metrics to report\n",
    "model = Sequential()\n",
    "model.add(Dense(32, activation='relu', input_dim=X_train.shape[1]))\n",
    "model.add(Dense(3, activation='softmax'))\n",
    "model.compile(optimizer='rmsprop',\n",
    "              loss='categorical_crossentropy',\n",
    "              metrics=['accuracy'])"
   ]
  },
  {
   "cell_type": "code",
   "execution_count": 15,
   "metadata": {},
   "outputs": [],
   "source": [
    "from keras.callbacks import EarlyStopping\n",
    "early_stopping = EarlyStopping(monitor='val_loss', mode='min', verbose=1, patience=5)"
   ]
  },
  {
   "cell_type": "code",
   "execution_count": 16,
   "metadata": {},
   "outputs": [
    {
     "name": "stdout",
     "output_type": "stream",
     "text": [
      "WARNING:tensorflow:From /home/ec2-user/anaconda3/envs/tensorflow_p36/lib/python3.6/site-packages/tensorflow/python/ops/math_grad.py:1250: add_dispatch_support.<locals>.wrapper (from tensorflow.python.ops.array_ops) is deprecated and will be removed in a future version.\n",
      "Instructions for updating:\n",
      "Use tf.where in 2.0, which has the same broadcast rule as np.where\n",
      "WARNING:tensorflow:From /home/ec2-user/anaconda3/envs/tensorflow_p36/lib/python3.6/site-packages/keras/backend/tensorflow_backend.py:986: The name tf.assign_add is deprecated. Please use tf.compat.v1.assign_add instead.\n",
      "\n",
      "Train on 105 samples, validate on 45 samples\n",
      "Epoch 1/300\n",
      "105/105 [==============================] - 1s 7ms/step - loss: 2.5304 - acc: 0.3048 - val_loss: 1.8551 - val_acc: 0.4000\n",
      "Epoch 2/300\n",
      "105/105 [==============================] - 0s 152us/step - loss: 2.0581 - acc: 0.3048 - val_loss: 1.6153 - val_acc: 0.4000\n",
      "Epoch 3/300\n",
      "105/105 [==============================] - 0s 148us/step - loss: 1.7871 - acc: 0.3048 - val_loss: 1.4333 - val_acc: 0.4000\n",
      "Epoch 4/300\n",
      "105/105 [==============================] - 0s 154us/step - loss: 1.5692 - acc: 0.3048 - val_loss: 1.3047 - val_acc: 0.4000\n",
      "Epoch 5/300\n",
      "105/105 [==============================] - 0s 139us/step - loss: 1.4056 - acc: 0.3048 - val_loss: 1.2244 - val_acc: 0.4000\n",
      "Epoch 6/300\n",
      "105/105 [==============================] - 0s 141us/step - loss: 1.2941 - acc: 0.3048 - val_loss: 1.1556 - val_acc: 0.4000\n",
      "Epoch 7/300\n",
      "105/105 [==============================] - 0s 125us/step - loss: 1.2054 - acc: 0.3048 - val_loss: 1.1190 - val_acc: 0.4000\n",
      "Epoch 8/300\n",
      "105/105 [==============================] - 0s 114us/step - loss: 1.1542 - acc: 0.3048 - val_loss: 1.0930 - val_acc: 0.4000\n",
      "Epoch 9/300\n",
      "105/105 [==============================] - 0s 124us/step - loss: 1.1091 - acc: 0.3238 - val_loss: 1.0705 - val_acc: 0.4000\n",
      "Epoch 10/300\n",
      "105/105 [==============================] - 0s 105us/step - loss: 1.0865 - acc: 0.3143 - val_loss: 1.0626 - val_acc: 0.2889\n",
      "Epoch 11/300\n",
      "105/105 [==============================] - 0s 118us/step - loss: 1.0549 - acc: 0.3429 - val_loss: 1.0498 - val_acc: 0.2667\n",
      "Epoch 12/300\n",
      "105/105 [==============================] - 0s 124us/step - loss: 1.0321 - acc: 0.3524 - val_loss: 1.0167 - val_acc: 0.3333\n",
      "Epoch 13/300\n",
      "105/105 [==============================] - 0s 125us/step - loss: 1.0081 - acc: 0.3619 - val_loss: 1.0092 - val_acc: 0.3333\n",
      "Epoch 14/300\n",
      "105/105 [==============================] - 0s 113us/step - loss: 0.9891 - acc: 0.4286 - val_loss: 0.9641 - val_acc: 0.4222\n",
      "Epoch 15/300\n",
      "105/105 [==============================] - 0s 113us/step - loss: 0.9675 - acc: 0.4095 - val_loss: 0.9581 - val_acc: 0.3556\n",
      "Epoch 16/300\n",
      "105/105 [==============================] - 0s 127us/step - loss: 0.9449 - acc: 0.4286 - val_loss: 0.9203 - val_acc: 0.5333\n",
      "Epoch 17/300\n",
      "105/105 [==============================] - 0s 156us/step - loss: 0.9233 - acc: 0.6381 - val_loss: 0.8978 - val_acc: 0.6444\n",
      "Epoch 18/300\n",
      "105/105 [==============================] - 0s 143us/step - loss: 0.9051 - acc: 0.6857 - val_loss: 0.8621 - val_acc: 0.7778\n",
      "Epoch 19/300\n",
      "105/105 [==============================] - 0s 116us/step - loss: 0.8853 - acc: 0.7524 - val_loss: 0.8402 - val_acc: 0.7556\n",
      "Epoch 20/300\n",
      "105/105 [==============================] - 0s 127us/step - loss: 0.8722 - acc: 0.7143 - val_loss: 0.8195 - val_acc: 0.7556\n",
      "Epoch 21/300\n",
      "105/105 [==============================] - 0s 132us/step - loss: 0.8578 - acc: 0.6952 - val_loss: 0.8057 - val_acc: 0.7556\n",
      "Epoch 22/300\n",
      "105/105 [==============================] - 0s 118us/step - loss: 0.8419 - acc: 0.7333 - val_loss: 0.7995 - val_acc: 0.7778\n",
      "Epoch 23/300\n",
      "105/105 [==============================] - 0s 125us/step - loss: 0.8200 - acc: 0.8190 - val_loss: 0.7845 - val_acc: 0.8444\n",
      "Epoch 24/300\n",
      "105/105 [==============================] - 0s 121us/step - loss: 0.8061 - acc: 0.8381 - val_loss: 0.7671 - val_acc: 0.8000\n",
      "Epoch 25/300\n",
      "105/105 [==============================] - 0s 133us/step - loss: 0.7945 - acc: 0.8381 - val_loss: 0.7522 - val_acc: 0.8667\n",
      "Epoch 26/300\n",
      "105/105 [==============================] - 0s 135us/step - loss: 0.7774 - acc: 0.8190 - val_loss: 0.7473 - val_acc: 0.8667\n",
      "Epoch 27/300\n",
      "105/105 [==============================] - 0s 136us/step - loss: 0.7646 - acc: 0.8286 - val_loss: 0.7511 - val_acc: 0.7333\n",
      "Epoch 28/300\n",
      "105/105 [==============================] - 0s 116us/step - loss: 0.7479 - acc: 0.8476 - val_loss: 0.7364 - val_acc: 0.7556\n",
      "Epoch 29/300\n",
      "105/105 [==============================] - 0s 124us/step - loss: 0.7369 - acc: 0.8190 - val_loss: 0.6874 - val_acc: 0.8000\n",
      "Epoch 30/300\n",
      "105/105 [==============================] - 0s 131us/step - loss: 0.7231 - acc: 0.8095 - val_loss: 0.6782 - val_acc: 0.8889\n",
      "Epoch 31/300\n",
      "105/105 [==============================] - 0s 128us/step - loss: 0.7093 - acc: 0.8381 - val_loss: 0.6632 - val_acc: 0.8889\n",
      "Epoch 32/300\n",
      "105/105 [==============================] - 0s 146us/step - loss: 0.6943 - acc: 0.8667 - val_loss: 0.6498 - val_acc: 0.8889\n",
      "Epoch 33/300\n",
      "105/105 [==============================] - 0s 120us/step - loss: 0.6857 - acc: 0.8857 - val_loss: 0.6562 - val_acc: 0.8889\n",
      "Epoch 34/300\n",
      "105/105 [==============================] - 0s 129us/step - loss: 0.6710 - acc: 0.8857 - val_loss: 0.6209 - val_acc: 0.8889\n",
      "Epoch 35/300\n",
      "105/105 [==============================] - 0s 125us/step - loss: 0.6612 - acc: 0.8952 - val_loss: 0.6094 - val_acc: 0.8889\n",
      "Epoch 36/300\n",
      "105/105 [==============================] - 0s 122us/step - loss: 0.6492 - acc: 0.9143 - val_loss: 0.5943 - val_acc: 0.8444\n",
      "Epoch 37/300\n",
      "105/105 [==============================] - 0s 142us/step - loss: 0.6359 - acc: 0.8571 - val_loss: 0.5913 - val_acc: 0.9333\n",
      "Epoch 38/300\n",
      "105/105 [==============================] - 0s 134us/step - loss: 0.6263 - acc: 0.9048 - val_loss: 0.5786 - val_acc: 0.9111\n",
      "Epoch 39/300\n",
      "105/105 [==============================] - 0s 152us/step - loss: 0.6135 - acc: 0.9238 - val_loss: 0.5857 - val_acc: 0.9111\n",
      "Epoch 40/300\n",
      "105/105 [==============================] - 0s 142us/step - loss: 0.6013 - acc: 0.9048 - val_loss: 0.5597 - val_acc: 0.9333\n",
      "Epoch 41/300\n",
      "105/105 [==============================] - 0s 131us/step - loss: 0.5888 - acc: 0.9333 - val_loss: 0.5555 - val_acc: 0.9111\n",
      "Epoch 42/300\n",
      "105/105 [==============================] - 0s 131us/step - loss: 0.5797 - acc: 0.9333 - val_loss: 0.5397 - val_acc: 0.9111\n",
      "Epoch 43/300\n",
      "105/105 [==============================] - 0s 134us/step - loss: 0.5714 - acc: 0.9143 - val_loss: 0.5374 - val_acc: 0.9333\n",
      "Epoch 44/300\n",
      "105/105 [==============================] - 0s 137us/step - loss: 0.5602 - acc: 0.9333 - val_loss: 0.5311 - val_acc: 0.9111\n",
      "Epoch 45/300\n",
      "105/105 [==============================] - 0s 136us/step - loss: 0.5516 - acc: 0.9238 - val_loss: 0.5201 - val_acc: 0.9333\n",
      "Epoch 46/300\n",
      "105/105 [==============================] - 0s 150us/step - loss: 0.5448 - acc: 0.9238 - val_loss: 0.4884 - val_acc: 0.9111\n",
      "Epoch 47/300\n",
      "105/105 [==============================] - 0s 144us/step - loss: 0.5337 - acc: 0.9238 - val_loss: 0.4998 - val_acc: 0.9333\n",
      "Epoch 48/300\n",
      "105/105 [==============================] - 0s 132us/step - loss: 0.5252 - acc: 0.9429 - val_loss: 0.5058 - val_acc: 0.8889\n",
      "Epoch 49/300\n",
      "105/105 [==============================] - 0s 137us/step - loss: 0.5169 - acc: 0.9238 - val_loss: 0.4739 - val_acc: 0.9556\n",
      "Epoch 50/300\n",
      "105/105 [==============================] - 0s 128us/step - loss: 0.5125 - acc: 0.9429 - val_loss: 0.4962 - val_acc: 0.8667\n",
      "Epoch 51/300\n",
      "105/105 [==============================] - ETA: 0s - loss: 0.5509 - acc: 0.812 - 0s 142us/step - loss: 0.5053 - acc: 0.9143 - val_loss: 0.4603 - val_acc: 0.9556\n",
      "Epoch 52/300\n",
      "105/105 [==============================] - 0s 128us/step - loss: 0.4929 - acc: 0.9619 - val_loss: 0.4613 - val_acc: 0.9333\n",
      "Epoch 53/300\n",
      "105/105 [==============================] - 0s 121us/step - loss: 0.4878 - acc: 0.9333 - val_loss: 0.4599 - val_acc: 0.9333\n",
      "Epoch 54/300\n",
      "105/105 [==============================] - 0s 140us/step - loss: 0.4818 - acc: 0.9333 - val_loss: 0.4333 - val_acc: 0.9556\n",
      "Epoch 55/300\n",
      "105/105 [==============================] - 0s 136us/step - loss: 0.4724 - acc: 0.9619 - val_loss: 0.4506 - val_acc: 0.9111\n",
      "Epoch 56/300\n",
      "105/105 [==============================] - 0s 130us/step - loss: 0.4669 - acc: 0.9619 - val_loss: 0.4337 - val_acc: 0.9333\n",
      "Epoch 57/300\n",
      "105/105 [==============================] - 0s 121us/step - loss: 0.4649 - acc: 0.9333 - val_loss: 0.4411 - val_acc: 0.8889\n",
      "Epoch 58/300\n",
      "105/105 [==============================] - 0s 120us/step - loss: 0.4555 - acc: 0.9429 - val_loss: 0.4075 - val_acc: 0.9556\n",
      "Epoch 59/300\n",
      "105/105 [==============================] - 0s 119us/step - loss: 0.4453 - acc: 0.9619 - val_loss: 0.4086 - val_acc: 0.9333\n",
      "Epoch 60/300\n",
      "105/105 [==============================] - 0s 125us/step - loss: 0.4447 - acc: 0.9714 - val_loss: 0.4128 - val_acc: 0.9333\n",
      "Epoch 61/300\n",
      "105/105 [==============================] - 0s 149us/step - loss: 0.4356 - acc: 0.9333 - val_loss: 0.4042 - val_acc: 0.9333\n",
      "Epoch 62/300\n",
      "105/105 [==============================] - 0s 127us/step - loss: 0.4325 - acc: 0.9524 - val_loss: 0.3831 - val_acc: 0.9556\n",
      "Epoch 63/300\n",
      "105/105 [==============================] - 0s 130us/step - loss: 0.4210 - acc: 0.9714 - val_loss: 0.3993 - val_acc: 0.9333\n",
      "Epoch 64/300\n",
      "105/105 [==============================] - 0s 125us/step - loss: 0.4208 - acc: 0.9619 - val_loss: 0.3801 - val_acc: 0.9556\n",
      "Epoch 65/300\n",
      "105/105 [==============================] - 0s 138us/step - loss: 0.4106 - acc: 0.9714 - val_loss: 0.4025 - val_acc: 0.8889\n",
      "Epoch 66/300\n",
      "105/105 [==============================] - 0s 141us/step - loss: 0.4165 - acc: 0.9429 - val_loss: 0.4000 - val_acc: 0.8889\n",
      "Epoch 67/300\n",
      "105/105 [==============================] - 0s 138us/step - loss: 0.4054 - acc: 0.9333 - val_loss: 0.3606 - val_acc: 0.9556\n",
      "Epoch 68/300\n",
      "105/105 [==============================] - 0s 133us/step - loss: 0.3951 - acc: 0.9810 - val_loss: 0.3559 - val_acc: 0.9556\n",
      "Epoch 69/300\n",
      "105/105 [==============================] - 0s 136us/step - loss: 0.3903 - acc: 0.9905 - val_loss: 0.3664 - val_acc: 0.9333\n",
      "Epoch 70/300\n",
      "105/105 [==============================] - 0s 136us/step - loss: 0.3869 - acc: 0.9619 - val_loss: 0.3441 - val_acc: 0.9556\n",
      "Epoch 71/300\n",
      "105/105 [==============================] - 0s 115us/step - loss: 0.3838 - acc: 0.9619 - val_loss: 0.3483 - val_acc: 0.9333\n",
      "Epoch 72/300\n",
      "105/105 [==============================] - 0s 165us/step - loss: 0.3832 - acc: 0.9524 - val_loss: 0.3322 - val_acc: 0.9556\n",
      "Epoch 73/300\n",
      "105/105 [==============================] - 0s 154us/step - loss: 0.3712 - acc: 0.9810 - val_loss: 0.3313 - val_acc: 0.9556\n",
      "Epoch 74/300\n",
      "105/105 [==============================] - 0s 152us/step - loss: 0.3711 - acc: 0.9714 - val_loss: 0.3183 - val_acc: 0.9556\n",
      "Epoch 75/300\n",
      "105/105 [==============================] - 0s 135us/step - loss: 0.3628 - acc: 0.9810 - val_loss: 0.3386 - val_acc: 0.9333\n",
      "Epoch 76/300\n",
      "105/105 [==============================] - 0s 127us/step - loss: 0.3599 - acc: 0.9524 - val_loss: 0.3109 - val_acc: 0.9556\n",
      "Epoch 77/300\n",
      "105/105 [==============================] - 0s 138us/step - loss: 0.3546 - acc: 0.9714 - val_loss: 0.3184 - val_acc: 0.9556\n",
      "Epoch 78/300\n",
      "105/105 [==============================] - 0s 128us/step - loss: 0.3505 - acc: 0.9905 - val_loss: 0.3110 - val_acc: 0.9556\n",
      "Epoch 79/300\n",
      "105/105 [==============================] - 0s 134us/step - loss: 0.3504 - acc: 0.9810 - val_loss: 0.3001 - val_acc: 0.9556\n",
      "Epoch 80/300\n",
      "105/105 [==============================] - 0s 119us/step - loss: 0.3415 - acc: 0.9714 - val_loss: 0.3088 - val_acc: 0.9556\n",
      "Epoch 81/300\n",
      "105/105 [==============================] - 0s 122us/step - loss: 0.3389 - acc: 0.9714 - val_loss: 0.3172 - val_acc: 0.9556\n",
      "Epoch 82/300\n",
      "105/105 [==============================] - 0s 123us/step - loss: 0.3356 - acc: 0.9524 - val_loss: 0.2913 - val_acc: 0.9556\n",
      "Epoch 83/300\n",
      "105/105 [==============================] - 0s 124us/step - loss: 0.3284 - acc: 0.9810 - val_loss: 0.3083 - val_acc: 0.9333\n",
      "Epoch 84/300\n",
      "105/105 [==============================] - 0s 126us/step - loss: 0.3305 - acc: 0.9714 - val_loss: 0.3116 - val_acc: 0.9333\n",
      "Epoch 85/300\n",
      "105/105 [==============================] - 0s 123us/step - loss: 0.3249 - acc: 0.9714 - val_loss: 0.3001 - val_acc: 0.9333\n",
      "Epoch 86/300\n",
      "105/105 [==============================] - 0s 124us/step - loss: 0.3198 - acc: 0.9524 - val_loss: 0.2882 - val_acc: 0.9556\n",
      "Epoch 87/300\n",
      "105/105 [==============================] - 0s 147us/step - loss: 0.3183 - acc: 0.9810 - val_loss: 0.2989 - val_acc: 0.9556\n",
      "Epoch 88/300\n",
      "105/105 [==============================] - 0s 139us/step - loss: 0.3127 - acc: 0.9524 - val_loss: 0.2837 - val_acc: 0.9556\n",
      "Epoch 89/300\n",
      "105/105 [==============================] - 0s 149us/step - loss: 0.3083 - acc: 0.9619 - val_loss: 0.2769 - val_acc: 0.9556\n",
      "Epoch 90/300\n",
      "105/105 [==============================] - 0s 157us/step - loss: 0.3102 - acc: 0.9714 - val_loss: 0.2854 - val_acc: 0.9556\n",
      "Epoch 91/300\n",
      "105/105 [==============================] - 0s 150us/step - loss: 0.3019 - acc: 0.9810 - val_loss: 0.2725 - val_acc: 0.9556\n",
      "Epoch 92/300\n",
      "105/105 [==============================] - 0s 113us/step - loss: 0.2974 - acc: 0.9714 - val_loss: 0.2559 - val_acc: 0.9556\n",
      "Epoch 93/300\n",
      "105/105 [==============================] - 0s 131us/step - loss: 0.2975 - acc: 0.9619 - val_loss: 0.2557 - val_acc: 0.9556\n",
      "Epoch 94/300\n",
      "105/105 [==============================] - 0s 129us/step - loss: 0.2966 - acc: 0.9619 - val_loss: 0.2613 - val_acc: 0.9556\n",
      "Epoch 95/300\n",
      "105/105 [==============================] - 0s 136us/step - loss: 0.2896 - acc: 0.9905 - val_loss: 0.2591 - val_acc: 0.9556\n",
      "Epoch 96/300\n",
      "105/105 [==============================] - 0s 114us/step - loss: 0.2851 - acc: 0.9714 - val_loss: 0.2570 - val_acc: 0.9556\n",
      "Epoch 97/300\n",
      "105/105 [==============================] - 0s 119us/step - loss: 0.2838 - acc: 0.9714 - val_loss: 0.2527 - val_acc: 0.9556\n",
      "Epoch 98/300\n",
      "105/105 [==============================] - 0s 131us/step - loss: 0.2808 - acc: 0.9810 - val_loss: 0.2430 - val_acc: 0.9556\n",
      "Epoch 99/300\n",
      "105/105 [==============================] - 0s 120us/step - loss: 0.2753 - acc: 0.9905 - val_loss: 0.2555 - val_acc: 0.9556\n",
      "Epoch 100/300\n",
      "105/105 [==============================] - 0s 132us/step - loss: 0.2793 - acc: 0.9714 - val_loss: 0.2698 - val_acc: 0.9333\n",
      "Epoch 101/300\n",
      "105/105 [==============================] - 0s 142us/step - loss: 0.2794 - acc: 0.9524 - val_loss: 0.2402 - val_acc: 0.9556\n",
      "Epoch 102/300\n",
      "105/105 [==============================] - 0s 145us/step - loss: 0.2687 - acc: 0.9619 - val_loss: 0.2302 - val_acc: 0.9556\n",
      "Epoch 103/300\n",
      "105/105 [==============================] - 0s 134us/step - loss: 0.2699 - acc: 0.9810 - val_loss: 0.2480 - val_acc: 0.9556\n",
      "Epoch 104/300\n",
      "105/105 [==============================] - 0s 136us/step - loss: 0.2640 - acc: 0.9714 - val_loss: 0.2344 - val_acc: 0.9556\n",
      "Epoch 105/300\n",
      "105/105 [==============================] - 0s 124us/step - loss: 0.2662 - acc: 0.9714 - val_loss: 0.2249 - val_acc: 0.9556\n",
      "Epoch 106/300\n",
      "105/105 [==============================] - 0s 149us/step - loss: 0.2601 - acc: 0.9810 - val_loss: 0.2249 - val_acc: 0.9556\n",
      "Epoch 107/300\n",
      "105/105 [==============================] - 0s 121us/step - loss: 0.2562 - acc: 0.9810 - val_loss: 0.2198 - val_acc: 0.9556\n",
      "Epoch 108/300\n",
      "105/105 [==============================] - 0s 130us/step - loss: 0.2553 - acc: 0.9810 - val_loss: 0.2359 - val_acc: 0.9556\n",
      "Epoch 109/300\n",
      "105/105 [==============================] - 0s 119us/step - loss: 0.2529 - acc: 0.9905 - val_loss: 0.2296 - val_acc: 0.9778\n",
      "Epoch 110/300\n",
      "105/105 [==============================] - 0s 117us/step - loss: 0.2496 - acc: 0.9714 - val_loss: 0.2189 - val_acc: 0.9556\n",
      "Epoch 111/300\n",
      "105/105 [==============================] - 0s 114us/step - loss: 0.2450 - acc: 0.9905 - val_loss: 0.2195 - val_acc: 0.9556\n",
      "Epoch 112/300\n",
      "105/105 [==============================] - 0s 136us/step - loss: 0.2462 - acc: 0.9810 - val_loss: 0.2129 - val_acc: 0.9556\n",
      "Epoch 113/300\n",
      "105/105 [==============================] - 0s 124us/step - loss: 0.2439 - acc: 0.9810 - val_loss: 0.2079 - val_acc: 0.9556\n",
      "Epoch 114/300\n",
      "105/105 [==============================] - 0s 148us/step - loss: 0.2405 - acc: 0.9810 - val_loss: 0.2124 - val_acc: 0.9556\n",
      "Epoch 115/300\n",
      "105/105 [==============================] - 0s 126us/step - loss: 0.2362 - acc: 0.9905 - val_loss: 0.2035 - val_acc: 0.9556\n",
      "Epoch 116/300\n"
     ]
    },
    {
     "name": "stdout",
     "output_type": "stream",
     "text": [
      "105/105 [==============================] - 0s 142us/step - loss: 0.2375 - acc: 0.9905 - val_loss: 0.2011 - val_acc: 0.9556\n",
      "Epoch 117/300\n",
      "105/105 [==============================] - 0s 142us/step - loss: 0.2341 - acc: 0.9810 - val_loss: 0.2021 - val_acc: 0.9556\n",
      "Epoch 118/300\n",
      "105/105 [==============================] - 0s 129us/step - loss: 0.2354 - acc: 0.9714 - val_loss: 0.2116 - val_acc: 0.9778\n",
      "Epoch 119/300\n",
      "105/105 [==============================] - 0s 128us/step - loss: 0.2286 - acc: 0.9714 - val_loss: 0.2117 - val_acc: 0.9556\n",
      "Epoch 120/300\n",
      "105/105 [==============================] - 0s 125us/step - loss: 0.2294 - acc: 0.9524 - val_loss: 0.2051 - val_acc: 0.9778\n",
      "Epoch 121/300\n",
      "105/105 [==============================] - 0s 162us/step - loss: 0.2255 - acc: 0.9810 - val_loss: 0.1983 - val_acc: 0.9556\n",
      "Epoch 122/300\n",
      "105/105 [==============================] - 0s 137us/step - loss: 0.2196 - acc: 0.9905 - val_loss: 0.1947 - val_acc: 0.9556\n",
      "Epoch 123/300\n",
      "105/105 [==============================] - 0s 144us/step - loss: 0.2241 - acc: 0.9619 - val_loss: 0.1923 - val_acc: 0.9556\n",
      "Epoch 124/300\n",
      "105/105 [==============================] - 0s 119us/step - loss: 0.2156 - acc: 0.9905 - val_loss: 0.2001 - val_acc: 0.9778\n",
      "Epoch 125/300\n",
      "105/105 [==============================] - 0s 170us/step - loss: 0.2147 - acc: 0.9810 - val_loss: 0.1846 - val_acc: 0.9556\n",
      "Epoch 126/300\n",
      "105/105 [==============================] - 0s 124us/step - loss: 0.2140 - acc: 0.9810 - val_loss: 0.1829 - val_acc: 0.9556\n",
      "Epoch 127/300\n",
      "105/105 [==============================] - 0s 126us/step - loss: 0.2117 - acc: 0.9810 - val_loss: 0.1863 - val_acc: 0.9556\n",
      "Epoch 128/300\n",
      "105/105 [==============================] - 0s 128us/step - loss: 0.2105 - acc: 0.9905 - val_loss: 0.1920 - val_acc: 0.9778\n",
      "Epoch 129/300\n",
      "105/105 [==============================] - 0s 143us/step - loss: 0.2081 - acc: 0.9714 - val_loss: 0.1882 - val_acc: 0.9778\n",
      "Epoch 130/300\n",
      "105/105 [==============================] - 0s 122us/step - loss: 0.2051 - acc: 0.9714 - val_loss: 0.1792 - val_acc: 0.9556\n",
      "Epoch 131/300\n",
      "105/105 [==============================] - 0s 142us/step - loss: 0.2048 - acc: 0.9905 - val_loss: 0.1753 - val_acc: 0.9556\n",
      "Epoch 132/300\n",
      "105/105 [==============================] - 0s 129us/step - loss: 0.2013 - acc: 0.9810 - val_loss: 0.1793 - val_acc: 0.9556\n",
      "Epoch 133/300\n",
      "105/105 [==============================] - 0s 139us/step - loss: 0.1976 - acc: 0.9905 - val_loss: 0.1714 - val_acc: 0.9556\n",
      "Epoch 134/300\n",
      "105/105 [==============================] - 0s 145us/step - loss: 0.2018 - acc: 0.9714 - val_loss: 0.2012 - val_acc: 0.9333\n",
      "Epoch 135/300\n",
      "105/105 [==============================] - 0s 125us/step - loss: 0.2015 - acc: 0.9524 - val_loss: 0.1693 - val_acc: 0.9556\n",
      "Epoch 136/300\n",
      "105/105 [==============================] - 0s 136us/step - loss: 0.1944 - acc: 0.9810 - val_loss: 0.1706 - val_acc: 0.9556\n",
      "Epoch 137/300\n",
      "105/105 [==============================] - 0s 145us/step - loss: 0.1913 - acc: 0.9905 - val_loss: 0.1694 - val_acc: 0.9556\n",
      "Epoch 138/300\n",
      "105/105 [==============================] - 0s 133us/step - loss: 0.1918 - acc: 0.9905 - val_loss: 0.1677 - val_acc: 0.9556\n",
      "Epoch 139/300\n",
      "105/105 [==============================] - 0s 122us/step - loss: 0.1892 - acc: 0.9810 - val_loss: 0.1802 - val_acc: 0.9778\n",
      "Epoch 140/300\n",
      "105/105 [==============================] - 0s 128us/step - loss: 0.1886 - acc: 0.9714 - val_loss: 0.1650 - val_acc: 0.9556\n",
      "Epoch 141/300\n",
      "105/105 [==============================] - 0s 140us/step - loss: 0.1876 - acc: 0.9905 - val_loss: 0.1625 - val_acc: 0.9556\n",
      "Epoch 142/300\n",
      "105/105 [==============================] - 0s 130us/step - loss: 0.1843 - acc: 0.9905 - val_loss: 0.1632 - val_acc: 0.9556\n",
      "Epoch 143/300\n",
      "105/105 [==============================] - 0s 142us/step - loss: 0.1836 - acc: 0.9810 - val_loss: 0.1793 - val_acc: 0.9333\n",
      "Epoch 144/300\n",
      "105/105 [==============================] - 0s 145us/step - loss: 0.1833 - acc: 0.9619 - val_loss: 0.1602 - val_acc: 0.9556\n",
      "Epoch 145/300\n",
      "105/105 [==============================] - 0s 134us/step - loss: 0.1794 - acc: 0.9905 - val_loss: 0.1600 - val_acc: 0.9556\n",
      "Epoch 146/300\n",
      "105/105 [==============================] - 0s 121us/step - loss: 0.1784 - acc: 0.9905 - val_loss: 0.1790 - val_acc: 0.9333\n",
      "Epoch 147/300\n",
      "105/105 [==============================] - 0s 120us/step - loss: 0.1818 - acc: 0.9714 - val_loss: 0.1554 - val_acc: 0.9556\n",
      "Epoch 148/300\n",
      "105/105 [==============================] - 0s 120us/step - loss: 0.1811 - acc: 0.9714 - val_loss: 0.1581 - val_acc: 0.9556\n",
      "Epoch 149/300\n",
      "105/105 [==============================] - 0s 125us/step - loss: 0.1731 - acc: 0.9810 - val_loss: 0.1539 - val_acc: 0.9556\n",
      "Epoch 150/300\n",
      "105/105 [==============================] - 0s 112us/step - loss: 0.1774 - acc: 0.9810 - val_loss: 0.1545 - val_acc: 0.9556\n",
      "Epoch 151/300\n",
      "105/105 [==============================] - 0s 109us/step - loss: 0.1760 - acc: 0.9810 - val_loss: 0.1582 - val_acc: 0.9778\n",
      "Epoch 152/300\n",
      "105/105 [==============================] - 0s 107us/step - loss: 0.1720 - acc: 0.9810 - val_loss: 0.1575 - val_acc: 0.9778\n",
      "Epoch 153/300\n",
      "105/105 [==============================] - 0s 122us/step - loss: 0.1731 - acc: 0.9714 - val_loss: 0.1514 - val_acc: 0.9556\n",
      "Epoch 154/300\n",
      "105/105 [==============================] - 0s 118us/step - loss: 0.1684 - acc: 0.9810 - val_loss: 0.1542 - val_acc: 0.9778\n",
      "Epoch 155/300\n",
      "105/105 [==============================] - 0s 116us/step - loss: 0.1693 - acc: 0.9905 - val_loss: 0.1533 - val_acc: 0.9778\n",
      "Epoch 156/300\n",
      "105/105 [==============================] - 0s 118us/step - loss: 0.1647 - acc: 0.9810 - val_loss: 0.1464 - val_acc: 0.9556\n",
      "Epoch 157/300\n",
      "105/105 [==============================] - 0s 112us/step - loss: 0.1678 - acc: 0.9810 - val_loss: 0.1484 - val_acc: 0.9778\n",
      "Epoch 158/300\n",
      "105/105 [==============================] - 0s 124us/step - loss: 0.1657 - acc: 0.9810 - val_loss: 0.1568 - val_acc: 0.9778\n",
      "Epoch 159/300\n",
      "105/105 [==============================] - 0s 119us/step - loss: 0.1700 - acc: 0.9619 - val_loss: 0.1612 - val_acc: 0.9333\n",
      "Epoch 160/300\n",
      "105/105 [==============================] - 0s 124us/step - loss: 0.1651 - acc: 0.9619 - val_loss: 0.1503 - val_acc: 0.9778\n",
      "Epoch 161/300\n",
      "105/105 [==============================] - 0s 124us/step - loss: 0.1643 - acc: 0.9714 - val_loss: 0.1442 - val_acc: 0.9556\n",
      "Epoch 162/300\n",
      "105/105 [==============================] - 0s 120us/step - loss: 0.1624 - acc: 0.9810 - val_loss: 0.1419 - val_acc: 0.9556\n",
      "Epoch 163/300\n",
      "105/105 [==============================] - 0s 127us/step - loss: 0.1575 - acc: 0.9810 - val_loss: 0.1543 - val_acc: 0.9556\n",
      "Epoch 164/300\n",
      "105/105 [==============================] - 0s 120us/step - loss: 0.1593 - acc: 0.9619 - val_loss: 0.1413 - val_acc: 0.9556\n",
      "Epoch 165/300\n",
      "105/105 [==============================] - 0s 127us/step - loss: 0.1566 - acc: 0.9810 - val_loss: 0.1393 - val_acc: 0.9556\n",
      "Epoch 166/300\n",
      "105/105 [==============================] - 0s 86us/step - loss: 0.1555 - acc: 0.9810 - val_loss: 0.1392 - val_acc: 0.9556\n",
      "Epoch 167/300\n",
      "105/105 [==============================] - 0s 76us/step - loss: 0.1524 - acc: 0.9810 - val_loss: 0.1373 - val_acc: 0.9556\n",
      "Epoch 168/300\n",
      "105/105 [==============================] - 0s 115us/step - loss: 0.1578 - acc: 0.9810 - val_loss: 0.1522 - val_acc: 0.9556\n",
      "Epoch 169/300\n",
      "105/105 [==============================] - 0s 104us/step - loss: 0.1543 - acc: 0.9714 - val_loss: 0.1418 - val_acc: 0.9778\n",
      "Epoch 170/300\n",
      "105/105 [==============================] - 0s 104us/step - loss: 0.1510 - acc: 0.9810 - val_loss: 0.1442 - val_acc: 0.9778\n",
      "Epoch 171/300\n",
      "105/105 [==============================] - 0s 107us/step - loss: 0.1499 - acc: 0.9810 - val_loss: 0.1354 - val_acc: 0.9556\n",
      "Epoch 172/300\n",
      "105/105 [==============================] - 0s 102us/step - loss: 0.1564 - acc: 0.9810 - val_loss: 0.1374 - val_acc: 0.9778\n",
      "Epoch 173/300\n",
      "105/105 [==============================] - 0s 123us/step - loss: 0.1471 - acc: 0.9714 - val_loss: 0.1335 - val_acc: 0.9556\n",
      "Epoch 174/300\n",
      "105/105 [==============================] - 0s 122us/step - loss: 0.1469 - acc: 0.9810 - val_loss: 0.1381 - val_acc: 0.9778\n",
      "Epoch 175/300\n",
      "105/105 [==============================] - 0s 116us/step - loss: 0.1438 - acc: 0.9810 - val_loss: 0.1311 - val_acc: 0.9556\n"
     ]
    },
    {
     "name": "stdout",
     "output_type": "stream",
     "text": [
      "Epoch 176/300\n",
      "105/105 [==============================] - 0s 126us/step - loss: 0.1428 - acc: 0.9810 - val_loss: 0.1324 - val_acc: 0.9778\n",
      "Epoch 177/300\n",
      "105/105 [==============================] - 0s 132us/step - loss: 0.1452 - acc: 0.9810 - val_loss: 0.1481 - val_acc: 0.9333\n",
      "Epoch 178/300\n",
      "105/105 [==============================] - 0s 131us/step - loss: 0.1455 - acc: 0.9714 - val_loss: 0.1289 - val_acc: 0.9556\n",
      "Epoch 179/300\n",
      "105/105 [==============================] - 0s 119us/step - loss: 0.1406 - acc: 0.9810 - val_loss: 0.1332 - val_acc: 0.9778\n",
      "Epoch 180/300\n",
      "105/105 [==============================] - 0s 129us/step - loss: 0.1423 - acc: 0.9810 - val_loss: 0.1279 - val_acc: 0.9556\n",
      "Epoch 181/300\n",
      "105/105 [==============================] - 0s 123us/step - loss: 0.1381 - acc: 0.9810 - val_loss: 0.1383 - val_acc: 0.9556\n",
      "Epoch 182/300\n",
      "105/105 [==============================] - 0s 145us/step - loss: 0.1439 - acc: 0.9619 - val_loss: 0.1265 - val_acc: 0.9556\n",
      "Epoch 183/300\n",
      "105/105 [==============================] - 0s 131us/step - loss: 0.1370 - acc: 0.9905 - val_loss: 0.1259 - val_acc: 0.9556\n",
      "Epoch 184/300\n",
      "105/105 [==============================] - 0s 132us/step - loss: 0.1377 - acc: 0.9810 - val_loss: 0.1260 - val_acc: 0.9556\n",
      "Epoch 185/300\n",
      "105/105 [==============================] - 0s 137us/step - loss: 0.1397 - acc: 0.9810 - val_loss: 0.1272 - val_acc: 0.9778\n",
      "Epoch 186/300\n",
      "105/105 [==============================] - 0s 124us/step - loss: 0.1370 - acc: 0.9714 - val_loss: 0.1244 - val_acc: 0.9556\n",
      "Epoch 187/300\n",
      "105/105 [==============================] - 0s 120us/step - loss: 0.1366 - acc: 0.9810 - val_loss: 0.1331 - val_acc: 0.9778\n",
      "Epoch 188/300\n",
      "105/105 [==============================] - 0s 120us/step - loss: 0.1344 - acc: 0.9810 - val_loss: 0.1237 - val_acc: 0.9556\n",
      "Epoch 189/300\n",
      "105/105 [==============================] - 0s 124us/step - loss: 0.1329 - acc: 0.9714 - val_loss: 0.1267 - val_acc: 0.9778\n",
      "Epoch 190/300\n",
      "105/105 [==============================] - 0s 111us/step - loss: 0.1316 - acc: 0.9810 - val_loss: 0.1243 - val_acc: 0.9778\n",
      "Epoch 191/300\n",
      "105/105 [==============================] - 0s 129us/step - loss: 0.1307 - acc: 0.9810 - val_loss: 0.1219 - val_acc: 0.9556\n",
      "Epoch 192/300\n",
      "105/105 [==============================] - 0s 137us/step - loss: 0.1321 - acc: 0.9810 - val_loss: 0.1225 - val_acc: 0.9778\n",
      "Epoch 193/300\n",
      "105/105 [==============================] - 0s 128us/step - loss: 0.1292 - acc: 0.9810 - val_loss: 0.1205 - val_acc: 0.9556\n",
      "Epoch 194/300\n",
      "105/105 [==============================] - 0s 133us/step - loss: 0.1329 - acc: 0.9810 - val_loss: 0.1241 - val_acc: 0.9778\n",
      "Epoch 195/300\n",
      "105/105 [==============================] - 0s 122us/step - loss: 0.1281 - acc: 0.9619 - val_loss: 0.1214 - val_acc: 0.9556\n",
      "Epoch 196/300\n",
      "105/105 [==============================] - 0s 108us/step - loss: 0.1402 - acc: 0.9714 - val_loss: 0.1195 - val_acc: 0.9556\n",
      "Epoch 197/300\n",
      "105/105 [==============================] - 0s 111us/step - loss: 0.1267 - acc: 0.9810 - val_loss: 0.1210 - val_acc: 0.9778\n",
      "Epoch 198/300\n",
      "105/105 [==============================] - 0s 120us/step - loss: 0.1281 - acc: 0.9714 - val_loss: 0.1180 - val_acc: 0.9556\n",
      "Epoch 199/300\n",
      "105/105 [==============================] - 0s 129us/step - loss: 0.1270 - acc: 0.9810 - val_loss: 0.1269 - val_acc: 0.9556\n",
      "Epoch 200/300\n",
      "105/105 [==============================] - 0s 124us/step - loss: 0.1256 - acc: 0.9810 - val_loss: 0.1183 - val_acc: 0.9778\n",
      "Epoch 201/300\n",
      "105/105 [==============================] - 0s 123us/step - loss: 0.1283 - acc: 0.9810 - val_loss: 0.1182 - val_acc: 0.9778\n",
      "Epoch 202/300\n",
      "105/105 [==============================] - 0s 108us/step - loss: 0.1238 - acc: 0.9905 - val_loss: 0.1163 - val_acc: 0.9556\n",
      "Epoch 203/300\n",
      "105/105 [==============================] - 0s 116us/step - loss: 0.1214 - acc: 0.9810 - val_loss: 0.1283 - val_acc: 0.9556\n",
      "Epoch 204/300\n",
      "105/105 [==============================] - 0s 106us/step - loss: 0.1257 - acc: 0.9714 - val_loss: 0.1154 - val_acc: 0.9556\n",
      "Epoch 205/300\n",
      "105/105 [==============================] - 0s 106us/step - loss: 0.1212 - acc: 0.9810 - val_loss: 0.1158 - val_acc: 0.9778\n",
      "Epoch 206/300\n",
      "105/105 [==============================] - 0s 98us/step - loss: 0.1189 - acc: 0.9905 - val_loss: 0.1159 - val_acc: 0.9556\n",
      "Epoch 207/300\n",
      "105/105 [==============================] - 0s 93us/step - loss: 0.1202 - acc: 0.9810 - val_loss: 0.1194 - val_acc: 0.9778\n",
      "Epoch 208/300\n",
      "105/105 [==============================] - 0s 92us/step - loss: 0.1208 - acc: 0.9810 - val_loss: 0.1176 - val_acc: 0.9778\n",
      "Epoch 209/300\n",
      "105/105 [==============================] - 0s 85us/step - loss: 0.1245 - acc: 0.9714 - val_loss: 0.1157 - val_acc: 0.9778\n",
      "Epoch 00209: early stopping\n"
     ]
    }
   ],
   "source": [
    "# Train the model, iterating on the data in batches of 32 samples\n",
    "history = model.fit(X_train, y_train, epochs=300, batch_size=32,\n",
    "         validation_data=(X_validation,y_validation),callbacks=[early_stopping])"
   ]
  },
  {
   "cell_type": "code",
   "execution_count": 17,
   "metadata": {
    "nbpresent": {
     "id": "e08f22c1-4346-4e2d-96a2-9974ed5c59ff"
    }
   },
   "outputs": [
    {
     "data": {
      "image/png": "[encoded data removed]",
      "text/plain": [
       "<Figure size 432x288 with 1 Axes>"
      ]
     },
     "metadata": {},
     "output_type": "display_data"
    }
   ],
   "source": [
    "plt.scatter(x=history.epoch,y=history.history['loss'],label='Training Error')\n",
    "plt.scatter(x=history.epoch,y=history.history['val_loss'],label='Validation Error')\n",
    "plt.grid(True)\n",
    "plt.xlabel('Iteration')\n",
    "plt.ylabel('Loss')\n",
    "plt.title('Training Vs Validation Error')\n",
    "plt.legend()\n",
    "plt.show()"
   ]
  },
  {
   "cell_type": "code",
   "execution_count": 18,
   "metadata": {
    "nbpresent": {
     "id": "3312675d-307c-4eff-b835-34f0e7f57924"
    }
   },
   "outputs": [],
   "source": [
    "df = pd.read_csv(validation_file,names=columns)"
   ]
  },
  {
   "cell_type": "code",
   "execution_count": 19,
   "metadata": {
    "nbpresent": {
     "id": "afad019f-88df-4893-bb3d-b7f2b7db214b"
    }
   },
   "outputs": [
    {
     "data": {
      "text/html": [
       "<div>\n",
       "<style scoped>\n",
       "    .dataframe tbody tr th:only-of-type {\n",
       "        vertical-align: middle;\n",
       "    }\n",
       "\n",
       "    .dataframe tbody tr th {\n",
       "        vertical-align: top;\n",
       "    }\n",
       "\n",
       "    .dataframe thead th {\n",
       "        text-align: right;\n",
       "    }\n",
       "</style>\n",
       "<table border=\"1\" class=\"dataframe\">\n",
       "  <thead>\n",
       "    <tr style=\"text-align: right;\">\n",
       "      <th></th>\n",
       "      <th>encoded_class</th>\n",
       "      <th>sepal_length</th>\n",
       "      <th>sepal_width</th>\n",
       "      <th>petal_length</th>\n",
       "      <th>petal_width</th>\n",
       "    </tr>\n",
       "  </thead>\n",
       "  <tbody>\n",
       "    <tr>\n",
       "      <th>0</th>\n",
       "      <td>1</td>\n",
       "      <td>5.8</td>\n",
       "      <td>2.7</td>\n",
       "      <td>4.1</td>\n",
       "      <td>1.0</td>\n",
       "    </tr>\n",
       "    <tr>\n",
       "      <th>1</th>\n",
       "      <td>0</td>\n",
       "      <td>4.8</td>\n",
       "      <td>3.4</td>\n",
       "      <td>1.6</td>\n",
       "      <td>0.2</td>\n",
       "    </tr>\n",
       "    <tr>\n",
       "      <th>2</th>\n",
       "      <td>1</td>\n",
       "      <td>6.0</td>\n",
       "      <td>2.2</td>\n",
       "      <td>4.0</td>\n",
       "      <td>1.0</td>\n",
       "    </tr>\n",
       "    <tr>\n",
       "      <th>3</th>\n",
       "      <td>2</td>\n",
       "      <td>6.4</td>\n",
       "      <td>3.1</td>\n",
       "      <td>5.5</td>\n",
       "      <td>1.8</td>\n",
       "    </tr>\n",
       "    <tr>\n",
       "      <th>4</th>\n",
       "      <td>2</td>\n",
       "      <td>6.7</td>\n",
       "      <td>2.5</td>\n",
       "      <td>5.8</td>\n",
       "      <td>1.8</td>\n",
       "    </tr>\n",
       "  </tbody>\n",
       "</table>\n",
       "</div>"
      ],
      "text/plain": [
       "   encoded_class  sepal_length  sepal_width  petal_length  petal_width\n",
       "0              1           5.8          2.7           4.1          1.0\n",
       "1              0           4.8          3.4           1.6          0.2\n",
       "2              1           6.0          2.2           4.0          1.0\n",
       "3              2           6.4          3.1           5.5          1.8\n",
       "4              2           6.7          2.5           5.8          1.8"
      ]
     },
     "execution_count": 19,
     "metadata": {},
     "output_type": "execute_result"
    }
   ],
   "source": [
    "df.head()"
   ]
  },
  {
   "cell_type": "code",
   "execution_count": 20,
   "metadata": {
    "nbpresent": {
     "id": "9b5cb70d-6069-4511-810e-fd17e72667dd"
    }
   },
   "outputs": [
    {
     "name": "stdout",
     "output_type": "stream",
     "text": [
      "[[5.8 2.7 4.1 1. ]\n",
      " [4.8 3.4 1.6 0.2]\n",
      " [6.  2.2 4.  1. ]\n",
      " [6.4 3.1 5.5 1.8]\n",
      " [6.7 2.5 5.8 1.8]]\n"
     ]
    }
   ],
   "source": [
    "X_test = df.iloc[:,1:].values\n",
    "print(X_test[:5])"
   ]
  },
  {
   "cell_type": "code",
   "execution_count": 21,
   "metadata": {
    "nbpresent": {
     "id": "f611c852-50e3-4a1a-9134-c1c6e82ad780"
    }
   },
   "outputs": [],
   "source": [
    "result = model.predict(X_test)"
   ]
  },
  {
   "cell_type": "code",
   "execution_count": 22,
   "metadata": {},
   "outputs": [
    {
     "data": {
      "text/plain": [
       "array([[0.00275748, 0.97075146, 0.02649107],\n",
       "       [0.99320364, 0.00679399, 0.00000239],\n",
       "       [0.00147304, 0.9460569 , 0.0524701 ],\n",
       "       [0.00000555, 0.2223326 , 0.77766186],\n",
       "       [0.00000016, 0.04661327, 0.95338655]], dtype=float32)"
      ]
     },
     "execution_count": 22,
     "metadata": {},
     "output_type": "execute_result"
    }
   ],
   "source": [
    "# Probability of a sample belonging to the three classes\n",
    "# Sample can belong to only class and the sum of the three probabilities is 1.\n",
    "np.set_printoptions(suppress=True)\n",
    "result[:5]"
   ]
  },
  {
   "cell_type": "code",
   "execution_count": 23,
   "metadata": {},
   "outputs": [],
   "source": [
    "# reset print options\n",
    "np.set_printoptions()"
   ]
  },
  {
   "cell_type": "code",
   "execution_count": 24,
   "metadata": {
    "nbpresent": {
     "id": "2c573c2b-4143-4e01-b107-e6b871ce0249"
    }
   },
   "outputs": [],
   "source": [
    "df['predicted_class'] = np.argmax(result,axis=1)"
   ]
  },
  {
   "cell_type": "code",
   "execution_count": 25,
   "metadata": {
    "nbpresent": {
     "id": "5ad0fa04-6896-46b5-bc23-40d61480d7ca"
    }
   },
   "outputs": [
    {
     "data": {
      "text/html": [
       "<div>\n",
       "<style scoped>\n",
       "    .dataframe tbody tr th:only-of-type {\n",
       "        vertical-align: middle;\n",
       "    }\n",
       "\n",
       "    .dataframe tbody tr th {\n",
       "        vertical-align: top;\n",
       "    }\n",
       "\n",
       "    .dataframe thead th {\n",
       "        text-align: right;\n",
       "    }\n",
       "</style>\n",
       "<table border=\"1\" class=\"dataframe\">\n",
       "  <thead>\n",
       "    <tr style=\"text-align: right;\">\n",
       "      <th></th>\n",
       "      <th>encoded_class</th>\n",
       "      <th>sepal_length</th>\n",
       "      <th>sepal_width</th>\n",
       "      <th>petal_length</th>\n",
       "      <th>petal_width</th>\n",
       "      <th>predicted_class</th>\n",
       "    </tr>\n",
       "  </thead>\n",
       "  <tbody>\n",
       "    <tr>\n",
       "      <th>0</th>\n",
       "      <td>1</td>\n",
       "      <td>5.8</td>\n",
       "      <td>2.7</td>\n",
       "      <td>4.1</td>\n",
       "      <td>1.0</td>\n",
       "      <td>1</td>\n",
       "    </tr>\n",
       "    <tr>\n",
       "      <th>1</th>\n",
       "      <td>0</td>\n",
       "      <td>4.8</td>\n",
       "      <td>3.4</td>\n",
       "      <td>1.6</td>\n",
       "      <td>0.2</td>\n",
       "      <td>0</td>\n",
       "    </tr>\n",
       "    <tr>\n",
       "      <th>2</th>\n",
       "      <td>1</td>\n",
       "      <td>6.0</td>\n",
       "      <td>2.2</td>\n",
       "      <td>4.0</td>\n",
       "      <td>1.0</td>\n",
       "      <td>1</td>\n",
       "    </tr>\n",
       "    <tr>\n",
       "      <th>3</th>\n",
       "      <td>2</td>\n",
       "      <td>6.4</td>\n",
       "      <td>3.1</td>\n",
       "      <td>5.5</td>\n",
       "      <td>1.8</td>\n",
       "      <td>2</td>\n",
       "    </tr>\n",
       "    <tr>\n",
       "      <th>4</th>\n",
       "      <td>2</td>\n",
       "      <td>6.7</td>\n",
       "      <td>2.5</td>\n",
       "      <td>5.8</td>\n",
       "      <td>1.8</td>\n",
       "      <td>2</td>\n",
       "    </tr>\n",
       "  </tbody>\n",
       "</table>\n",
       "</div>"
      ],
      "text/plain": [
       "   encoded_class  sepal_length  sepal_width  petal_length  petal_width  \\\n",
       "0              1           5.8          2.7           4.1          1.0   \n",
       "1              0           4.8          3.4           1.6          0.2   \n",
       "2              1           6.0          2.2           4.0          1.0   \n",
       "3              2           6.4          3.1           5.5          1.8   \n",
       "4              2           6.7          2.5           5.8          1.8   \n",
       "\n",
       "   predicted_class  \n",
       "0                1  \n",
       "1                0  \n",
       "2                1  \n",
       "3                2  \n",
       "4                2  "
      ]
     },
     "execution_count": 25,
     "metadata": {},
     "output_type": "execute_result"
    }
   ],
   "source": [
    "df.head()"
   ]
  },
  {
   "cell_type": "markdown",
   "metadata": {},
   "source": [
    "<h2>Confusion Matrix</h2>\n",
    "Confusion Matrix is a table that summarizes performance of classification model.<br><br>"
   ]
  },
  {
   "cell_type": "code",
   "execution_count": 26,
   "metadata": {},
   "outputs": [],
   "source": [
    "# Reference: \n",
    "# https://scikit-learn.org/stable/auto_examples/model_selection/plot_confusion_matrix.html\n",
    "def plot_confusion_matrix(cm, classes,\n",
    "                          normalize=False,\n",
    "                          title='Confusion matrix',\n",
    "                          cmap=plt.cm.Blues):\n",
    "    \"\"\"\n",
    "    This function prints and plots the confusion matrix.\n",
    "    Normalization can be applied by setting `normalize=True`.\n",
    "    \"\"\"\n",
    "    if normalize:\n",
    "        cm = cm.astype('float') / cm.sum(axis=1)[:, np.newaxis]\n",
    "        #print(\"Normalized confusion matrix\")\n",
    "    #else:\n",
    "    #    print('Confusion matrix, without normalization')\n",
    "\n",
    "    #print(cm)\n",
    "\n",
    "    plt.imshow(cm, interpolation='nearest', cmap=cmap)\n",
    "    plt.title(title)\n",
    "    plt.colorbar()\n",
    "    tick_marks = np.arange(len(classes))\n",
    "    plt.xticks(tick_marks, classes, rotation=45)\n",
    "    plt.yticks(tick_marks, classes)\n",
    "\n",
    "    fmt = '.2f' if normalize else 'd'\n",
    "    thresh = cm.max() / 2.\n",
    "    for i, j in itertools.product(range(cm.shape[0]), range(cm.shape[1])):\n",
    "        plt.text(j, i, format(cm[i, j], fmt),\n",
    "                 horizontalalignment=\"center\",\n",
    "                 color=\"white\" if cm[i, j] > thresh else \"black\")\n",
    "\n",
    "    plt.ylabel('True label')\n",
    "    plt.xlabel('Predicted label')\n",
    "    plt.tight_layout()"
   ]
  },
  {
   "cell_type": "code",
   "execution_count": 27,
   "metadata": {},
   "outputs": [],
   "source": [
    "# Compute confusion matrix\n",
    "cnf_matrix = confusion_matrix(df['encoded_class'],\n",
    "                              df['predicted_class'],labels=labels)"
   ]
  },
  {
   "cell_type": "code",
   "execution_count": 28,
   "metadata": {},
   "outputs": [
    {
     "data": {
      "text/plain": [
       "array([[16,  0,  0],\n",
       "       [ 0, 10,  1],\n",
       "       [ 0,  0, 18]])"
      ]
     },
     "execution_count": 28,
     "metadata": {},
     "output_type": "execute_result"
    }
   ],
   "source": [
    "cnf_matrix"
   ]
  },
  {
   "cell_type": "code",
   "execution_count": 29,
   "metadata": {},
   "outputs": [
    {
     "data": {
      "image/png": "[encoded data removed]",
      "text/plain": [
       "<Figure size 432x288 with 2 Axes>"
      ]
     },
     "metadata": {},
     "output_type": "display_data"
    }
   ],
   "source": [
    "# Plot confusion matrix\n",
    "plt.figure()\n",
    "plot_confusion_matrix(cnf_matrix, classes=classes,\n",
    "                      title='Confusion matrix - Count')"
   ]
  },
  {
   "cell_type": "code",
   "execution_count": 30,
   "metadata": {},
   "outputs": [
    {
     "data": {
      "image/png": "[encoded data removed]",
      "text/plain": [
       "<Figure size 432x288 with 2 Axes>"
      ]
     },
     "metadata": {},
     "output_type": "display_data"
    }
   ],
   "source": [
    "# Plot confusion matrix\n",
    "plt.figure()\n",
    "plot_confusion_matrix(cnf_matrix, classes=classes,\n",
    "                      title='Confusion matrix - Count',normalize=True)"
   ]
  },
  {
   "cell_type": "code",
   "execution_count": 31,
   "metadata": {},
   "outputs": [
    {
     "name": "stdout",
     "output_type": "stream",
     "text": [
      "                 precision    recall  f1-score   support\n",
      "\n",
      "    Iris-setosa       1.00      1.00      1.00        16\n",
      "Iris-versicolor       1.00      0.91      0.95        11\n",
      " Iris-virginica       0.95      1.00      0.97        18\n",
      "\n",
      "       accuracy                           0.98        45\n",
      "      macro avg       0.98      0.97      0.98        45\n",
      "   weighted avg       0.98      0.98      0.98        45\n",
      "\n"
     ]
    }
   ],
   "source": [
    "print(classification_report(\n",
    "    df['encoded_class'],\n",
    "    df['predicted_class'],\n",
    "    labels=labels,\n",
    "    target_names=classes))"
   ]
  },
  {
   "cell_type": "code",
   "execution_count": null,
   "metadata": {},
   "outputs": [],
   "source": []
  }
 ],
 "metadata": {
  "kernelspec": {
   "display_name": "conda_tensorflow_p36",
   "language": "python",
   "name": "conda_tensorflow_p36"
  },
  "language_info": {
   "codemirror_mode": {
    "name": "ipython",
    "version": 3
   },
   "file_extension": ".py",
   "mimetype": "text/x-python",
   "name": "python",
   "nbconvert_exporter": "python",
   "pygments_lexer": "ipython3",
   "version": "3.6.5"
  }
 },
 "nbformat": 4,
 "nbformat_minor": 2
}
