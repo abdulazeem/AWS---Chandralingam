{
 "cells": [
  {
   "cell_type": "markdown",
   "metadata": {},
   "source": [
    "## Evaluating Performance of a Binary Classifier\n",
    "Binary Model is used for predicting a binary outcome (Pass/Fail, 1/0, True/False).\n",
    "\n",
    "Some algorithms output a raw score that indicates probability of a sample belonging to positive class.\n",
    "\n",
    "<q><i>The actual output of many binary classification algorithms is a prediction score. The score indicates the system’s certainty that the given observation belongs to the positive class</i></q><br>\n",
    "Reference:\n",
    "https://docs.aws.amazon.com/machine-learning/latest/dg/binary-classification.html\n",
    "\n",
    "To convert this raw score to a positive or negative class, we need to specify a cut-off. A sample with score greater than the cut-off is classified as positive class and a sample with score less than the cut-off is classified as negative class.\n",
    "\n",
    "To find out how good the model predictions are, we need to check predictions against previously unseen samples that were not used for training.  Usually, 30% of the available samples are reserved for testing while remaining 70% of samples are used for training. \n",
    "\n",
    "By comparing predicted values against known results in test data, we can assess overall model performance<br>\n",
    "\n",
    "In this first part, let's look at common metrics used for evaluating binary classifier performance.\n",
    "\n",
    "In the second part, we will look at algorithms that produce raw scores and how model performs at different cut-off thresholds.\n",
    "\n",
    "Common Techniques for evaluating performance:<br>\n",
    "<li>Visually observe using Plots</li>\n",
    "<li>Confusion Matrix</li>\n",
    "<li>Evaluate with Metrics like Recall, Precision, Accuracy, False Alarm, F1-score, AUC Score</li> \n",
    "\n",
    "<p>While Plots are good for humans to visually observe the results, we often need a single metric that can indicate quality of a model. This can be useful for programmatically identifying which model is performing better (for example: using automatic model tuning to select the best performing model)</p>\n",
    "\n",
    "Reference:<br>https://docs.aws.amazon.com/machine-learning/latest/dg/binary-classification.html<br>\n",
    "Confusion Matrix:<br>https://en.wikipedia.org/wiki/Confusion_matrix<br>"
   ]
  },
  {
   "cell_type": "markdown",
   "metadata": {},
   "source": [
    "<h2>Binary Classifier Metrics</h2>\n",
    "positive = number of actual positives (count)<br>\n",
    "negative = number of actual negatives (count)<br>\n",
    "\n",
    "True Positive = tp = how many samples were correctly classified as positive (count)<br>\n",
    "True Negative = tn = how many samples were correctly classified as negative (count)<br>\n",
    "False Positive = fp = how many negative samples were mis-classified as positive (count)<br>\n",
    "False Negative = fn = how many positive samples were mis-classified as negative (count)<br>\n",
    "\n",
    "<h4>True Positive Rate (TPR, Recall, Probability of detection) = True Positive/Positive</h4>\n",
    "How many positives were correctly classified? (fraction)<br>\n",
    "Recall value closer to 1 is better. closer to 0 is worse\n",
    "\n",
    "<i>Example: Radar Operator watching the skies for enemy planes.\n",
    "    \n",
    " Positive Class = Enemy Plane\n",
    " \n",
    " Negative Class = Friendly Plane\n",
    "\n",
    "True Positive Rate or Probability of detection – is the probability of correctly classifying an enemy plane\n",
    "</i>\n",
    "\n",
    "<h4>True Negative Rate = True Negative/Negative</h4>\n",
    "How many negatives were correctly classified? (fraction)<br>\n",
    "True Negative Rate value closer to 1 is better. closer to 0 is worse\n",
    "\n",
    "<i>True negative rate – is the probability of correctly classifying a friendly plane</i>\n",
    "   \n",
    "<h4>False Positive Rate (FPR, Probability of false alarm) = False Positive/Negative</h4>\n",
    "How many negatives were mis-classified as positives (fraction)<br>\n",
    "False Positive Rate value closer to 0 is better. closer to 1 is worse    \n",
    "\n",
    "<i>Another name for this is Probability of false alarm – is the probability of mis-classifying a friendly plane as an enemy plane</i>\n",
    "    \n",
    "<h4>False Negative Rate (FNR, Misses) = False Negative/Positive</h4>\n",
    "How many positives were mis-classified as negative (fraction)<br>\n",
    "False Negative Rate value closer to 0 is better. closer to 1 is worse    \n",
    "    \n",
    "<i>False Negative Rate - is the probability of mis-classifying an enemy plane as a friendly plane</i>\n",
    "\n",
    "<h4>Precision = True Positive/(True Positive + False Positive)</h4>\n",
    "How many positives classified by the algorithm are really positives? (fraction)<br>\n",
    "Precision value closer to 1 is better. closer to 0 is worse\n",
    "\n",
    "<i>Precision would go up as enemy planes are correctly identified, while minimizing false alarm</i>\n",
    "    \n",
    "<h4>Accuracy = (True Positive + True Negative)/(Positive + Negative)</h4>\n",
    "How many positives and negatives were correctly classified? (fraction)<br>\n",
    "Accuracy value closer to 1 is better. closer to 0 is worse\n",
    "        \n",
    "<i>Accuracy would go up when enemy planes and friendly planes are correctly identified</i>\n",
    "\n",
    "<h4>F1 Score = harmonic mean of Precision and Recall =  2*Precision*Recall / (Precision + Recall)</h4>\n",
    "F1 Score closer to 1 is better. Closer to 0 is worse.\n",
    "\n",
    "Reference:   \n",
    "Harmonic Mean - https://en.wikipedia.org/wiki/Harmonic_mean <br>\n",
    "Confusion Matrix - https://en.wikipedia.org/wiki/Confusion_matrix"
   ]
  },
  {
   "cell_type": "code",
   "execution_count": 1,
   "metadata": {},
   "outputs": [],
   "source": [
    "import pandas as pd\n",
    "import numpy as np\n",
    "import matplotlib.pyplot as plt\n",
    "import itertools"
   ]
  },
  {
   "cell_type": "markdown",
   "metadata": {},
   "source": [
    "<h2>Exam Result Data set</h2>\n",
    "<h3>Columns</h3>\n",
    "<li>Pass = Actual Pass or Fail for the sample. Pass=1, Fail=0</li>\n",
    "<li>Model1_Prediction = Predicted Pass or Fail by model 1</li>\n",
    "<li>Model2_Prediction = Predicted Pass or Fail by model 2</li>\n",
    "<li>Model3_Prediction = Predicted Pass or Fail by model 3</li>\n",
    "<li>Model4_Prediction = Predicted Pass or Fail by model 4</li>\n",
    "<p>We are going to compare performance of these four models</p>\n",
    "\n",
    "Hours Spent and Exam Result (Pass/Fail) Data set:<br>\n",
    "https://en.wikipedia.org/wiki/Logistic_regression"
   ]
  },
  {
   "cell_type": "code",
   "execution_count": 2,
   "metadata": {},
   "outputs": [],
   "source": [
    "models = ['Model 1','Model 2', 'Model 3', 'Model 4']\n",
    "df = pd.read_csv('HoursExamSample.csv')"
   ]
  },
  {
   "cell_type": "code",
   "execution_count": 3,
   "metadata": {},
   "outputs": [
    {
     "data": {
      "text/html": [
       "<div>\n",
       "<style scoped>\n",
       "    .dataframe tbody tr th:only-of-type {\n",
       "        vertical-align: middle;\n",
       "    }\n",
       "\n",
       "    .dataframe tbody tr th {\n",
       "        vertical-align: top;\n",
       "    }\n",
       "\n",
       "    .dataframe thead th {\n",
       "        text-align: right;\n",
       "    }\n",
       "</style>\n",
       "<table border=\"1\" class=\"dataframe\">\n",
       "  <thead>\n",
       "    <tr style=\"text-align: right;\">\n",
       "      <th></th>\n",
       "      <th>Hours</th>\n",
       "      <th>Pass</th>\n",
       "      <th>Model1_Prediction</th>\n",
       "      <th>Model2_Prediction</th>\n",
       "      <th>Model3_Prediction</th>\n",
       "      <th>Model4_Prediction</th>\n",
       "    </tr>\n",
       "  </thead>\n",
       "  <tbody>\n",
       "    <tr>\n",
       "      <th>0</th>\n",
       "      <td>0.50</td>\n",
       "      <td>0</td>\n",
       "      <td>0</td>\n",
       "      <td>0</td>\n",
       "      <td>0</td>\n",
       "      <td>1</td>\n",
       "    </tr>\n",
       "    <tr>\n",
       "      <th>1</th>\n",
       "      <td>0.75</td>\n",
       "      <td>0</td>\n",
       "      <td>0</td>\n",
       "      <td>0</td>\n",
       "      <td>0</td>\n",
       "      <td>1</td>\n",
       "    </tr>\n",
       "    <tr>\n",
       "      <th>2</th>\n",
       "      <td>1.00</td>\n",
       "      <td>0</td>\n",
       "      <td>0</td>\n",
       "      <td>0</td>\n",
       "      <td>0</td>\n",
       "      <td>1</td>\n",
       "    </tr>\n",
       "    <tr>\n",
       "      <th>3</th>\n",
       "      <td>1.25</td>\n",
       "      <td>0</td>\n",
       "      <td>0</td>\n",
       "      <td>0</td>\n",
       "      <td>0</td>\n",
       "      <td>1</td>\n",
       "    </tr>\n",
       "    <tr>\n",
       "      <th>4</th>\n",
       "      <td>1.50</td>\n",
       "      <td>0</td>\n",
       "      <td>0</td>\n",
       "      <td>0</td>\n",
       "      <td>0</td>\n",
       "      <td>1</td>\n",
       "    </tr>\n",
       "    <tr>\n",
       "      <th>5</th>\n",
       "      <td>1.75</td>\n",
       "      <td>0</td>\n",
       "      <td>1</td>\n",
       "      <td>0</td>\n",
       "      <td>0</td>\n",
       "      <td>1</td>\n",
       "    </tr>\n",
       "    <tr>\n",
       "      <th>6</th>\n",
       "      <td>1.75</td>\n",
       "      <td>1</td>\n",
       "      <td>1</td>\n",
       "      <td>0</td>\n",
       "      <td>0</td>\n",
       "      <td>1</td>\n",
       "    </tr>\n",
       "    <tr>\n",
       "      <th>7</th>\n",
       "      <td>2.00</td>\n",
       "      <td>0</td>\n",
       "      <td>1</td>\n",
       "      <td>0</td>\n",
       "      <td>0</td>\n",
       "      <td>1</td>\n",
       "    </tr>\n",
       "    <tr>\n",
       "      <th>8</th>\n",
       "      <td>2.25</td>\n",
       "      <td>1</td>\n",
       "      <td>1</td>\n",
       "      <td>0</td>\n",
       "      <td>0</td>\n",
       "      <td>1</td>\n",
       "    </tr>\n",
       "    <tr>\n",
       "      <th>9</th>\n",
       "      <td>2.50</td>\n",
       "      <td>0</td>\n",
       "      <td>1</td>\n",
       "      <td>0</td>\n",
       "      <td>0</td>\n",
       "      <td>1</td>\n",
       "    </tr>\n",
       "    <tr>\n",
       "      <th>10</th>\n",
       "      <td>2.75</td>\n",
       "      <td>1</td>\n",
       "      <td>1</td>\n",
       "      <td>0</td>\n",
       "      <td>0</td>\n",
       "      <td>1</td>\n",
       "    </tr>\n",
       "    <tr>\n",
       "      <th>11</th>\n",
       "      <td>3.00</td>\n",
       "      <td>0</td>\n",
       "      <td>1</td>\n",
       "      <td>0</td>\n",
       "      <td>0</td>\n",
       "      <td>1</td>\n",
       "    </tr>\n",
       "    <tr>\n",
       "      <th>12</th>\n",
       "      <td>3.25</td>\n",
       "      <td>1</td>\n",
       "      <td>1</td>\n",
       "      <td>0</td>\n",
       "      <td>1</td>\n",
       "      <td>1</td>\n",
       "    </tr>\n",
       "    <tr>\n",
       "      <th>13</th>\n",
       "      <td>3.50</td>\n",
       "      <td>0</td>\n",
       "      <td>1</td>\n",
       "      <td>0</td>\n",
       "      <td>1</td>\n",
       "      <td>1</td>\n",
       "    </tr>\n",
       "    <tr>\n",
       "      <th>14</th>\n",
       "      <td>4.00</td>\n",
       "      <td>1</td>\n",
       "      <td>1</td>\n",
       "      <td>0</td>\n",
       "      <td>1</td>\n",
       "      <td>1</td>\n",
       "    </tr>\n",
       "    <tr>\n",
       "      <th>15</th>\n",
       "      <td>4.25</td>\n",
       "      <td>1</td>\n",
       "      <td>1</td>\n",
       "      <td>0</td>\n",
       "      <td>1</td>\n",
       "      <td>1</td>\n",
       "    </tr>\n",
       "    <tr>\n",
       "      <th>16</th>\n",
       "      <td>4.50</td>\n",
       "      <td>1</td>\n",
       "      <td>1</td>\n",
       "      <td>0</td>\n",
       "      <td>1</td>\n",
       "      <td>1</td>\n",
       "    </tr>\n",
       "    <tr>\n",
       "      <th>17</th>\n",
       "      <td>4.75</td>\n",
       "      <td>1</td>\n",
       "      <td>1</td>\n",
       "      <td>0</td>\n",
       "      <td>1</td>\n",
       "      <td>1</td>\n",
       "    </tr>\n",
       "    <tr>\n",
       "      <th>18</th>\n",
       "      <td>5.00</td>\n",
       "      <td>1</td>\n",
       "      <td>1</td>\n",
       "      <td>0</td>\n",
       "      <td>1</td>\n",
       "      <td>1</td>\n",
       "    </tr>\n",
       "    <tr>\n",
       "      <th>19</th>\n",
       "      <td>5.50</td>\n",
       "      <td>1</td>\n",
       "      <td>1</td>\n",
       "      <td>0</td>\n",
       "      <td>1</td>\n",
       "      <td>1</td>\n",
       "    </tr>\n",
       "  </tbody>\n",
       "</table>\n",
       "</div>"
      ],
      "text/plain": [
       "    Hours  Pass  Model1_Prediction  Model2_Prediction  Model3_Prediction  \\\n",
       "0    0.50     0                  0                  0                  0   \n",
       "1    0.75     0                  0                  0                  0   \n",
       "2    1.00     0                  0                  0                  0   \n",
       "3    1.25     0                  0                  0                  0   \n",
       "4    1.50     0                  0                  0                  0   \n",
       "5    1.75     0                  1                  0                  0   \n",
       "6    1.75     1                  1                  0                  0   \n",
       "7    2.00     0                  1                  0                  0   \n",
       "8    2.25     1                  1                  0                  0   \n",
       "9    2.50     0                  1                  0                  0   \n",
       "10   2.75     1                  1                  0                  0   \n",
       "11   3.00     0                  1                  0                  0   \n",
       "12   3.25     1                  1                  0                  1   \n",
       "13   3.50     0                  1                  0                  1   \n",
       "14   4.00     1                  1                  0                  1   \n",
       "15   4.25     1                  1                  0                  1   \n",
       "16   4.50     1                  1                  0                  1   \n",
       "17   4.75     1                  1                  0                  1   \n",
       "18   5.00     1                  1                  0                  1   \n",
       "19   5.50     1                  1                  0                  1   \n",
       "\n",
       "    Model4_Prediction  \n",
       "0                   1  \n",
       "1                   1  \n",
       "2                   1  \n",
       "3                   1  \n",
       "4                   1  \n",
       "5                   1  \n",
       "6                   1  \n",
       "7                   1  \n",
       "8                   1  \n",
       "9                   1  \n",
       "10                  1  \n",
       "11                  1  \n",
       "12                  1  \n",
       "13                  1  \n",
       "14                  1  \n",
       "15                  1  \n",
       "16                  1  \n",
       "17                  1  \n",
       "18                  1  \n",
       "19                  1  "
      ]
     },
     "execution_count": 3,
     "metadata": {},
     "output_type": "execute_result"
    }
   ],
   "source": [
    "df"
   ]
  },
  {
   "cell_type": "markdown",
   "metadata": {},
   "source": [
    "## Plot Data\n",
    "Compare performance visually <br>"
   ]
  },
  {
   "cell_type": "code",
   "execution_count": 4,
   "metadata": {},
   "outputs": [
    {
     "data": {
      "image/png": "[encoded data removed]",
      "text/plain": [
       "<Figure size 432x288 with 1 Axes>"
      ]
     },
     "metadata": {},
     "output_type": "display_data"
    }
   ],
   "source": [
    "plt.figure()\n",
    "plt.scatter(df['Hours'],df['Pass'],label='Actual')\n",
    "plt.legend(loc=7)\n",
    "plt.yticks([0,1])\n",
    "plt.xlabel('Hours')\n",
    "plt.ylabel('Pass / Fail')\n",
    "plt.show()"
   ]
  },
  {
   "cell_type": "code",
   "execution_count": 5,
   "metadata": {},
   "outputs": [
    {
     "data": {
      "image/png": "[encoded data removed]",
      "text/plain": [
       "<Figure size 432x288 with 1 Axes>"
      ]
     },
     "metadata": {},
     "output_type": "display_data"
    }
   ],
   "source": [
    "# Compare performance of Actual and Model 1 Prediction\n",
    "plt.figure()\n",
    "plt.scatter(df['Hours'],df['Pass'],label='Actual')\n",
    "plt.scatter(df['Hours'],df['Model1_Prediction'],label='Model 1',marker='^')\n",
    "plt.legend(loc=7)\n",
    "plt.yticks([0,1])\n",
    "plt.xlabel('Hours')\n",
    "plt.ylabel('Pass / Fail')\n",
    "plt.show()"
   ]
  },
  {
   "cell_type": "code",
   "execution_count": 6,
   "metadata": {},
   "outputs": [
    {
     "data": {
      "image/png": "[encoded data removed]",
      "text/plain": [
       "<Figure size 720x720 with 4 Axes>"
      ]
     },
     "metadata": {},
     "output_type": "display_data"
    }
   ],
   "source": [
    "plt.figure(figsize=(10,10))\n",
    "\n",
    "for idx, model in enumerate(models):\n",
    "    plt.subplot(2,2,idx+1)\n",
    "    \n",
    "    plt.scatter(df['Hours'],df['Pass'],label='Actual')\n",
    "    plt.scatter(df['Hours'],df[model.replace(' ','') + '_Prediction'],\n",
    "                label=model,marker='^')\n",
    "    plt.yticks([0,1])\n",
    "    plt.legend(loc=7)\n",
    "    plt.xlabel('Hours')\n",
    "    plt.ylabel('Pass / Fail')"
   ]
  },
  {
   "cell_type": "markdown",
   "metadata": {},
   "source": [
    "From the plots, we can observe that:<br>\n",
    "<li>Model 1 is classifying samples as Pass if hours spent studying is greater than 1.5 hours</li>\n",
    "<li>Model 2 is classifying all samples as Fail</li>\n",
    "<li>Model 3 is classifying samples as Pass if hours spent studying is around 3 hours or more</li>\n",
    "<li>Model 4 is classfying all samples as Pass</li>\n"
   ]
  },
  {
   "cell_type": "markdown",
   "metadata": {},
   "source": [
    "<h2>Confusion Matrix</h2>\n",
    "Confusion Matrix is a table that summarizes performance of classification model.<br><br>\n",
    "It summarizes predictions into four categories:<br>\n",
    "True Positive = tp = how many samples were correctly classified as positive (count)<br>\n",
    "True Negative = tn = how many samples were correctly classified as negative (count)<br>\n",
    "False Positive = fp = how many negative samples were mis-classified as positive (count)<br>\n",
    "False Negative = fn = how many positive samples were mis-classified as negative (count)<br>\n",
    "<br>\n",
    "Using these four metrics, we can derive other useful metrics like Recall, Precision, Accuracy, F1-Score and so forth.<br>\n",
    "<br>\n",
    "Reference:<br>\n",
    "https://en.wikipedia.org/wiki/Confusion_matrix"
   ]
  },
  {
   "cell_type": "code",
   "execution_count": 7,
   "metadata": {},
   "outputs": [],
   "source": [
    "from sklearn.metrics import classification_report, confusion_matrix"
   ]
  },
  {
   "cell_type": "code",
   "execution_count": 8,
   "metadata": {},
   "outputs": [],
   "source": [
    "# Compute confusion matrix\n",
    "# Compare Actual Vs Model 1 Predictions\n",
    "cnf_matrix = confusion_matrix(df['Pass'],df['Model1_Prediction'],labels=[1,0])"
   ]
  },
  {
   "cell_type": "code",
   "execution_count": 9,
   "metadata": {},
   "outputs": [
    {
     "data": {
      "text/plain": [
       "array([[10,  0],\n",
       "       [ 5,  5]])"
      ]
     },
     "execution_count": 9,
     "metadata": {},
     "output_type": "execute_result"
    }
   ],
   "source": [
    "cnf_matrix"
   ]
  },
  {
   "cell_type": "code",
   "execution_count": 10,
   "metadata": {},
   "outputs": [],
   "source": [
    "# Reference: https://scikit-learn.org/stable/modules/model_evaluation.html\n",
    "# Explicitly stating labels. Pass=1, Fail=0\n",
    "def true_positive(y_true, y_pred): \n",
    "    return confusion_matrix(y_true, y_pred,labels=[1,0])[0, 0]\n",
    "\n",
    "def true_negative(y_true, y_pred): \n",
    "    return confusion_matrix(y_true,y_pred,labels=[1,0])[1, 1]\n",
    "\n",
    "def false_positive(y_true, y_pred): \n",
    "    return confusion_matrix(y_true, y_pred,labels=[1,0])[1, 0]\n",
    "\n",
    "def false_negative(y_true, y_pred): \n",
    "    return confusion_matrix(y_true, y_pred,labels=[1,0])[0, 1]"
   ]
  },
  {
   "cell_type": "code",
   "execution_count": 11,
   "metadata": {},
   "outputs": [],
   "source": [
    "# Compute Binary Classifier Metrics\n",
    "# Returns a dictionary {\"MetricName\":Value,...}\n",
    "\n",
    "def binary_classifier_metrics(y_true, y_pred):\n",
    "    metrics = {}\n",
    "\n",
    "    # References: \n",
    "    #  https://docs.aws.amazon.com/machine-learning/latest/dg/binary-classification.html\n",
    "    #  https://en.wikipedia.org/wiki/Confusion_matrix\n",
    "    \n",
    "    # Definition:\n",
    "    # true positive = tp = how many samples were correctly classified as positive (count)\n",
    "    # true negative = tn = how many samples were correctly classified as negative (count)\n",
    "    # false positive = fp = how many negative samples were mis-classified as positive (count)\n",
    "    # false_negative = fn = how many positive samples were mis-classified as negative (count)\n",
    "    \n",
    "    # positive = number of positive samples (count)\n",
    "    #          = true positive + false negative\n",
    "    # negative = number of negative samples (count)\n",
    "    #          = true negative + false positive\n",
    "    \n",
    "    tp = true_positive(y_true, y_pred)\n",
    "    tn = true_negative(y_true, y_pred)\n",
    "    fp = false_positive(y_true, y_pred)\n",
    "    fn = false_negative(y_true, y_pred)\n",
    "    \n",
    "    positive = tp + fn\n",
    "    negative = tn + fp\n",
    "    \n",
    "    metrics['TruePositive'] = tp\n",
    "    metrics['TrueNegative'] = tn\n",
    "    metrics['FalsePositive'] = fp\n",
    "    metrics['FalseNegative'] = fn\n",
    "    \n",
    "    metrics['Positive'] = positive\n",
    "    metrics['Negative'] = negative\n",
    "    \n",
    "    # True Positive Rate (TPR, Recall) = true positive/positive\n",
    "    # How many positives were correctly classified? (fraction)\n",
    "    # Recall value closer to 1 is better. closer to 0 is worse\n",
    "    if tp == 0:\n",
    "        recall = 0\n",
    "    else:\n",
    "        recall = tp/positive\n",
    "        \n",
    "    metrics['Recall'] = recall\n",
    "    \n",
    "    # True Negative Rate = True Negative/negative\n",
    "    # How many negatives were correctly classified? (fraction)\n",
    "    # True Negative Rate value closer to 1 is better. closer to 0 is worse\n",
    "    if tn == 0:\n",
    "        tnr = 0\n",
    "    else:\n",
    "        tnr = tn/(negative)\n",
    "    metrics['TrueNegativeRate'] = tnr\n",
    "    \n",
    "    # Precision = True Positive/(True Positive + False Positive)\n",
    "    # How many positives classified by the algorithm are really positives? (fraction)\n",
    "    # Precision value closer to 1 is better. closer to 0 is worse\n",
    "    if tp == 0:\n",
    "        precision = 0\n",
    "    else:\n",
    "        precision = tp/(tp + fp)\n",
    "    metrics['Precision'] = precision\n",
    "    \n",
    "    # Accuracy = (True Positive + True Negative)/(total positive + total negative)\n",
    "    # How many positives and negatives were correctly classified? (fraction)\n",
    "    # Accuracy value closer to 1 is better. closer to 0 is worse\n",
    "    accuracy = (tp + tn)/(positive + negative)\n",
    "    metrics['Accuracy'] = accuracy\n",
    "    \n",
    "    # False Positive Rate (FPR, False Alarm) = False Positive/(total negative)\n",
    "    # How many negatives were mis-classified as positives (fraction)\n",
    "    # False Positive Rate value closer to 0 is better. closer to 1 is worse\n",
    "    if fp == 0:\n",
    "        fpr = 0\n",
    "    else:\n",
    "        fpr = fp/(negative)\n",
    "    metrics['FalsePositiveRate'] = fpr\n",
    "    \n",
    "    # False Negative Rate (FNR, Misses) = False Negative/(total Positive)\n",
    "    # How many positives were mis-classified as negative (fraction)\n",
    "    # False Negative Rate value closer to 0 is better. closer to 1 is worse\n",
    "    fnr = fn/(positive)\n",
    "    metrics['FalseNegativeRate'] = fnr\n",
    "    \n",
    "    # F1 Score = harmonic mean of Precision and Recall\n",
    "    # F1 Score closer to 1 is better. Closer to 0 is worse.\n",
    "    if precision == 0 or recall == 0:\n",
    "        f1 = 0\n",
    "    else:        \n",
    "        f1 = 2*precision*recall/(precision+recall)\n",
    "\n",
    "    metrics['F1'] = f1\n",
    "    \n",
    "    return metrics"
   ]
  },
  {
   "cell_type": "code",
   "execution_count": 12,
   "metadata": {},
   "outputs": [],
   "source": [
    "# Reference: \n",
    "# https://scikit-learn.org/stable/auto_examples/model_selection/plot_confusion_matrix.html\n",
    "def plot_confusion_matrix(cm, classes,\n",
    "                          normalize=False,\n",
    "                          title='Confusion matrix',\n",
    "                          cmap=plt.cm.Blues):\n",
    "    \"\"\"\n",
    "    This function prints and plots the confusion matrix.\n",
    "    Normalization can be applied by setting `normalize=True`.\n",
    "    \"\"\"\n",
    "    if normalize:\n",
    "        cm = cm.astype('float') / cm.sum(axis=1)[:, np.newaxis]\n",
    "        #print(\"Normalized confusion matrix\")\n",
    "    #else:\n",
    "    #    print('Confusion matrix, without normalization')\n",
    "\n",
    "    #print(cm)\n",
    "\n",
    "    plt.imshow(cm, interpolation='nearest', cmap=cmap)\n",
    "    plt.title(title)\n",
    "    plt.colorbar()\n",
    "    tick_marks = np.arange(len(classes))\n",
    "    plt.xticks(tick_marks, classes, rotation=45)\n",
    "    plt.yticks(tick_marks, classes)\n",
    "\n",
    "    fmt = '.2f' if normalize else 'd'\n",
    "    thresh = cm.max() / 2.\n",
    "    for i, j in itertools.product(range(cm.shape[0]), range(cm.shape[1])):\n",
    "        plt.text(j, i, format(cm[i, j], fmt),\n",
    "                 horizontalalignment=\"center\",\n",
    "                 color=\"white\" if cm[i, j] > thresh else \"black\")\n",
    "\n",
    "    plt.ylabel('True label')\n",
    "    plt.xlabel('Predicted label')\n",
    "    plt.tight_layout()"
   ]
  },
  {
   "cell_type": "code",
   "execution_count": 13,
   "metadata": {},
   "outputs": [],
   "source": [
    "# Compute confusion matrix\n",
    "cnf_matrix = confusion_matrix(df['Pass'],df['Model1_Prediction'],labels=[1,0])"
   ]
  },
  {
   "cell_type": "code",
   "execution_count": 14,
   "metadata": {},
   "outputs": [
    {
     "data": {
      "text/plain": [
       "array([[10,  0],\n",
       "       [ 5,  5]])"
      ]
     },
     "execution_count": 14,
     "metadata": {},
     "output_type": "execute_result"
    }
   ],
   "source": [
    "cnf_matrix"
   ]
  },
  {
   "cell_type": "code",
   "execution_count": 15,
   "metadata": {},
   "outputs": [
    {
     "name": "stdout",
     "output_type": "stream",
     "text": [
      "TP: 10\n",
      "TN: 5\n",
      "FP: 5\n",
      "FN: 0\n"
     ]
    }
   ],
   "source": [
    "print('TP:',true_positive(df['Pass'],df['Model1_Prediction']))\n",
    "print('TN:',true_negative(df['Pass'],df['Model1_Prediction']))\n",
    "print('FP:',false_positive(df['Pass'],df['Model1_Prediction']))\n",
    "print('FN:',false_negative(df['Pass'],df['Model1_Prediction']))"
   ]
  },
  {
   "cell_type": "code",
   "execution_count": 16,
   "metadata": {},
   "outputs": [
    {
     "data": {
      "image/png": "[encoded data removed]",
      "text/plain": [
       "<Figure size 432x288 with 2 Axes>"
      ]
     },
     "metadata": {},
     "output_type": "display_data"
    }
   ],
   "source": [
    "# Plot confusion matrix\n",
    "plt.figure()\n",
    "plot_confusion_matrix(cnf_matrix, classes=['Pass','Fail'],\n",
    "                      title='Model 1 Confusion matrix - Count')"
   ]
  },
  {
   "cell_type": "code",
   "execution_count": 17,
   "metadata": {},
   "outputs": [
    {
     "data": {
      "image/png": "[encoded data removed]",
      "text/plain": [
       "<Figure size 432x288 with 2 Axes>"
      ]
     },
     "metadata": {},
     "output_type": "display_data"
    }
   ],
   "source": [
    "# Plot normalized confusion matrix (numbers are shown as a fraction)\n",
    "plt.figure()\n",
    "plot_confusion_matrix(cnf_matrix, classes=['Pass','Fail'],\n",
    "                      title='Model 1 Confusion matrix - Fraction',normalize=True)"
   ]
  },
  {
   "cell_type": "code",
   "execution_count": 18,
   "metadata": {},
   "outputs": [
    {
     "data": {
      "image/png": "[encoded data removed]",
      "text/plain": [
       "<Figure size 432x288 with 2 Axes>"
      ]
     },
     "metadata": {},
     "output_type": "display_data"
    },
    {
     "data": {
      "image/png": "[encoded data removed]",
      "text/plain": [
       "<Figure size 432x288 with 2 Axes>"
      ]
     },
     "metadata": {},
     "output_type": "display_data"
    },
    {
     "data": {
      "image/png": "[encoded data removed]",
      "text/plain": [
       "<Figure size 432x288 with 2 Axes>"
      ]
     },
     "metadata": {},
     "output_type": "display_data"
    },
    {
     "data": {
      "image/png": "[encoded data removed]",
      "text/plain": [
       "<Figure size 432x288 with 2 Axes>"
      ]
     },
     "metadata": {},
     "output_type": "display_data"
    }
   ],
   "source": [
    "# Plot confusion matrix\n",
    "# Show actual counts\n",
    "for model in models:\n",
    "    #print(model)\n",
    "    cnf_matrix = confusion_matrix(df['Pass'],\n",
    "                                  df[model.replace(' ','') + '_Prediction'],labels=[1,0])\n",
    "    np.set_printoptions(precision=2)\n",
    "    \n",
    "    # Plot non-normalized confusion matrix\n",
    "    plt.figure()\n",
    "    plot_confusion_matrix(cnf_matrix, classes=['Pass','Fail'],\n",
    "                      title= model + ' Confusion matrix - Count', normalize=False)"
   ]
  },
  {
   "cell_type": "code",
   "execution_count": 19,
   "metadata": {},
   "outputs": [
    {
     "data": {
      "image/png": "[encoded data removed]",
      "text/plain": [
       "<Figure size 432x288 with 2 Axes>"
      ]
     },
     "metadata": {},
     "output_type": "display_data"
    },
    {
     "data": {
      "image/png": "[encoded data removed]",
      "text/plain": [
       "<Figure size 432x288 with 2 Axes>"
      ]
     },
     "metadata": {},
     "output_type": "display_data"
    },
    {
     "data": {
      "image/png": "[encoded data removed]",
      "text/plain": [
       "<Figure size 432x288 with 2 Axes>"
      ]
     },
     "metadata": {},
     "output_type": "display_data"
    },
    {
     "data": {
      "image/png": "[encoded data removed]",
      "text/plain": [
       "<Figure size 432x288 with 2 Axes>"
      ]
     },
     "metadata": {},
     "output_type": "display_data"
    }
   ],
   "source": [
    "# Compute confusion matrix\n",
    "# Show Fraction\n",
    "for model in models:\n",
    "    #print(model)\n",
    "    cnf_matrix = confusion_matrix(df['Pass'],\n",
    "                                  df[model.replace(' ','') + '_Prediction'],labels=[1,0])\n",
    "    np.set_printoptions(precision=2)\n",
    "    \n",
    "    # Plot non-normalized confusion matrix\n",
    "    plt.figure()\n",
    "    plot_confusion_matrix(cnf_matrix, classes=['Pass','Fail'],\n",
    "                      title= model + ' Confusion matrix - Fraction', normalize=True)"
   ]
  },
  {
   "cell_type": "code",
   "execution_count": 20,
   "metadata": {},
   "outputs": [
    {
     "name": "stdout",
     "output_type": "stream",
     "text": [
      "Model 1\n",
      "Model 2\n",
      "Model 3\n",
      "Model 4\n"
     ]
    }
   ],
   "source": [
    "# Compute Metrics for all models\n",
    "all_metrics = []\n",
    "for model in models:\n",
    "    print(model)\n",
    "    colname = model.replace(' ','') + '_Prediction'\n",
    "\n",
    "    metrics = binary_classifier_metrics(df['Pass'],df[colname])\n",
    "    all_metrics.append(metrics)"
   ]
  },
  {
   "cell_type": "code",
   "execution_count": 21,
   "metadata": {},
   "outputs": [],
   "source": [
    "# Create a metrics dataframe\n",
    "# https://stackoverflow.com/questions/41168558/python-how-to-convert-json-file-to-dataframe/41168691\n",
    "df_metrics=pd.DataFrame.from_dict(all_metrics)\n",
    "df_metrics.index = models"
   ]
  },
  {
   "cell_type": "code",
   "execution_count": 22,
   "metadata": {},
   "outputs": [
    {
     "name": "stdout",
     "output_type": "stream",
     "text": [
      "Counts\n",
      "         TruePositive  FalseNegative  FalsePositive  TrueNegative\n",
      "Model 1            10              0              5             5\n",
      "Model 2             0             10              0            10\n",
      "Model 3             7              3              1             9\n",
      "Model 4            10              0             10             0\n",
      "\n",
      "Ratios\n",
      "         Recall  FalseNegativeRate  FalsePositiveRate  TrueNegativeRate\n",
      "Model 1     1.0                0.0                0.5               0.5\n",
      "Model 2     0.0                1.0                0.0               1.0\n",
      "Model 3     0.7                0.3                0.1               0.9\n",
      "Model 4     1.0                0.0                1.0               0.0\n",
      "\n",
      "         Precision  Accuracy    F1\n",
      "Model 1       0.67      0.75  0.80\n",
      "Model 2       0.00      0.50  0.00\n",
      "Model 3       0.88      0.80  0.78\n",
      "Model 4       0.50      0.50  0.67\n"
     ]
    }
   ],
   "source": [
    "print('Counts')\n",
    "print(df_metrics[['TruePositive',\n",
    "                  'FalseNegative',\n",
    "                  'FalsePositive',\n",
    "                  'TrueNegative',]].round(2))\n",
    "print()\n",
    "print('Ratios')\n",
    "print(df_metrics[['Recall',\n",
    "                  'FalseNegativeRate',\n",
    "                  'FalsePositiveRate',\n",
    "                  'TrueNegativeRate',]].round(2))\n",
    "print()\n",
    "\n",
    "print(df_metrics[['Precision',\n",
    "                  'Accuracy',\n",
    "                  'F1']].round(2))"
   ]
  },
  {
   "cell_type": "markdown",
   "metadata": {},
   "source": [
    "<h2>Compute Metrics using SKLearn Classification Report</h2>"
   ]
  },
  {
   "cell_type": "code",
   "execution_count": 23,
   "metadata": {},
   "outputs": [
    {
     "name": "stdout",
     "output_type": "stream",
     "text": [
      "Model 1\n",
      "              precision    recall  f1-score   support\n",
      "\n",
      "        Pass       0.67      1.00      0.80        10\n",
      "        Fail       1.00      0.50      0.67        10\n",
      "\n",
      "   micro avg       0.75      0.75      0.75        20\n",
      "   macro avg       0.83      0.75      0.73        20\n",
      "weighted avg       0.83      0.75      0.73        20\n",
      "\n",
      "Model 2\n",
      "              precision    recall  f1-score   support\n",
      "\n",
      "        Pass       0.00      0.00      0.00        10\n",
      "        Fail       0.50      1.00      0.67        10\n",
      "\n",
      "   micro avg       0.50      0.50      0.50        20\n",
      "   macro avg       0.25      0.50      0.33        20\n",
      "weighted avg       0.25      0.50      0.33        20\n",
      "\n",
      "Model 3\n",
      "              precision    recall  f1-score   support\n",
      "\n",
      "        Pass       0.88      0.70      0.78        10\n",
      "        Fail       0.75      0.90      0.82        10\n",
      "\n",
      "   micro avg       0.80      0.80      0.80        20\n",
      "   macro avg       0.81      0.80      0.80        20\n",
      "weighted avg       0.81      0.80      0.80        20\n",
      "\n",
      "Model 4\n",
      "              precision    recall  f1-score   support\n",
      "\n",
      "        Pass       0.50      1.00      0.67        10\n",
      "        Fail       0.00      0.00      0.00        10\n",
      "\n",
      "   micro avg       0.50      0.50      0.50        20\n",
      "   macro avg       0.25      0.50      0.33        20\n",
      "weighted avg       0.25      0.50      0.33        20\n",
      "\n"
     ]
    },
    {
     "name": "stderr",
     "output_type": "stream",
     "text": [
      "/home/ec2-user/anaconda3/envs/python3/lib/python3.6/site-packages/sklearn/metrics/classification.py:1143: UndefinedMetricWarning: Precision and F-score are ill-defined and being set to 0.0 in labels with no predicted samples.\n",
      "  'precision', 'predicted', average, warn_for)\n"
     ]
    }
   ],
   "source": [
    "# Using SKLearn classification report\n",
    "# Micro Average Vs Macro Average\n",
    "# https://datascience.stackexchange.com/questions/15989/micro-average-vs-macro-average-performance-in-a-multiclass-classification-settin\n",
    "for model in models:\n",
    "    print(model)\n",
    "    print(classification_report(\n",
    "    df['Pass'],\n",
    "    df[model.replace(' ','') + '_Prediction'],\n",
    "    labels=[1,0],\n",
    "    target_names=['Pass','Fail']))"
   ]
  },
  {
   "cell_type": "markdown",
   "metadata": {},
   "source": [
    "<h2>Summary</h2>\n",
    "From these metrics, we can see that Model 1 and Model 3 are performing better than Model 2 and 4.\n",
    "\n",
    "\n",
    "Model 1 has higher Recall (it correctly identifies more positive samples) at the cost of higher False Positive Rate (negative samples were misclassified as positive)\n",
    "\n",
    "Model 3 offers balanced performance"
   ]
  }
 ],
 "metadata": {
  "kernelspec": {
   "display_name": "conda_python3",
   "language": "python",
   "name": "conda_python3"
  },
  "language_info": {
   "codemirror_mode": {
    "name": "ipython",
    "version": 3
   },
   "file_extension": ".py",
   "mimetype": "text/x-python",
   "name": "python",
   "nbconvert_exporter": "python",
   "pygments_lexer": "ipython3",
   "version": "3.6.5"
  }
 },
 "nbformat": 4,
 "nbformat_minor": 2
}
