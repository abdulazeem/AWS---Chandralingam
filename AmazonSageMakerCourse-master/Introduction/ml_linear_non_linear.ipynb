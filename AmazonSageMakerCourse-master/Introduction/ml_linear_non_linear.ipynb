{
 "cells": [
  {
   "cell_type": "markdown",
   "metadata": {},
   "source": [
    "<h2>Linear, Non-Linear Examples</h2>\n",
    "\n",
    "Objective: visualize linear, quadratic, cubic, exponential, log, sine functions on a plot"
   ]
  },
  {
   "cell_type": "code",
   "execution_count": null,
   "metadata": {},
   "outputs": [],
   "source": [
    "%matplotlib inline\n",
    "import numpy as np\n",
    "import pandas as pd\n",
    "import matplotlib.pyplot as plt\n",
    "import math"
   ]
  },
  {
   "cell_type": "code",
   "execution_count": null,
   "metadata": {},
   "outputs": [],
   "source": [
    "def log_func(x):\n",
    "    if x > 0:\n",
    "        return math.log(x,10)\n",
    "    else:\n",
    "        return np.nan"
   ]
  },
  {
   "cell_type": "code",
   "execution_count": null,
   "metadata": {},
   "outputs": [],
   "source": [
    "df = pd.DataFrame(index=range(-200,200))"
   ]
  },
  {
   "cell_type": "code",
   "execution_count": null,
   "metadata": {},
   "outputs": [],
   "source": [
    "df.shape"
   ]
  },
  {
   "cell_type": "code",
   "execution_count": null,
   "metadata": {},
   "outputs": [],
   "source": [
    "title = ['Linear 3*X','Quadratic X^2',\n",
    "         'Cubic X^3','Absolute abs(X)',\n",
    "         'sine(X)','log(X)',\n",
    "         'Exponential 2^X']\n",
    "\n",
    "df['linear']=df.index.map(lambda x: 3*x)\n",
    "df['quadratic'] = df.index.map(lambda x: x**2)\n",
    "df['cubic'] = df.index.map(lambda x: x**3)\n",
    "df['abs'] = df.index.map(lambda x: abs(x))\n",
    "df['sine'] = np.sin(np.arange(-20,20,.1))\n",
    "df['log'] = df.index.map(log_func)\n",
    "df['exponential'] = df.index.map(lambda x: 2.0**x)"
   ]
  },
  {
   "cell_type": "code",
   "execution_count": null,
   "metadata": {},
   "outputs": [],
   "source": [
    "df.head()"
   ]
  },
  {
   "cell_type": "code",
   "execution_count": null,
   "metadata": {},
   "outputs": [],
   "source": [
    "df.tail()"
   ]
  },
  {
   "cell_type": "code",
   "execution_count": null,
   "metadata": {},
   "outputs": [],
   "source": [
    "fig, axs = plt.subplots(2, 2, figsize=(10, 10), sharex=False)\n",
    "axx = axs.ravel()\n",
    "for i in range(df.shape[1]-3):\n",
    "    axx[i].set_title(title[i])\n",
    "    df[df.columns[i]].plot(ax=axx[i])\n",
    "    axx[i].set_xlabel('X')\n",
    "    if i % 2 == 1 :\n",
    "        axx[i].yaxis.tick_right()\n",
    "    axx[i].grid()"
   ]
  },
  {
   "cell_type": "code",
   "execution_count": null,
   "metadata": {
    "scrolled": true
   },
   "outputs": [],
   "source": [
    "plt.figure(figsize=(10,3))\n",
    "plt.plot(df['exponential'])\n",
    "plt.title('Exponential 2^X')\n",
    "plt.xlim(-10,20)\n",
    "plt.ylim(0,100000)\n",
    "plt.xlabel('X')\n",
    "plt.grid()"
   ]
  },
  {
   "cell_type": "code",
   "execution_count": null,
   "metadata": {},
   "outputs": [],
   "source": [
    "plt.figure(figsize=(10,3))\n",
    "plt.plot(df['log'])\n",
    "plt.title('Log(X)')\n",
    "plt.xlim(-10,200)\n",
    "plt.xlabel('X')\n",
    "plt.grid()"
   ]
  },
  {
   "cell_type": "code",
   "execution_count": null,
   "metadata": {},
   "outputs": [],
   "source": [
    "plt.figure(figsize=(10,3))\n",
    "plt.plot(np.arange(-20,20,.1), df['sine'])\n",
    "plt.title('Sine(X)')\n",
    "plt.xlabel('X')\n",
    "plt.grid()"
   ]
  },
  {
   "cell_type": "code",
   "execution_count": null,
   "metadata": {},
   "outputs": [],
   "source": []
  }
 ],
 "metadata": {
  "kernelspec": {
   "display_name": "conda_python3",
   "language": "python",
   "name": "conda_python3"
  },
  "language_info": {
   "codemirror_mode": {
    "name": "ipython",
    "version": 3
   },
   "file_extension": ".py",
   "mimetype": "text/x-python",
   "name": "python",
   "nbconvert_exporter": "python",
   "pygments_lexer": "ipython3",
   "version": "3.6.5"
  }
 },
 "nbformat": 4,
 "nbformat_minor": 1
}
