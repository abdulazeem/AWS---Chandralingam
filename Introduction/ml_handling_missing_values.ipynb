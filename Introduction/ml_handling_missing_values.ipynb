{
 "cells": [
  {
   "cell_type": "markdown",
   "metadata": {},
   "source": [
    "<h2>Working With Missing Data</h2>\n",
    "<h3>References:</h3>\n",
    "<h3>General techniques</h3>\n",
    "https://pandas.pydata.org/pandas-docs/stable/missing_data.html<br/>\n",
    "<h3>Missing Values in a Timeseries</h3>\n",
    "https://www.kaggle.com/juejuewang/handle-missing-values-in-time-series-for-beginners"
   ]
  },
  {
   "cell_type": "code",
   "execution_count": null,
   "metadata": {},
   "outputs": [],
   "source": [
    "import pandas as pd\n",
    "import numpy as np\n",
    "import matplotlib.pyplot as plt"
   ]
  },
  {
   "cell_type": "code",
   "execution_count": null,
   "metadata": {},
   "outputs": [],
   "source": [
    "df = pd.read_csv('VehicleTraffic.csv', parse_dates=[0], index_col=0)"
   ]
  },
  {
   "cell_type": "code",
   "execution_count": null,
   "metadata": {},
   "outputs": [],
   "source": [
    "# Measurements taken at different times\n",
    "df"
   ]
  },
  {
   "cell_type": "code",
   "execution_count": null,
   "metadata": {},
   "outputs": [],
   "source": [
    "# Remove NaN values\n",
    "df.dropna()"
   ]
  },
  {
   "cell_type": "code",
   "execution_count": null,
   "metadata": {},
   "outputs": [],
   "source": [
    "# Mean values of numeric columns\n",
    "df.mean()"
   ]
  },
  {
   "cell_type": "code",
   "execution_count": null,
   "metadata": {},
   "outputs": [],
   "source": [
    "# Let's visualize vehicles data\n",
    "# How does missing data show up?\n",
    "plt.figure(figsize=(10,3))\n",
    "plt.title('Vehicles')\n",
    "plt.plot(df['Vehicles'], label='target')\n",
    "plt.xticks(fontsize=14, rotation=45)\n",
    "plt.legend()\n",
    "plt.grid()"
   ]
  },
  {
   "cell_type": "code",
   "execution_count": null,
   "metadata": {},
   "outputs": [],
   "source": [
    "# Replace missing values with zero\n",
    "\n",
    "plt.figure(figsize=(10,3))\n",
    "plt.title('Replace NaN with Zero')\n",
    "plt.plot(df['Vehicles'], label='target')\n",
    "\n",
    "# fillna to replace NaNs with provided value\n",
    "vehicles = df['Vehicles'].fillna(0)\n",
    "\n",
    "plt.plot(vehicles,ls='-.',alpha=0.8,label='zeroed')\n",
    "plt.xticks(fontsize=14, rotation=45)\n",
    "plt.legend()\n",
    "plt.grid()"
   ]
  },
  {
   "cell_type": "code",
   "execution_count": null,
   "metadata": {},
   "outputs": [],
   "source": [
    "# Replace missing values with mean value for that attribute\n",
    "plt.figure(figsize=(10,3))\n",
    "plt.title('Replace NaN with Mean')\n",
    "plt.plot(df['Vehicles'], label='target')\n",
    "\n",
    "# fillna to replace NaNs with provided value\n",
    "vehicles = df['Vehicles'].fillna(df['Vehicles'].mean())\n",
    "\n",
    "plt.plot(vehicles,ls='-.',alpha=0.8,label='mean')\n",
    "plt.xticks(fontsize=14, rotation=45)\n",
    "plt.legend()\n",
    "plt.grid()"
   ]
  },
  {
   "cell_type": "code",
   "execution_count": null,
   "metadata": {},
   "outputs": [],
   "source": [
    "# Replace missing values with interpolated value for that attribute\n",
    "plt.figure(figsize=(10,3))\n",
    "plt.title('Replace NaN with Interpolation')\n",
    "plt.plot(df['Vehicles'], label='target')\n",
    "\n",
    "vehicles = df['Vehicles'].interpolate()\n",
    "\n",
    "plt.plot(vehicles,ls='-.',alpha=0.8,label='mean')\n",
    "plt.xticks(fontsize=14, rotation=45)\n",
    "plt.legend()\n",
    "plt.grid()"
   ]
  },
  {
   "cell_type": "code",
   "execution_count": null,
   "metadata": {},
   "outputs": [],
   "source": [
    "vehicles"
   ]
  },
  {
   "cell_type": "code",
   "execution_count": null,
   "metadata": {},
   "outputs": [],
   "source": [
    "# Replace missing values with previous valid value for that attribute\n",
    "plt.figure(figsize=(10,3))\n",
    "plt.title('Replace NaN with Forward Fill')\n",
    "plt.plot(df['Vehicles'], label='target')\n",
    "\n",
    "vehicles = df['Vehicles'].fillna(method='ffill')\n",
    "\n",
    "plt.plot(vehicles,ls='-.',alpha=0.8,label='forward fill')\n",
    "plt.xticks(fontsize=14, rotation=45)\n",
    "plt.legend()\n",
    "plt.grid()"
   ]
  },
  {
   "cell_type": "code",
   "execution_count": null,
   "metadata": {},
   "outputs": [],
   "source": [
    "vehicles"
   ]
  },
  {
   "cell_type": "code",
   "execution_count": null,
   "metadata": {},
   "outputs": [],
   "source": [
    "# Replace missing values with next valid value for that attribute\n",
    "plt.figure(figsize=(10,3))\n",
    "plt.title('Replace NaN with Backward Fill')\n",
    "plt.plot(df['Vehicles'], label='target')\n",
    "\n",
    "vehicles = df['Vehicles'].fillna(method='bfill')\n",
    "\n",
    "plt.plot(vehicles,ls='-.',alpha=0.8,label='back fill')\n",
    "plt.xticks(fontsize=14, rotation=45)\n",
    "plt.legend()\n",
    "plt.grid()"
   ]
  },
  {
   "cell_type": "code",
   "execution_count": null,
   "metadata": {},
   "outputs": [],
   "source": [
    "vehicles"
   ]
  },
  {
   "cell_type": "code",
   "execution_count": null,
   "metadata": {},
   "outputs": [],
   "source": [
    "df"
   ]
  },
  {
   "cell_type": "code",
   "execution_count": null,
   "metadata": {},
   "outputs": [],
   "source": [
    "# Now that we know different ways of handling missing values\n",
    "# Let's pick an appropriate scheme for replacing missing values\n",
    "\n",
    "# Vehicles and Average Speed...interpolate\n",
    "df['Vehicles'] = df['Vehicles'].interpolate()\n",
    "df['Average Speed (mph)'] = df['Average Speed (mph)'].interpolate()\n",
    "# Accidents...interpolate or use mean values\n",
    "df['Accidents'] = df['Accidents'].fillna(df['Accidents'].mean())"
   ]
  },
  {
   "cell_type": "code",
   "execution_count": null,
   "metadata": {},
   "outputs": [],
   "source": [
    "df"
   ]
  },
  {
   "cell_type": "markdown",
   "metadata": {},
   "source": [
    "<h3>Independent Data</h3>"
   ]
  },
  {
   "cell_type": "code",
   "execution_count": null,
   "metadata": {},
   "outputs": [],
   "source": [
    "# Example of data that is not time dependent\n",
    "# Each row is independent\n",
    "df = pd.read_csv('VehicleTrafficRoads.csv', index_col=0)"
   ]
  },
  {
   "cell_type": "code",
   "execution_count": null,
   "metadata": {
    "scrolled": true
   },
   "outputs": [],
   "source": [
    "df"
   ]
  },
  {
   "cell_type": "code",
   "execution_count": null,
   "metadata": {},
   "outputs": [],
   "source": [
    "df.mean()"
   ]
  },
  {
   "cell_type": "code",
   "execution_count": null,
   "metadata": {},
   "outputs": [],
   "source": [
    "# Substitute computed average of other rows\n",
    "# In this case, Rows E and F look identical\n",
    "# Data stored for Road E and F may not reflect reality\n",
    "\n",
    "df.fillna(df.mean())"
   ]
  },
  {
   "cell_type": "code",
   "execution_count": null,
   "metadata": {},
   "outputs": [],
   "source": [
    "# Better option here is to simply drop NA rows\n",
    "# how = all Drop if all columns are NA\n",
    "# how = any Drop if any one of the columns contain NA\n",
    "df.dropna(how='all',inplace=True)"
   ]
  },
  {
   "cell_type": "code",
   "execution_count": null,
   "metadata": {},
   "outputs": [],
   "source": [
    "df"
   ]
  },
  {
   "cell_type": "markdown",
   "metadata": {},
   "source": [
    "<h3>Impute Missing Values from Similar Data</h3>"
   ]
  },
  {
   "cell_type": "code",
   "execution_count": null,
   "metadata": {},
   "outputs": [],
   "source": [
    "# Some instances have missing features\n",
    "# There are three types of plants: Iris-setosa, Iris-virginica, Iris-versicolor\n",
    "# In this case, we can find mean value of an attribute for each type of plant\n",
    "# and use it to substitute the missing values\n",
    "df = pd.read_csv('IrisMissingData.csv')"
   ]
  },
  {
   "cell_type": "code",
   "execution_count": null,
   "metadata": {},
   "outputs": [],
   "source": [
    "df"
   ]
  },
  {
   "cell_type": "code",
   "execution_count": null,
   "metadata": {},
   "outputs": [],
   "source": [
    "# Look for any columns that have NA\n",
    "df.isna().any(axis=0)"
   ]
  },
  {
   "cell_type": "code",
   "execution_count": null,
   "metadata": {},
   "outputs": [],
   "source": [
    "# Look for any rows that have NA\n",
    "rows_missing_values = df.isna().any(axis=1)"
   ]
  },
  {
   "cell_type": "code",
   "execution_count": null,
   "metadata": {},
   "outputs": [],
   "source": [
    "df[rows_missing_values]"
   ]
  },
  {
   "cell_type": "code",
   "execution_count": null,
   "metadata": {},
   "outputs": [],
   "source": [
    "# Find Summary Statistics for Each Class\n",
    "# Impute values based on class\n",
    "# https://stackoverflow.com/questions/19966018/pandas-filling-missing-values-by-mean-in-each-group\n",
    "group_class = df.groupby('class')"
   ]
  },
  {
   "cell_type": "code",
   "execution_count": null,
   "metadata": {},
   "outputs": [],
   "source": [
    "# First few rows of each group\n",
    "group_class.head(2)"
   ]
  },
  {
   "cell_type": "code",
   "execution_count": null,
   "metadata": {},
   "outputs": [],
   "source": [
    "# Attribute Mean value is different for each group\n",
    "group_class.mean()"
   ]
  },
  {
   "cell_type": "code",
   "execution_count": null,
   "metadata": {},
   "outputs": [],
   "source": [
    "# Compared to mean value for entire dataset\n",
    "df.mean()"
   ]
  },
  {
   "cell_type": "code",
   "execution_count": null,
   "metadata": {},
   "outputs": [],
   "source": [
    "# For each group, use group level averages to fill missing values\n",
    "df['sepal_length'] = group_class['sepal_length'].transform(lambda x: x.fillna(x.mean()))\n",
    "df['sepal_width'] = group_class['sepal_width'].transform(lambda x: x.fillna(x.mean()))\n",
    "df['petal_length'] = group_class['petal_length'].transform(lambda x: x.fillna(x.mean()))\n",
    "df['petal_width'] = group_class['petal_width'].transform(lambda x: x.fillna(x.mean()))"
   ]
  },
  {
   "cell_type": "code",
   "execution_count": null,
   "metadata": {},
   "outputs": [],
   "source": [
    "# Let's now check the rows that had missing values\n",
    "df[rows_missing_values]"
   ]
  },
  {
   "cell_type": "code",
   "execution_count": null,
   "metadata": {},
   "outputs": [],
   "source": []
  }
 ],
 "metadata": {
  "kernelspec": {
   "display_name": "conda_python3",
   "language": "python",
   "name": "conda_python3"
  },
  "language_info": {
   "codemirror_mode": {
    "name": "ipython",
    "version": 3
   },
   "file_extension": ".py",
   "mimetype": "text/x-python",
   "name": "python",
   "nbconvert_exporter": "python",
   "pygments_lexer": "ipython3",
   "version": "3.6.5"
  }
 },
 "nbformat": 4,
 "nbformat_minor": 2
}
