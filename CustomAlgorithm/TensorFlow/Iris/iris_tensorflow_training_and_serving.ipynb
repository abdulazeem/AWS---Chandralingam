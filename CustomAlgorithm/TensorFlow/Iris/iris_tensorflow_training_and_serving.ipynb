{
 "cells": [
  {
   "cell_type": "markdown",
   "metadata": {},
   "source": [
    "# TensorFlow script mode training and serving\n",
    "###  Modified From: \n",
    "#### Sagemaker Python SDK Examples: tensorflow_script_mode_training_and_serving.ipynb\n",
    "https://github.com/awslabs/amazon-sagemaker-examples/blob/master/sagemaker-python-sdk/tensorflow_script_mode_training_and_serving/tensorflow_script_mode_training_and_serving.ipynb\n",
    "\n",
    "Following modifications were made:  \n",
    "1. Incorporated scripts for local mode hosting  \n",
    "2. Added Train and Test Channels  \n",
    "3. Visualize results (confusion matrix and reports)  \n",
    "4. Added steps to deploy using model artifacts stored in S3  \n",
    "5. Iris model training\n",
    "\n",
    "Script mode is a training script format for TensorFlow that lets you execute any TensorFlow training script in SageMaker with minimal modification. The [SageMaker Python SDK](https://github.com/aws/sagemaker-python-sdk) handles transferring your script to a SageMaker training instance. On the training instance, SageMaker's native TensorFlow support sets up training-related environment variables and executes your training script. In this tutorial, we use the SageMaker Python SDK to launch a training job and deploy the trained model.\n",
    "\n",
    "Script mode supports training with a Python script, a Python module, or a shell script.\n"
   ]
  },
  {
   "cell_type": "markdown",
   "metadata": {},
   "source": [
    "# Set up the environment\n",
    "\n",
    "Let's start by setting up the environment:"
   ]
  },
  {
   "cell_type": "markdown",
   "metadata": {},
   "source": [
    "### Local Mode Execution - requires docker compose configured\n",
    "#### The below setup script is from AWS SageMaker Python SDK Examples : tf-eager-sm-scriptmode.ipynb"
   ]
  },
  {
   "cell_type": "code",
   "execution_count": 1,
   "metadata": {},
   "outputs": [
    {
     "name": "stdout",
     "output_type": "stream",
     "text": [
      "SageMaker instance route table setup is ok. We are good to go.\r\n",
      "SageMaker instance routing for Docker is ok. We are good to go!\r\n"
     ]
    }
   ],
   "source": [
    "!/bin/bash ./setup.sh"
   ]
  },
  {
   "cell_type": "code",
   "execution_count": 2,
   "metadata": {},
   "outputs": [],
   "source": [
    "import os\n",
    "import sagemaker\n",
    "from sagemaker import get_execution_role\n",
    "import pandas as pd\n",
    "import numpy as np\n",
    "\n",
    "sagemaker_session = sagemaker.Session()\n",
    "\n",
    "role = get_execution_role()\n",
    "region = sagemaker_session.boto_session.region_name"
   ]
  },
  {
   "cell_type": "markdown",
   "metadata": {},
   "source": [
    "## Training Data"
   ]
  },
  {
   "cell_type": "code",
   "execution_count": 3,
   "metadata": {},
   "outputs": [],
   "source": [
    "column_list_file = 'iris_train_column_list.txt'\n",
    "train_file = 'iris_train.csv'\n",
    "test_file = 'iris_validation.csv'\n",
    "\n",
    "columns = ''\n",
    "with open(column_list_file,'r') as f:\n",
    "    columns = f.read().split(',')"
   ]
  },
  {
   "cell_type": "code",
   "execution_count": 4,
   "metadata": {},
   "outputs": [],
   "source": [
    "# Specify your bucket name\n",
    "bucket_name = 'chandra-ml-sagemaker'\n",
    "\n",
    "training_folder = r'iris/train'\n",
    "test_folder = r'iris/test'\n",
    "model_folder = r'iris/model/'\n",
    "\n",
    "training_data_uri = r's3://' + bucket_name + r'/' + training_folder\n",
    "testing_data_uri = r's3://' + bucket_name + r'/' + test_folder\n",
    "model_data_uri = r's3://' + bucket_name + r'/' + model_folder"
   ]
  },
  {
   "cell_type": "code",
   "execution_count": 5,
   "metadata": {},
   "outputs": [
    {
     "data": {
      "text/plain": [
       "('s3://chandra-ml-sagemaker/iris/train',\n",
       " 's3://chandra-ml-sagemaker/iris/test',\n",
       " 's3://chandra-ml-sagemaker/iris/model/')"
      ]
     },
     "execution_count": 5,
     "metadata": {},
     "output_type": "execute_result"
    }
   ],
   "source": [
    "training_data_uri,testing_data_uri,model_data_uri"
   ]
  },
  {
   "cell_type": "code",
   "execution_count": 6,
   "metadata": {},
   "outputs": [
    {
     "data": {
      "text/plain": [
       "'s3://chandra-ml-sagemaker/iris/train/iris_train.csv'"
      ]
     },
     "execution_count": 6,
     "metadata": {},
     "output_type": "execute_result"
    }
   ],
   "source": [
    "sagemaker_session.upload_data(train_file,\n",
    "                              bucket=bucket_name, \n",
    "                              key_prefix=training_folder)"
   ]
  },
  {
   "cell_type": "code",
   "execution_count": 7,
   "metadata": {},
   "outputs": [
    {
     "data": {
      "text/plain": [
       "'s3://chandra-ml-sagemaker/iris/test/iris_validation.csv'"
      ]
     },
     "execution_count": 7,
     "metadata": {},
     "output_type": "execute_result"
    }
   ],
   "source": [
    "sagemaker_session.upload_data(test_file, \n",
    "                              bucket=bucket_name, \n",
    "                              key_prefix=test_folder)"
   ]
  },
  {
   "cell_type": "markdown",
   "metadata": {},
   "source": [
    "# Construct a script for distributed training\n",
    "\n",
    "This tutorial's training script was adapted from TensorFlow's official [CNN MNIST example](https://github.com/tensorflow/tensorflow/blob/master/tensorflow/examples/tutorials/layers/cnn_mnist.py). We have modified it to handle the ``model_dir`` parameter passed in by SageMaker. This is an S3 path which can be used for data sharing during distributed training and checkpointing and/or model persistence. We have also added an argument-parsing function to handle processing training-related variables.\n",
    "\n",
    "At the end of the training job we have added a step to export the trained model to the path stored in the environment variable ``SM_MODEL_DIR``, which always points to ``/opt/ml/model``. This is critical because SageMaker uploads all the model artifacts in this folder to S3 at end of training.\n",
    "\n",
    "Here is the entire script:"
   ]
  },
  {
   "cell_type": "code",
   "execution_count": 8,
   "metadata": {
    "scrolled": false
   },
   "outputs": [
    {
     "name": "stdout",
     "output_type": "stream",
     "text": [
      "\u001b[37m# Copyright 2019 Amazon.com, Inc. or its affiliates. All Rights Reserved.\u001b[39;49;00m\r\n",
      "\u001b[37m#\u001b[39;49;00m\r\n",
      "\u001b[37m# Licensed under the Apache License, Version 2.0 (the \"License\"). You\u001b[39;49;00m\r\n",
      "\u001b[37m# may not use this file except in compliance with the License. A copy of\u001b[39;49;00m\r\n",
      "\u001b[37m# the License is located at\u001b[39;49;00m\r\n",
      "\u001b[37m#\u001b[39;49;00m\r\n",
      "\u001b[37m#     http://aws.amazon.com/apache2.0/\u001b[39;49;00m\r\n",
      "\u001b[37m#\u001b[39;49;00m\r\n",
      "\u001b[37m# or in the \"license\" file accompanying this file. This file is\u001b[39;49;00m\r\n",
      "\u001b[37m# distributed on an \"AS IS\" BASIS, WITHOUT WARRANTIES OR CONDITIONS OF\u001b[39;49;00m\r\n",
      "\u001b[37m# ANY KIND, either express or implied. See the License for the specific\u001b[39;49;00m\r\n",
      "\u001b[37m# language governing permissions and limitations under the License.import tensorflow as tf\u001b[39;49;00m\r\n",
      "\r\n",
      "\u001b[37m# Modified to train Iris model with early stopping - CL\u001b[39;49;00m\r\n",
      "\r\n",
      "\u001b[34mimport\u001b[39;49;00m \u001b[04m\u001b[36mos\u001b[39;49;00m\r\n",
      "\u001b[34mimport\u001b[39;49;00m \u001b[04m\u001b[36mnumpy\u001b[39;49;00m \u001b[34mas\u001b[39;49;00m \u001b[04m\u001b[36mnp\u001b[39;49;00m\r\n",
      "\u001b[34mimport\u001b[39;49;00m \u001b[04m\u001b[36mjson\u001b[39;49;00m\r\n",
      "\u001b[34mimport\u001b[39;49;00m \u001b[04m\u001b[36mpandas\u001b[39;49;00m \u001b[34mas\u001b[39;49;00m \u001b[04m\u001b[36mpd\u001b[39;49;00m\r\n",
      "\u001b[37m# Set random seed\u001b[39;49;00m\r\n",
      "np.random.seed(\u001b[34m0\u001b[39;49;00m)\r\n",
      "\r\n",
      "\u001b[34mimport\u001b[39;49;00m \u001b[04m\u001b[36mtensorflow\u001b[39;49;00m \u001b[34mas\u001b[39;49;00m \u001b[04m\u001b[36mtf\u001b[39;49;00m\r\n",
      "\u001b[34mimport\u001b[39;49;00m \u001b[04m\u001b[36margparse\u001b[39;49;00m\r\n",
      "\r\n",
      "\r\n",
      "\u001b[34mdef\u001b[39;49;00m \u001b[32mmodel\u001b[39;49;00m(x_train, y_train, x_test, y_test):\r\n",
      "    model = tf.keras.models.Sequential()    \r\n",
      "    model.add(tf.keras.layers.Dense(\u001b[34m32\u001b[39;49;00m, activation=tf.nn.relu, input_dim=x_train.shape[\u001b[34m1\u001b[39;49;00m]))\r\n",
      "    model.add(tf.keras.layers.Dense(\u001b[34m3\u001b[39;49;00m, activation=tf.nn.softmax))    \r\n",
      "    \r\n",
      "    model.compile(optimizer=\u001b[33m'\u001b[39;49;00m\u001b[33mrmsprop\u001b[39;49;00m\u001b[33m'\u001b[39;49;00m,\r\n",
      "                  loss=\u001b[33m'\u001b[39;49;00m\u001b[33msparse_categorical_crossentropy\u001b[39;49;00m\u001b[33m'\u001b[39;49;00m,\r\n",
      "                  metrics=[\u001b[33m'\u001b[39;49;00m\u001b[33maccuracy\u001b[39;49;00m\u001b[33m'\u001b[39;49;00m])\r\n",
      "    \r\n",
      "    early_stopping = tf.keras.callbacks.EarlyStopping(monitor=\u001b[33m'\u001b[39;49;00m\u001b[33mval_loss\u001b[39;49;00m\u001b[33m'\u001b[39;49;00m, mode=\u001b[33m'\u001b[39;49;00m\u001b[33mmin\u001b[39;49;00m\u001b[33m'\u001b[39;49;00m, verbose=\u001b[34m1\u001b[39;49;00m, patience=\u001b[34m5\u001b[39;49;00m)\r\n",
      "    \r\n",
      "    model.fit(x_train, y_train, \r\n",
      "              epochs=\u001b[34m300\u001b[39;49;00m,\r\n",
      "              batch_size=\u001b[34m32\u001b[39;49;00m, \r\n",
      "              validation_data=(x_test,y_test),\r\n",
      "              callbacks=[early_stopping])\r\n",
      "    \r\n",
      "    \u001b[34mreturn\u001b[39;49;00m model\r\n",
      "\r\n",
      "\r\n",
      "\u001b[34mdef\u001b[39;49;00m \u001b[32m_load_data\u001b[39;49;00m(file_path, channel):\r\n",
      "    \u001b[37m# Take the set of files and read them all into a single pandas dataframe\u001b[39;49;00m\r\n",
      "    input_files = [ os.path.join(file_path, \u001b[36mfile\u001b[39;49;00m) \u001b[34mfor\u001b[39;49;00m \u001b[36mfile\u001b[39;49;00m \u001b[35min\u001b[39;49;00m os.listdir(file_path) ]\r\n",
      "    \u001b[34mif\u001b[39;49;00m \u001b[36mlen\u001b[39;49;00m(input_files) == \u001b[34m0\u001b[39;49;00m:\r\n",
      "        \u001b[34mraise\u001b[39;49;00m \u001b[36mValueError\u001b[39;49;00m((\u001b[33m'\u001b[39;49;00m\u001b[33mThere are no files in {}.\u001b[39;49;00m\u001b[33m\\n\u001b[39;49;00m\u001b[33m'\u001b[39;49;00m +\r\n",
      "                          \u001b[33m'\u001b[39;49;00m\u001b[33mThis usually indicates that the channel ({}) was incorrectly specified,\u001b[39;49;00m\u001b[33m\\n\u001b[39;49;00m\u001b[33m'\u001b[39;49;00m +\r\n",
      "                          \u001b[33m'\u001b[39;49;00m\u001b[33mthe data specification in S3 was incorrectly specified or the role specified\u001b[39;49;00m\u001b[33m\\n\u001b[39;49;00m\u001b[33m'\u001b[39;49;00m +\r\n",
      "                          \u001b[33m'\u001b[39;49;00m\u001b[33mdoes not have permission to access the data.\u001b[39;49;00m\u001b[33m'\u001b[39;49;00m).format(file_path, channel))\r\n",
      "        \r\n",
      "    raw_data = [ pd.read_csv(\u001b[36mfile\u001b[39;49;00m, header=\u001b[36mNone\u001b[39;49;00m, engine=\u001b[33m\"\u001b[39;49;00m\u001b[33mpython\u001b[39;49;00m\u001b[33m\"\u001b[39;49;00m) \u001b[34mfor\u001b[39;49;00m \u001b[36mfile\u001b[39;49;00m \u001b[35min\u001b[39;49;00m input_files ]\r\n",
      "    df = pd.concat(raw_data)  \r\n",
      "    \r\n",
      "    features = df.iloc[:,\u001b[34m1\u001b[39;49;00m:].values\r\n",
      "    label = df.iloc[:,\u001b[34m0\u001b[39;49;00m].values\r\n",
      "    \u001b[34mreturn\u001b[39;49;00m features, label\r\n",
      "\r\n",
      "\r\n",
      "\u001b[34mdef\u001b[39;49;00m \u001b[32m_parse_args\u001b[39;49;00m():\r\n",
      "    parser = argparse.ArgumentParser()\r\n",
      "\r\n",
      "    \u001b[37m# Data, model, and output directories\u001b[39;49;00m\r\n",
      "    \u001b[37m# model_dir is always passed in from SageMaker. By default this is a S3 path under the default bucket.\u001b[39;49;00m\r\n",
      "    parser.add_argument(\u001b[33m'\u001b[39;49;00m\u001b[33m--model_dir\u001b[39;49;00m\u001b[33m'\u001b[39;49;00m, \u001b[36mtype\u001b[39;49;00m=\u001b[36mstr\u001b[39;49;00m)\r\n",
      "    parser.add_argument(\u001b[33m'\u001b[39;49;00m\u001b[33m--sm-model-dir\u001b[39;49;00m\u001b[33m'\u001b[39;49;00m, \u001b[36mtype\u001b[39;49;00m=\u001b[36mstr\u001b[39;49;00m, default=os.environ.get(\u001b[33m'\u001b[39;49;00m\u001b[33mSM_MODEL_DIR\u001b[39;49;00m\u001b[33m'\u001b[39;49;00m))\r\n",
      "    parser.add_argument(\u001b[33m'\u001b[39;49;00m\u001b[33m--train\u001b[39;49;00m\u001b[33m'\u001b[39;49;00m, \u001b[36mtype\u001b[39;49;00m=\u001b[36mstr\u001b[39;49;00m, default=os.environ.get(\u001b[33m'\u001b[39;49;00m\u001b[33mSM_CHANNEL_TRAINING\u001b[39;49;00m\u001b[33m'\u001b[39;49;00m))\r\n",
      "    parser.add_argument(\u001b[33m'\u001b[39;49;00m\u001b[33m--test\u001b[39;49;00m\u001b[33m'\u001b[39;49;00m, \u001b[36mtype\u001b[39;49;00m=\u001b[36mstr\u001b[39;49;00m, default=os.environ.get(\u001b[33m'\u001b[39;49;00m\u001b[33mSM_CHANNEL_TESTING\u001b[39;49;00m\u001b[33m'\u001b[39;49;00m))\r\n",
      "    \r\n",
      "    parser.add_argument(\u001b[33m'\u001b[39;49;00m\u001b[33m--hosts\u001b[39;49;00m\u001b[33m'\u001b[39;49;00m, \u001b[36mtype\u001b[39;49;00m=\u001b[36mlist\u001b[39;49;00m, default=json.loads(os.environ.get(\u001b[33m'\u001b[39;49;00m\u001b[33mSM_HOSTS\u001b[39;49;00m\u001b[33m'\u001b[39;49;00m)))\r\n",
      "    parser.add_argument(\u001b[33m'\u001b[39;49;00m\u001b[33m--current-host\u001b[39;49;00m\u001b[33m'\u001b[39;49;00m, \u001b[36mtype\u001b[39;49;00m=\u001b[36mstr\u001b[39;49;00m, default=os.environ.get(\u001b[33m'\u001b[39;49;00m\u001b[33mSM_CURRENT_HOST\u001b[39;49;00m\u001b[33m'\u001b[39;49;00m))\r\n",
      "\r\n",
      "    \u001b[34mreturn\u001b[39;49;00m parser.parse_known_args()\r\n",
      "\r\n",
      "\r\n",
      "\u001b[34mif\u001b[39;49;00m \u001b[31m__name__\u001b[39;49;00m == \u001b[33m\"\u001b[39;49;00m\u001b[33m__main__\u001b[39;49;00m\u001b[33m\"\u001b[39;49;00m:\r\n",
      "    args, unknown = _parse_args()\r\n",
      "\r\n",
      "    train_data, train_labels = _load_data(args.train,\u001b[33m'\u001b[39;49;00m\u001b[33mtrain\u001b[39;49;00m\u001b[33m'\u001b[39;49;00m)\r\n",
      "    eval_data, eval_labels = _load_data(args.test,\u001b[33m'\u001b[39;49;00m\u001b[33mtest\u001b[39;49;00m\u001b[33m'\u001b[39;49;00m)\r\n",
      "\r\n",
      "    classifier = model(train_data, train_labels, eval_data, eval_labels)\r\n",
      "\r\n",
      "    \u001b[34mif\u001b[39;49;00m args.current_host == args.hosts[\u001b[34m0\u001b[39;49;00m]:\r\n",
      "        \u001b[37m# save model to an S3 directory with version number '00000001'\u001b[39;49;00m\r\n",
      "        classifier.save(os.path.join(args.sm_model_dir, \u001b[33m'\u001b[39;49;00m\u001b[33m000000001\u001b[39;49;00m\u001b[33m'\u001b[39;49;00m), \u001b[33m'\u001b[39;49;00m\u001b[33mmy_model.h5\u001b[39;49;00m\u001b[33m'\u001b[39;49;00m)\r\n"
     ]
    }
   ],
   "source": [
    "!pygmentize 'tensorflow_iris.py'"
   ]
  },
  {
   "cell_type": "markdown",
   "metadata": {},
   "source": [
    "# Create a training job using the `TensorFlow` estimator\n",
    "\n",
    "The `sagemaker.tensorflow.TensorFlow` estimator handles locating the script mode container, uploading your script to a S3 location and creating a SageMaker training job. Let's call out a couple important parameters here:\n",
    "\n",
    "* `py_version` is set to `'py3'` to indicate that we are using script mode since legacy mode supports only Python 2. Though Python 2 will be deprecated soon, you can use script mode with Python 2 by setting `py_version` to `'py2'` and `script_mode` to `True`.\n",
    "\n",
    "* `distributions` is used to configure the distributed training setup. It's required only if you are doing distributed training either across a cluster of instances or across multiple GPUs. Here we are using parameter servers as the distributed training schema. SageMaker training jobs run on homogeneous clusters. To make parameter server more performant in the SageMaker setup, we run a parameter server on every instance in the cluster, so there is no need to specify the number of parameter servers to launch. Script mode also supports distributed training with [Horovod](https://github.com/horovod/horovod). You can find the full documentation on how to configure `distributions` [here](https://github.com/aws/sagemaker-python-sdk/tree/master/src/sagemaker/tensorflow#distributed-training). \n",
    "\n"
   ]
  },
  {
   "cell_type": "code",
   "execution_count": 9,
   "metadata": {},
   "outputs": [],
   "source": [
    "from sagemaker.tensorflow import TensorFlow"
   ]
  },
  {
   "cell_type": "markdown",
   "metadata": {},
   "source": [
    "You can also initiate an estimator to train with TensorFlow 2.1 script. The only things that you will need to change are the script name and ``framewotk_version``"
   ]
  },
  {
   "cell_type": "code",
   "execution_count": 10,
   "metadata": {},
   "outputs": [],
   "source": [
    "#instance_type='ml.m5.xlarge'\n",
    "instance_type='local'"
   ]
  },
  {
   "cell_type": "code",
   "execution_count": 11,
   "metadata": {},
   "outputs": [],
   "source": [
    "estimator = TensorFlow(entry_point='tensorflow_iris.py',\n",
    "                       role=role,\n",
    "                       train_instance_count=1,\n",
    "                       train_instance_type=instance_type,\n",
    "                       framework_version='2.1.0',\n",
    "                       py_version='py3',\n",
    "                       output_path=model_data_uri,\n",
    "                       base_job_name='tf-iris',                       \n",
    "                       distributions={'parameter_server': {'enabled': False}})"
   ]
  },
  {
   "cell_type": "markdown",
   "metadata": {},
   "source": [
    "## Calling ``fit``\n",
    "\n",
    "To start a training job, we call `estimator.fit(training_data_uri)`.\n",
    "\n",
    "An S3 location is used here as the input. `fit` creates a default channel named `'training'`, which points to this S3 location. In the training script we can then access the training data from the location stored in `SM_CHANNEL_TRAINING`. `fit` accepts a couple other types of input as well. See the API doc [here](https://sagemaker.readthedocs.io/en/stable/estimators.html#sagemaker.estimator.EstimatorBase.fit) for details.\n",
    "\n",
    "When training starts, the TensorFlow container executes mnist.py, passing `hyperparameters` and `model_dir` from the estimator as script arguments. Because we didn't define either in this example, no hyperparameters are passed, and `model_dir` defaults to `s3://<DEFAULT_BUCKET>/<TRAINING_JOB_NAME>`, so the script execution is as follows:\n",
    "```bash\n",
    "python mnist.py --model_dir s3://<DEFAULT_BUCKET>/<TRAINING_JOB_NAME>\n",
    "```\n",
    "When training is complete, the training job will upload the saved model for TensorFlow serving."
   ]
  },
  {
   "cell_type": "markdown",
   "metadata": {},
   "source": [
    "Calling fit to train a model with TensorFlow 2.1 scroipt."
   ]
  },
  {
   "cell_type": "code",
   "execution_count": 12,
   "metadata": {
    "scrolled": false
   },
   "outputs": [
    {
     "name": "stdout",
     "output_type": "stream",
     "text": [
      "Creating tmpmxtibjb7_algo-1-s7g5f_1 ... \n",
      "\u001b[1BAttaching to tmpmxtibjb7_algo-1-s7g5f_12mdone\u001b[0m\n",
      "\u001b[36malgo-1-s7g5f_1  |\u001b[0m 2020-03-28 21:14:29,614 sagemaker-containers INFO     Imported framework sagemaker_tensorflow_container.training\n",
      "\u001b[36malgo-1-s7g5f_1  |\u001b[0m 2020-03-28 21:14:29,619 sagemaker-containers INFO     No GPUs detected (normal if no gpus installed)\n",
      "\u001b[36malgo-1-s7g5f_1  |\u001b[0m 2020-03-28 21:14:29,782 sagemaker-containers INFO     No GPUs detected (normal if no gpus installed)\n",
      "\u001b[36malgo-1-s7g5f_1  |\u001b[0m 2020-03-28 21:14:29,796 sagemaker-containers INFO     No GPUs detected (normal if no gpus installed)\n",
      "\u001b[36malgo-1-s7g5f_1  |\u001b[0m 2020-03-28 21:14:29,812 sagemaker-containers INFO     No GPUs detected (normal if no gpus installed)\n",
      "\u001b[36malgo-1-s7g5f_1  |\u001b[0m 2020-03-28 21:14:29,822 sagemaker-containers INFO     Invoking user script\n",
      "\u001b[36malgo-1-s7g5f_1  |\u001b[0m \n",
      "\u001b[36malgo-1-s7g5f_1  |\u001b[0m Training Env:\n",
      "\u001b[36malgo-1-s7g5f_1  |\u001b[0m \n",
      "\u001b[36malgo-1-s7g5f_1  |\u001b[0m {\n",
      "\u001b[36malgo-1-s7g5f_1  |\u001b[0m     \"additional_framework_parameters\": {\n",
      "\u001b[36malgo-1-s7g5f_1  |\u001b[0m         \"sagemaker_parameter_server_enabled\": false\n",
      "\u001b[36malgo-1-s7g5f_1  |\u001b[0m     },\n",
      "\u001b[36malgo-1-s7g5f_1  |\u001b[0m     \"channel_input_dirs\": {\n",
      "\u001b[36malgo-1-s7g5f_1  |\u001b[0m         \"training\": \"/opt/ml/input/data/training\",\n",
      "\u001b[36malgo-1-s7g5f_1  |\u001b[0m         \"testing\": \"/opt/ml/input/data/testing\"\n",
      "\u001b[36malgo-1-s7g5f_1  |\u001b[0m     },\n",
      "\u001b[36malgo-1-s7g5f_1  |\u001b[0m     \"current_host\": \"algo-1-s7g5f\",\n",
      "\u001b[36malgo-1-s7g5f_1  |\u001b[0m     \"framework_module\": \"sagemaker_tensorflow_container.training:main\",\n",
      "\u001b[36malgo-1-s7g5f_1  |\u001b[0m     \"hosts\": [\n",
      "\u001b[36malgo-1-s7g5f_1  |\u001b[0m         \"algo-1-s7g5f\"\n",
      "\u001b[36malgo-1-s7g5f_1  |\u001b[0m     ],\n",
      "\u001b[36malgo-1-s7g5f_1  |\u001b[0m     \"hyperparameters\": {\n",
      "\u001b[36malgo-1-s7g5f_1  |\u001b[0m         \"model_dir\": \"s3://chandra-ml-sagemaker/iris/model/tf-iris-2020-03-28-21-14-26-369/model\"\n",
      "\u001b[36malgo-1-s7g5f_1  |\u001b[0m     },\n",
      "\u001b[36malgo-1-s7g5f_1  |\u001b[0m     \"input_config_dir\": \"/opt/ml/input/config\",\n",
      "\u001b[36malgo-1-s7g5f_1  |\u001b[0m     \"input_data_config\": {\n",
      "\u001b[36malgo-1-s7g5f_1  |\u001b[0m         \"training\": {\n",
      "\u001b[36malgo-1-s7g5f_1  |\u001b[0m             \"TrainingInputMode\": \"File\"\n",
      "\u001b[36malgo-1-s7g5f_1  |\u001b[0m         },\n",
      "\u001b[36malgo-1-s7g5f_1  |\u001b[0m         \"testing\": {\n",
      "\u001b[36malgo-1-s7g5f_1  |\u001b[0m             \"TrainingInputMode\": \"File\"\n",
      "\u001b[36malgo-1-s7g5f_1  |\u001b[0m         }\n",
      "\u001b[36malgo-1-s7g5f_1  |\u001b[0m     },\n",
      "\u001b[36malgo-1-s7g5f_1  |\u001b[0m     \"input_dir\": \"/opt/ml/input\",\n",
      "\u001b[36malgo-1-s7g5f_1  |\u001b[0m     \"is_master\": true,\n",
      "\u001b[36malgo-1-s7g5f_1  |\u001b[0m     \"job_name\": \"tf-iris-2020-03-28-21-14-26-369\",\n",
      "\u001b[36malgo-1-s7g5f_1  |\u001b[0m     \"log_level\": 20,\n",
      "\u001b[36malgo-1-s7g5f_1  |\u001b[0m     \"master_hostname\": \"algo-1-s7g5f\",\n",
      "\u001b[36malgo-1-s7g5f_1  |\u001b[0m     \"model_dir\": \"/opt/ml/model\",\n",
      "\u001b[36malgo-1-s7g5f_1  |\u001b[0m     \"module_dir\": \"s3://chandra-ml-sagemaker/tf-iris-2020-03-28-21-14-26-369/source/sourcedir.tar.gz\",\n",
      "\u001b[36malgo-1-s7g5f_1  |\u001b[0m     \"module_name\": \"tensorflow_iris\",\n",
      "\u001b[36malgo-1-s7g5f_1  |\u001b[0m     \"network_interface_name\": \"eth0\",\n",
      "\u001b[36malgo-1-s7g5f_1  |\u001b[0m     \"num_cpus\": 4,\n",
      "\u001b[36malgo-1-s7g5f_1  |\u001b[0m     \"num_gpus\": 0,\n",
      "\u001b[36malgo-1-s7g5f_1  |\u001b[0m     \"output_data_dir\": \"/opt/ml/output/data\",\n",
      "\u001b[36malgo-1-s7g5f_1  |\u001b[0m     \"output_dir\": \"/opt/ml/output\",\n",
      "\u001b[36malgo-1-s7g5f_1  |\u001b[0m     \"output_intermediate_dir\": \"/opt/ml/output/intermediate\",\n",
      "\u001b[36malgo-1-s7g5f_1  |\u001b[0m     \"resource_config\": {\n",
      "\u001b[36malgo-1-s7g5f_1  |\u001b[0m         \"current_host\": \"algo-1-s7g5f\",\n",
      "\u001b[36malgo-1-s7g5f_1  |\u001b[0m         \"hosts\": [\n",
      "\u001b[36malgo-1-s7g5f_1  |\u001b[0m             \"algo-1-s7g5f\"\n",
      "\u001b[36malgo-1-s7g5f_1  |\u001b[0m         ]\n",
      "\u001b[36malgo-1-s7g5f_1  |\u001b[0m     },\n",
      "\u001b[36malgo-1-s7g5f_1  |\u001b[0m     \"user_entry_point\": \"tensorflow_iris.py\"\n",
      "\u001b[36malgo-1-s7g5f_1  |\u001b[0m }\n",
      "\u001b[36malgo-1-s7g5f_1  |\u001b[0m \n",
      "\u001b[36malgo-1-s7g5f_1  |\u001b[0m Environment variables:\n",
      "\u001b[36malgo-1-s7g5f_1  |\u001b[0m \n",
      "\u001b[36malgo-1-s7g5f_1  |\u001b[0m SM_HOSTS=[\"algo-1-s7g5f\"]\n",
      "\u001b[36malgo-1-s7g5f_1  |\u001b[0m SM_NETWORK_INTERFACE_NAME=eth0\n",
      "\u001b[36malgo-1-s7g5f_1  |\u001b[0m SM_HPS={\"model_dir\":\"s3://chandra-ml-sagemaker/iris/model/tf-iris-2020-03-28-21-14-26-369/model\"}\n",
      "\u001b[36malgo-1-s7g5f_1  |\u001b[0m SM_USER_ENTRY_POINT=tensorflow_iris.py\n",
      "\u001b[36malgo-1-s7g5f_1  |\u001b[0m SM_FRAMEWORK_PARAMS={\"sagemaker_parameter_server_enabled\":false}\n",
      "\u001b[36malgo-1-s7g5f_1  |\u001b[0m SM_RESOURCE_CONFIG={\"current_host\":\"algo-1-s7g5f\",\"hosts\":[\"algo-1-s7g5f\"]}\n",
      "\u001b[36malgo-1-s7g5f_1  |\u001b[0m SM_INPUT_DATA_CONFIG={\"testing\":{\"TrainingInputMode\":\"File\"},\"training\":{\"TrainingInputMode\":\"File\"}}\n",
      "\u001b[36malgo-1-s7g5f_1  |\u001b[0m SM_OUTPUT_DATA_DIR=/opt/ml/output/data\n",
      "\u001b[36malgo-1-s7g5f_1  |\u001b[0m SM_CHANNELS=[\"testing\",\"training\"]\n",
      "\u001b[36malgo-1-s7g5f_1  |\u001b[0m SM_CURRENT_HOST=algo-1-s7g5f\n",
      "\u001b[36malgo-1-s7g5f_1  |\u001b[0m SM_MODULE_NAME=tensorflow_iris\n",
      "\u001b[36malgo-1-s7g5f_1  |\u001b[0m SM_LOG_LEVEL=20\n",
      "\u001b[36malgo-1-s7g5f_1  |\u001b[0m SM_FRAMEWORK_MODULE=sagemaker_tensorflow_container.training:main\n",
      "\u001b[36malgo-1-s7g5f_1  |\u001b[0m SM_INPUT_DIR=/opt/ml/input\n",
      "\u001b[36malgo-1-s7g5f_1  |\u001b[0m SM_INPUT_CONFIG_DIR=/opt/ml/input/config\n",
      "\u001b[36malgo-1-s7g5f_1  |\u001b[0m SM_OUTPUT_DIR=/opt/ml/output\n",
      "\u001b[36malgo-1-s7g5f_1  |\u001b[0m SM_NUM_CPUS=4\n",
      "\u001b[36malgo-1-s7g5f_1  |\u001b[0m SM_NUM_GPUS=0\n",
      "\u001b[36malgo-1-s7g5f_1  |\u001b[0m SM_MODEL_DIR=/opt/ml/model\n",
      "\u001b[36malgo-1-s7g5f_1  |\u001b[0m SM_MODULE_DIR=s3://chandra-ml-sagemaker/tf-iris-2020-03-28-21-14-26-369/source/sourcedir.tar.gz\n",
      "\u001b[36malgo-1-s7g5f_1  |\u001b[0m SM_TRAINING_ENV={\"additional_framework_parameters\":{\"sagemaker_parameter_server_enabled\":false},\"channel_input_dirs\":{\"testing\":\"/opt/ml/input/data/testing\",\"training\":\"/opt/ml/input/data/training\"},\"current_host\":\"algo-1-s7g5f\",\"framework_module\":\"sagemaker_tensorflow_container.training:main\",\"hosts\":[\"algo-1-s7g5f\"],\"hyperparameters\":{\"model_dir\":\"s3://chandra-ml-sagemaker/iris/model/tf-iris-2020-03-28-21-14-26-369/model\"},\"input_config_dir\":\"/opt/ml/input/config\",\"input_data_config\":{\"testing\":{\"TrainingInputMode\":\"File\"},\"training\":{\"TrainingInputMode\":\"File\"}},\"input_dir\":\"/opt/ml/input\",\"is_master\":true,\"job_name\":\"tf-iris-2020-03-28-21-14-26-369\",\"log_level\":20,\"master_hostname\":\"algo-1-s7g5f\",\"model_dir\":\"/opt/ml/model\",\"module_dir\":\"s3://chandra-ml-sagemaker/tf-iris-2020-03-28-21-14-26-369/source/sourcedir.tar.gz\",\"module_name\":\"tensorflow_iris\",\"network_interface_name\":\"eth0\",\"num_cpus\":4,\"num_gpus\":0,\"output_data_dir\":\"/opt/ml/output/data\",\"output_dir\":\"/opt/ml/output\",\"output_intermediate_dir\":\"/opt/ml/output/intermediate\",\"resource_config\":{\"current_host\":\"algo-1-s7g5f\",\"hosts\":[\"algo-1-s7g5f\"]},\"user_entry_point\":\"tensorflow_iris.py\"}\n",
      "\u001b[36malgo-1-s7g5f_1  |\u001b[0m SM_USER_ARGS=[\"--model_dir\",\"s3://chandra-ml-sagemaker/iris/model/tf-iris-2020-03-28-21-14-26-369/model\"]\n",
      "\u001b[36malgo-1-s7g5f_1  |\u001b[0m SM_OUTPUT_INTERMEDIATE_DIR=/opt/ml/output/intermediate\n",
      "\u001b[36malgo-1-s7g5f_1  |\u001b[0m SM_CHANNEL_TRAINING=/opt/ml/input/data/training\n",
      "\u001b[36malgo-1-s7g5f_1  |\u001b[0m SM_CHANNEL_TESTING=/opt/ml/input/data/testing\n",
      "\u001b[36malgo-1-s7g5f_1  |\u001b[0m SM_HP_MODEL_DIR=s3://chandra-ml-sagemaker/iris/model/tf-iris-2020-03-28-21-14-26-369/model\n",
      "\u001b[36malgo-1-s7g5f_1  |\u001b[0m PYTHONPATH=/opt/ml/code:/usr/local/bin:/usr/lib/python36.zip:/usr/lib/python3.6:/usr/lib/python3.6/lib-dynload:/usr/local/lib/python3.6/dist-packages:/usr/lib/python3/dist-packages\n",
      "\u001b[36malgo-1-s7g5f_1  |\u001b[0m \n",
      "\u001b[36malgo-1-s7g5f_1  |\u001b[0m Invoking script with the following command:\n",
      "\u001b[36malgo-1-s7g5f_1  |\u001b[0m \n",
      "\u001b[36malgo-1-s7g5f_1  |\u001b[0m /usr/bin/python3 tensorflow_iris.py --model_dir s3://chandra-ml-sagemaker/iris/model/tf-iris-2020-03-28-21-14-26-369/model\n",
      "\u001b[36malgo-1-s7g5f_1  |\u001b[0m \n",
      "\u001b[36malgo-1-s7g5f_1  |\u001b[0m \n",
      "\u001b[36malgo-1-s7g5f_1  |\u001b[0m Train on 105 samples, validate on 45 samples\n",
      "\u001b[36malgo-1-s7g5f_1  |\u001b[0m Epoch 1/300\n",
      "105/105 [==============================] - 1s 5ms/sample - loss: 1.4654 - accuracy: 0.3714 - val_loss: 1.4819 - val_accuracy: 0.2444\n",
      "\u001b[36malgo-1-s7g5f_1  |\u001b[0m Epoch 2/300\n",
      "105/105 [==============================] - 0s 147us/sample - loss: 1.2519 - accuracy: 0.3714 - val_loss: 1.2911 - val_accuracy: 0.2444\n",
      "\u001b[36malgo-1-s7g5f_1  |\u001b[0m Epoch 3/300\n",
      "105/105 [==============================] - 0s 132us/sample - loss: 1.1363 - accuracy: 0.3714 - val_loss: 1.1533 - val_accuracy: 0.2444\n",
      "\u001b[36malgo-1-s7g5f_1  |\u001b[0m Epoch 4/300\n",
      "105/105 [==============================] - 0s 131us/sample - loss: 1.0570 - accuracy: 0.3714 - val_loss: 1.0774 - val_accuracy: 0.2667\n",
      "\u001b[36malgo-1-s7g5f_1  |\u001b[0m Epoch 5/300\n",
      "105/105 [==============================] - 0s 131us/sample - loss: 1.0104 - accuracy: 0.4000 - val_loss: 1.0004 - val_accuracy: 0.3778\n",
      "\u001b[36malgo-1-s7g5f_1  |\u001b[0m Epoch 6/300\n",
      "105/105 [==============================] - 0s 131us/sample - loss: 0.9729 - accuracy: 0.4286 - val_loss: 0.9534 - val_accuracy: 0.4667\n",
      "\u001b[36malgo-1-s7g5f_1  |\u001b[0m Epoch 7/300\n",
      "105/105 [==============================] - 0s 131us/sample - loss: 0.9509 - accuracy: 0.5048 - val_loss: 0.9251 - val_accuracy: 0.4667\n",
      "\u001b[36malgo-1-s7g5f_1  |\u001b[0m Epoch 8/300\n",
      "105/105 [==============================] - 0s 130us/sample - loss: 0.9325 - accuracy: 0.5238 - val_loss: 0.8986 - val_accuracy: 0.4667\n",
      "\u001b[36malgo-1-s7g5f_1  |\u001b[0m Epoch 9/300\n",
      "105/105 [==============================] - 0s 130us/sample - loss: 0.9188 - accuracy: 0.4857 - val_loss: 0.8828 - val_accuracy: 0.4667\n",
      "\u001b[36malgo-1-s7g5f_1  |\u001b[0m Epoch 10/300\n",
      "105/105 [==============================] - 0s 132us/sample - loss: 0.9072 - accuracy: 0.4667 - val_loss: 0.8692 - val_accuracy: 0.4667\n",
      "\u001b[36malgo-1-s7g5f_1  |\u001b[0m Epoch 11/300\n",
      "105/105 [==============================] - 0s 132us/sample - loss: 0.8889 - accuracy: 0.4762 - val_loss: 0.8545 - val_accuracy: 0.4667\n",
      "\u001b[36malgo-1-s7g5f_1  |\u001b[0m Epoch 12/300\n",
      "105/105 [==============================] - 0s 129us/sample - loss: 0.8777 - accuracy: 0.6000 - val_loss: 0.8339 - val_accuracy: 0.6444\n",
      "\u001b[36malgo-1-s7g5f_1  |\u001b[0m Epoch 13/300\n",
      "105/105 [==============================] - 0s 134us/sample - loss: 0.8651 - accuracy: 0.6476 - val_loss: 0.8345 - val_accuracy: 0.4444\n",
      "\u001b[36malgo-1-s7g5f_1  |\u001b[0m Epoch 14/300\n",
      "105/105 [==============================] - 0s 132us/sample - loss: 0.8515 - accuracy: 0.6667 - val_loss: 0.8275 - val_accuracy: 0.7556\n",
      "\u001b[36malgo-1-s7g5f_1  |\u001b[0m Epoch 15/300\n",
      "105/105 [==============================] - 0s 129us/sample - loss: 0.8411 - accuracy: 0.8286 - val_loss: 0.8030 - val_accuracy: 0.8000\n",
      "\u001b[36malgo-1-s7g5f_1  |\u001b[0m Epoch 16/300\n"
     ]
    },
    {
     "name": "stdout",
     "output_type": "stream",
     "text": [
      "105/105 [==============================] - 0s 152us/sample - loss: 0.8282 - accuracy: 0.8190 - val_loss: 0.7820 - val_accuracy: 0.8222\n",
      "\u001b[36malgo-1-s7g5f_1  |\u001b[0m Epoch 17/300\n",
      "105/105 [==============================] - 0s 131us/sample - loss: 0.8177 - accuracy: 0.7619 - val_loss: 0.7657 - val_accuracy: 0.8000\n",
      "\u001b[36malgo-1-s7g5f_1  |\u001b[0m Epoch 18/300\n",
      "105/105 [==============================] - 0s 129us/sample - loss: 0.8074 - accuracy: 0.7714 - val_loss: 0.7618 - val_accuracy: 0.8000\n",
      "\u001b[36malgo-1-s7g5f_1  |\u001b[0m Epoch 19/300\n",
      "105/105 [==============================] - 0s 128us/sample - loss: 0.7940 - accuracy: 0.8381 - val_loss: 0.7483 - val_accuracy: 0.8222\n",
      "\u001b[36malgo-1-s7g5f_1  |\u001b[0m Epoch 20/300\n",
      "105/105 [==============================] - 0s 130us/sample - loss: 0.7801 - accuracy: 0.8000 - val_loss: 0.7444 - val_accuracy: 0.8667\n",
      "\u001b[36malgo-1-s7g5f_1  |\u001b[0m Epoch 21/300\n",
      "105/105 [==============================] - 0s 127us/sample - loss: 0.7706 - accuracy: 0.8476 - val_loss: 0.7304 - val_accuracy: 0.8667\n",
      "\u001b[36malgo-1-s7g5f_1  |\u001b[0m Epoch 22/300\n",
      "105/105 [==============================] - 0s 128us/sample - loss: 0.7567 - accuracy: 0.8762 - val_loss: 0.7236 - val_accuracy: 0.8667\n",
      "\u001b[36malgo-1-s7g5f_1  |\u001b[0m Epoch 23/300\n",
      "105/105 [==============================] - 0s 131us/sample - loss: 0.7446 - accuracy: 0.8762 - val_loss: 0.7051 - val_accuracy: 0.8667\n",
      "\u001b[36malgo-1-s7g5f_1  |\u001b[0m Epoch 24/300\n",
      "105/105 [==============================] - 0s 130us/sample - loss: 0.7394 - accuracy: 0.8857 - val_loss: 0.6808 - val_accuracy: 0.8000\n",
      "\u001b[36malgo-1-s7g5f_1  |\u001b[0m Epoch 25/300\n",
      "105/105 [==============================] - 0s 131us/sample - loss: 0.7243 - accuracy: 0.7524 - val_loss: 0.6892 - val_accuracy: 0.8667\n",
      "\u001b[36malgo-1-s7g5f_1  |\u001b[0m Epoch 26/300\n",
      "105/105 [==============================] - 0s 128us/sample - loss: 0.7166 - accuracy: 0.8762 - val_loss: 0.6837 - val_accuracy: 0.8667\n",
      "\u001b[36malgo-1-s7g5f_1  |\u001b[0m Epoch 27/300\n",
      "105/105 [==============================] - 0s 127us/sample - loss: 0.7053 - accuracy: 0.8952 - val_loss: 0.6589 - val_accuracy: 0.8222\n",
      "\u001b[36malgo-1-s7g5f_1  |\u001b[0m Epoch 28/300\n",
      "105/105 [==============================] - 0s 129us/sample - loss: 0.6955 - accuracy: 0.8476 - val_loss: 0.6405 - val_accuracy: 0.8444\n",
      "\u001b[36malgo-1-s7g5f_1  |\u001b[0m Epoch 29/300\n",
      "105/105 [==============================] - 0s 128us/sample - loss: 0.6852 - accuracy: 0.7905 - val_loss: 0.6385 - val_accuracy: 0.8667\n",
      "\u001b[36malgo-1-s7g5f_1  |\u001b[0m Epoch 30/300\n",
      "105/105 [==============================] - 0s 127us/sample - loss: 0.6746 - accuracy: 0.9048 - val_loss: 0.6336 - val_accuracy: 0.8667\n",
      "\u001b[36malgo-1-s7g5f_1  |\u001b[0m Epoch 31/300\n",
      "105/105 [==============================] - 0s 152us/sample - loss: 0.6670 - accuracy: 0.8952 - val_loss: 0.6321 - val_accuracy: 0.8889\n",
      "\u001b[36malgo-1-s7g5f_1  |\u001b[0m Epoch 32/300\n",
      "105/105 [==============================] - 0s 127us/sample - loss: 0.6551 - accuracy: 0.9238 - val_loss: 0.6159 - val_accuracy: 0.8889\n",
      "\u001b[36malgo-1-s7g5f_1  |\u001b[0m Epoch 33/300\n",
      "105/105 [==============================] - 0s 127us/sample - loss: 0.6456 - accuracy: 0.8857 - val_loss: 0.6076 - val_accuracy: 0.8889\n",
      "\u001b[36malgo-1-s7g5f_1  |\u001b[0m Epoch 34/300\n",
      "105/105 [==============================] - 0s 128us/sample - loss: 0.6427 - accuracy: 0.8667 - val_loss: 0.6087 - val_accuracy: 0.8889\n",
      "\u001b[36malgo-1-s7g5f_1  |\u001b[0m Epoch 35/300\n",
      "105/105 [==============================] - 0s 129us/sample - loss: 0.6307 - accuracy: 0.8857 - val_loss: 0.5925 - val_accuracy: 0.8889\n",
      "\u001b[36malgo-1-s7g5f_1  |\u001b[0m Epoch 36/300\n",
      "105/105 [==============================] - 0s 132us/sample - loss: 0.6177 - accuracy: 0.9143 - val_loss: 0.5694 - val_accuracy: 0.8889\n",
      "\u001b[36malgo-1-s7g5f_1  |\u001b[0m Epoch 37/300\n",
      "105/105 [==============================] - 0s 132us/sample - loss: 0.6098 - accuracy: 0.8762 - val_loss: 0.5607 - val_accuracy: 0.8889\n",
      "\u001b[36malgo-1-s7g5f_1  |\u001b[0m Epoch 38/300\n",
      "105/105 [==============================] - 0s 130us/sample - loss: 0.5999 - accuracy: 0.9143 - val_loss: 0.5527 - val_accuracy: 0.8889\n",
      "\u001b[36malgo-1-s7g5f_1  |\u001b[0m Epoch 39/300\n",
      "105/105 [==============================] - 0s 133us/sample - loss: 0.5940 - accuracy: 0.9048 - val_loss: 0.5485 - val_accuracy: 0.8889\n",
      "\u001b[36malgo-1-s7g5f_1  |\u001b[0m Epoch 40/300\n",
      "105/105 [==============================] - 0s 132us/sample - loss: 0.5851 - accuracy: 0.8667 - val_loss: 0.5358 - val_accuracy: 0.8889\n",
      "\u001b[36malgo-1-s7g5f_1  |\u001b[0m Epoch 41/300\n",
      "105/105 [==============================] - 0s 129us/sample - loss: 0.5748 - accuracy: 0.8857 - val_loss: 0.5217 - val_accuracy: 0.9111\n",
      "\u001b[36malgo-1-s7g5f_1  |\u001b[0m Epoch 42/300\n",
      "105/105 [==============================] - 0s 132us/sample - loss: 0.5663 - accuracy: 0.8476 - val_loss: 0.5268 - val_accuracy: 0.8889\n",
      "\u001b[36malgo-1-s7g5f_1  |\u001b[0m Epoch 43/300\n",
      "105/105 [==============================] - 0s 131us/sample - loss: 0.5610 - accuracy: 0.9048 - val_loss: 0.5059 - val_accuracy: 0.9111\n",
      "\u001b[36malgo-1-s7g5f_1  |\u001b[0m Epoch 44/300\n",
      "105/105 [==============================] - 0s 131us/sample - loss: 0.5563 - accuracy: 0.8857 - val_loss: 0.5053 - val_accuracy: 0.8889\n",
      "\u001b[36malgo-1-s7g5f_1  |\u001b[0m Epoch 45/300\n",
      "105/105 [==============================] - 0s 127us/sample - loss: 0.5445 - accuracy: 0.9524 - val_loss: 0.4888 - val_accuracy: 0.9111\n",
      "\u001b[36malgo-1-s7g5f_1  |\u001b[0m Epoch 46/300\n",
      "105/105 [==============================] - 0s 138us/sample - loss: 0.5414 - accuracy: 0.8667 - val_loss: 0.4871 - val_accuracy: 0.8889\n",
      "\u001b[36malgo-1-s7g5f_1  |\u001b[0m Epoch 47/300\n",
      "105/105 [==============================] - 0s 129us/sample - loss: 0.5310 - accuracy: 0.8857 - val_loss: 0.4881 - val_accuracy: 0.8889\n",
      "\u001b[36malgo-1-s7g5f_1  |\u001b[0m Epoch 48/300\n",
      "105/105 [==============================] - 0s 128us/sample - loss: 0.5240 - accuracy: 0.9524 - val_loss: 0.4715 - val_accuracy: 0.9111\n",
      "\u001b[36malgo-1-s7g5f_1  |\u001b[0m Epoch 49/300\n",
      "105/105 [==============================] - 0s 127us/sample - loss: 0.5197 - accuracy: 0.8476 - val_loss: 0.4666 - val_accuracy: 0.9111\n",
      "\u001b[36malgo-1-s7g5f_1  |\u001b[0m Epoch 50/300\n",
      "105/105 [==============================] - 0s 127us/sample - loss: 0.5130 - accuracy: 0.8857 - val_loss: 0.4697 - val_accuracy: 0.8889\n",
      "\u001b[36malgo-1-s7g5f_1  |\u001b[0m Epoch 51/300\n",
      "105/105 [==============================] - 0s 131us/sample - loss: 0.5043 - accuracy: 0.9429 - val_loss: 0.4800 - val_accuracy: 0.9111\n",
      "\u001b[36malgo-1-s7g5f_1  |\u001b[0m Epoch 52/300\n",
      "105/105 [==============================] - 0s 149us/sample - loss: 0.5008 - accuracy: 0.9333 - val_loss: 0.4831 - val_accuracy: 0.9111\n",
      "\u001b[36malgo-1-s7g5f_1  |\u001b[0m Epoch 53/300\n",
      "105/105 [==============================] - 0s 129us/sample - loss: 0.5028 - accuracy: 0.8952 - val_loss: 0.4756 - val_accuracy: 0.9333\n",
      "\u001b[36malgo-1-s7g5f_1  |\u001b[0m Epoch 54/300\n",
      "105/105 [==============================] - 0s 128us/sample - loss: 0.4946 - accuracy: 0.8667 - val_loss: 0.4609 - val_accuracy: 0.9111\n",
      "\u001b[36malgo-1-s7g5f_1  |\u001b[0m Epoch 55/300\n",
      "105/105 [==============================] - 0s 148us/sample - loss: 0.4819 - accuracy: 0.9333 - val_loss: 0.4465 - val_accuracy: 0.9111\n",
      "\u001b[36malgo-1-s7g5f_1  |\u001b[0m Epoch 56/300\n",
      "105/105 [==============================] - 0s 127us/sample - loss: 0.4768 - accuracy: 0.9619 - val_loss: 0.4292 - val_accuracy: 0.9333\n",
      "\u001b[36malgo-1-s7g5f_1  |\u001b[0m Epoch 57/300\n",
      "105/105 [==============================] - 0s 128us/sample - loss: 0.4712 - accuracy: 0.9238 - val_loss: 0.4281 - val_accuracy: 0.9111\n",
      "\u001b[36malgo-1-s7g5f_1  |\u001b[0m Epoch 58/300\n",
      "105/105 [==============================] - 0s 130us/sample - loss: 0.4648 - accuracy: 0.9619 - val_loss: 0.4294 - val_accuracy: 0.9111\n",
      "\u001b[36malgo-1-s7g5f_1  |\u001b[0m Epoch 59/300\n",
      "105/105 [==============================] - 0s 130us/sample - loss: 0.4604 - accuracy: 0.9524 - val_loss: 0.4081 - val_accuracy: 0.9333\n",
      "\u001b[36malgo-1-s7g5f_1  |\u001b[0m Epoch 60/300\n",
      "105/105 [==============================] - 0s 128us/sample - loss: 0.4573 - accuracy: 0.8952 - val_loss: 0.4027 - val_accuracy: 0.9111\n",
      "\u001b[36malgo-1-s7g5f_1  |\u001b[0m Epoch 61/300\n",
      "105/105 [==============================] - 0s 144us/sample - loss: 0.4515 - accuracy: 0.8762 - val_loss: 0.4140 - val_accuracy: 0.9111\n",
      "\u001b[36malgo-1-s7g5f_1  |\u001b[0m Epoch 62/300\n",
      "105/105 [==============================] - 0s 128us/sample - loss: 0.4439 - accuracy: 0.9714 - val_loss: 0.4062 - val_accuracy: 0.9111\n",
      "\u001b[36malgo-1-s7g5f_1  |\u001b[0m Epoch 63/300\n",
      "105/105 [==============================] - 0s 129us/sample - loss: 0.4401 - accuracy: 0.9714 - val_loss: 0.3923 - val_accuracy: 0.9333\n",
      "\u001b[36malgo-1-s7g5f_1  |\u001b[0m Epoch 64/300\n",
      "105/105 [==============================] - 0s 127us/sample - loss: 0.4375 - accuracy: 0.9238 - val_loss: 0.3857 - val_accuracy: 0.9333\n",
      "\u001b[36malgo-1-s7g5f_1  |\u001b[0m Epoch 65/300\n",
      "105/105 [==============================] - 0s 129us/sample - loss: 0.4338 - accuracy: 0.9333 - val_loss: 0.3910 - val_accuracy: 0.9111\n",
      "\u001b[36malgo-1-s7g5f_1  |\u001b[0m Epoch 66/300\n",
      "105/105 [==============================] - 0s 127us/sample - loss: 0.4261 - accuracy: 0.9714 - val_loss: 0.3771 - val_accuracy: 0.9333\n",
      "\u001b[36malgo-1-s7g5f_1  |\u001b[0m Epoch 67/300\n",
      "105/105 [==============================] - 0s 127us/sample - loss: 0.4268 - accuracy: 0.9524 - val_loss: 0.3720 - val_accuracy: 0.9111\n",
      "\u001b[36malgo-1-s7g5f_1  |\u001b[0m Epoch 68/300\n",
      "105/105 [==============================] - 0s 126us/sample - loss: 0.4222 - accuracy: 0.8571 - val_loss: 0.3760 - val_accuracy: 0.9333\n",
      "\u001b[36malgo-1-s7g5f_1  |\u001b[0m Epoch 69/300\n",
      "105/105 [==============================] - 0s 128us/sample - loss: 0.4153 - accuracy: 0.9714 - val_loss: 0.3847 - val_accuracy: 0.9111\n",
      "\u001b[36malgo-1-s7g5f_1  |\u001b[0m Epoch 70/300\n",
      "105/105 [==============================] - 0s 128us/sample - loss: 0.4104 - accuracy: 0.9619 - val_loss: 0.3739 - val_accuracy: 0.9111\n",
      "\u001b[36malgo-1-s7g5f_1  |\u001b[0m Epoch 71/300\n",
      "105/105 [==============================] - 0s 128us/sample - loss: 0.4097 - accuracy: 0.9810 - val_loss: 0.3730 - val_accuracy: 0.9111\n",
      "\u001b[36malgo-1-s7g5f_1  |\u001b[0m Epoch 72/300\n",
      "105/105 [==============================] - 0s 141us/sample - loss: 0.4031 - accuracy: 0.9714 - val_loss: 0.3600 - val_accuracy: 0.9556\n",
      "\u001b[36malgo-1-s7g5f_1  |\u001b[0m Epoch 73/300\n",
      "105/105 [==============================] - 0s 127us/sample - loss: 0.3985 - accuracy: 0.9619 - val_loss: 0.3624 - val_accuracy: 0.9111\n",
      "\u001b[36malgo-1-s7g5f_1  |\u001b[0m Epoch 74/300\n",
      "105/105 [==============================] - 0s 127us/sample - loss: 0.3977 - accuracy: 0.9524 - val_loss: 0.3658 - val_accuracy: 0.9111\n",
      "\u001b[36malgo-1-s7g5f_1  |\u001b[0m Epoch 75/300\n",
      "105/105 [==============================] - 0s 132us/sample - loss: 0.3914 - accuracy: 0.9619 - val_loss: 0.3501 - val_accuracy: 0.9556\n",
      "\u001b[36malgo-1-s7g5f_1  |\u001b[0m Epoch 76/300\n"
     ]
    },
    {
     "name": "stdout",
     "output_type": "stream",
     "text": [
      "105/105 [==============================] - 0s 142us/sample - loss: 0.3876 - accuracy: 0.9714 - val_loss: 0.3433 - val_accuracy: 0.9333\n",
      "\u001b[36malgo-1-s7g5f_1  |\u001b[0m Epoch 77/300\n",
      "105/105 [==============================] - 0s 128us/sample - loss: 0.3829 - accuracy: 0.9429 - val_loss: 0.3552 - val_accuracy: 0.9111\n",
      "\u001b[36malgo-1-s7g5f_1  |\u001b[0m Epoch 78/300\n",
      "105/105 [==============================] - 0s 129us/sample - loss: 0.3830 - accuracy: 0.9619 - val_loss: 0.3503 - val_accuracy: 0.9111\n",
      "\u001b[36malgo-1-s7g5f_1  |\u001b[0m Epoch 79/300\n",
      "105/105 [==============================] - 0s 126us/sample - loss: 0.3761 - accuracy: 0.9619 - val_loss: 0.3541 - val_accuracy: 0.9333\n",
      "\u001b[36malgo-1-s7g5f_1  |\u001b[0m Epoch 80/300\n",
      "105/105 [==============================] - 0s 127us/sample - loss: 0.3736 - accuracy: 0.9619 - val_loss: 0.3487 - val_accuracy: 0.9111\n",
      "\u001b[36malgo-1-s7g5f_1  |\u001b[0m Epoch 81/300\n",
      "105/105 [==============================] - 0s 126us/sample - loss: 0.3704 - accuracy: 0.9524 - val_loss: 0.3301 - val_accuracy: 0.9556\n",
      "\u001b[36malgo-1-s7g5f_1  |\u001b[0m Epoch 82/300\n",
      "105/105 [==============================] - 0s 127us/sample - loss: 0.3648 - accuracy: 0.9810 - val_loss: 0.3230 - val_accuracy: 0.9556\n",
      "\u001b[36malgo-1-s7g5f_1  |\u001b[0m Epoch 83/300\n",
      "105/105 [==============================] - 0s 127us/sample - loss: 0.3652 - accuracy: 0.9714 - val_loss: 0.3216 - val_accuracy: 0.9556\n",
      "\u001b[36malgo-1-s7g5f_1  |\u001b[0m Epoch 84/300\n",
      "105/105 [==============================] - 0s 127us/sample - loss: 0.3595 - accuracy: 0.9714 - val_loss: 0.3144 - val_accuracy: 0.9556\n",
      "\u001b[36malgo-1-s7g5f_1  |\u001b[0m Epoch 85/300\n",
      "105/105 [==============================] - 0s 127us/sample - loss: 0.3549 - accuracy: 0.9524 - val_loss: 0.3243 - val_accuracy: 0.9111\n",
      "\u001b[36malgo-1-s7g5f_1  |\u001b[0m Epoch 86/300\n",
      "105/105 [==============================] - 0s 126us/sample - loss: 0.3527 - accuracy: 0.9714 - val_loss: 0.3225 - val_accuracy: 0.9111\n",
      "\u001b[36malgo-1-s7g5f_1  |\u001b[0m Epoch 87/300\n",
      "105/105 [==============================] - 0s 127us/sample - loss: 0.3481 - accuracy: 0.9619 - val_loss: 0.3064 - val_accuracy: 0.9556\n",
      "\u001b[36malgo-1-s7g5f_1  |\u001b[0m Epoch 88/300\n",
      "105/105 [==============================] - 0s 127us/sample - loss: 0.3443 - accuracy: 0.9810 - val_loss: 0.3096 - val_accuracy: 0.9333\n",
      "\u001b[36malgo-1-s7g5f_1  |\u001b[0m Epoch 89/300\n",
      "105/105 [==============================] - 0s 126us/sample - loss: 0.3415 - accuracy: 0.9810 - val_loss: 0.3173 - val_accuracy: 0.9111\n",
      "\u001b[36malgo-1-s7g5f_1  |\u001b[0m Epoch 90/300\n",
      "105/105 [==============================] - 0s 128us/sample - loss: 0.3373 - accuracy: 0.9714 - val_loss: 0.3001 - val_accuracy: 0.9556\n",
      "\u001b[36malgo-1-s7g5f_1  |\u001b[0m Epoch 91/300\n",
      "105/105 [==============================] - 0s 149us/sample - loss: 0.3366 - accuracy: 0.9810 - val_loss: 0.3107 - val_accuracy: 0.9111\n",
      "\u001b[36malgo-1-s7g5f_1  |\u001b[0m Epoch 92/300\n",
      "105/105 [==============================] - 0s 129us/sample - loss: 0.3311 - accuracy: 0.9619 - val_loss: 0.3091 - val_accuracy: 0.9111\n",
      "\u001b[36malgo-1-s7g5f_1  |\u001b[0m Epoch 93/300\n",
      "105/105 [==============================] - 0s 127us/sample - loss: 0.3334 - accuracy: 0.9524 - val_loss: 0.3073 - val_accuracy: 0.9111\n",
      "\u001b[36malgo-1-s7g5f_1  |\u001b[0m Epoch 94/300\n",
      "105/105 [==============================] - 0s 128us/sample - loss: 0.3268 - accuracy: 0.9619 - val_loss: 0.2985 - val_accuracy: 0.9111\n",
      "\u001b[36malgo-1-s7g5f_1  |\u001b[0m Epoch 95/300\n",
      "105/105 [==============================] - 0s 127us/sample - loss: 0.3226 - accuracy: 0.9714 - val_loss: 0.3000 - val_accuracy: 0.9111\n",
      "\u001b[36malgo-1-s7g5f_1  |\u001b[0m Epoch 96/300\n",
      "105/105 [==============================] - 0s 126us/sample - loss: 0.3237 - accuracy: 0.9714 - val_loss: 0.2865 - val_accuracy: 0.9556\n",
      "\u001b[36malgo-1-s7g5f_1  |\u001b[0m Epoch 97/300\n",
      "105/105 [==============================] - 0s 129us/sample - loss: 0.3179 - accuracy: 0.9905 - val_loss: 0.2863 - val_accuracy: 0.9333\n",
      "\u001b[36malgo-1-s7g5f_1  |\u001b[0m Epoch 98/300\n",
      "105/105 [==============================] - 0s 131us/sample - loss: 0.3132 - accuracy: 0.9810 - val_loss: 0.2826 - val_accuracy: 0.9333\n",
      "\u001b[36malgo-1-s7g5f_1  |\u001b[0m Epoch 99/300\n",
      "105/105 [==============================] - 0s 131us/sample - loss: 0.3123 - accuracy: 0.9810 - val_loss: 0.2817 - val_accuracy: 0.9333\n",
      "\u001b[36malgo-1-s7g5f_1  |\u001b[0m Epoch 100/300\n",
      "105/105 [==============================] - 0s 129us/sample - loss: 0.3077 - accuracy: 0.9810 - val_loss: 0.2899 - val_accuracy: 0.9111\n",
      "\u001b[36malgo-1-s7g5f_1  |\u001b[0m Epoch 101/300\n",
      "105/105 [==============================] - 0s 127us/sample - loss: 0.3072 - accuracy: 0.9714 - val_loss: 0.2696 - val_accuracy: 0.9556\n",
      "\u001b[36malgo-1-s7g5f_1  |\u001b[0m Epoch 102/300\n",
      "105/105 [==============================] - 0s 127us/sample - loss: 0.3040 - accuracy: 0.9810 - val_loss: 0.2667 - val_accuracy: 0.9556\n",
      "\u001b[36malgo-1-s7g5f_1  |\u001b[0m Epoch 103/300\n",
      "105/105 [==============================] - 0s 126us/sample - loss: 0.3028 - accuracy: 0.9905 - val_loss: 0.2633 - val_accuracy: 0.9556\n",
      "\u001b[36malgo-1-s7g5f_1  |\u001b[0m Epoch 104/300\n",
      "105/105 [==============================] - 0s 128us/sample - loss: 0.3023 - accuracy: 0.9619 - val_loss: 0.2695 - val_accuracy: 0.9333\n",
      "\u001b[36malgo-1-s7g5f_1  |\u001b[0m Epoch 105/300\n",
      "105/105 [==============================] - 0s 127us/sample - loss: 0.2949 - accuracy: 0.9810 - val_loss: 0.2629 - val_accuracy: 0.9556\n",
      "\u001b[36malgo-1-s7g5f_1  |\u001b[0m Epoch 106/300\n",
      "105/105 [==============================] - 0s 153us/sample - loss: 0.2932 - accuracy: 0.9905 - val_loss: 0.2643 - val_accuracy: 0.9556\n",
      "\u001b[36malgo-1-s7g5f_1  |\u001b[0m Epoch 107/300\n",
      "105/105 [==============================] - 0s 130us/sample - loss: 0.2908 - accuracy: 0.9810 - val_loss: 0.2614 - val_accuracy: 0.9556\n",
      "\u001b[36malgo-1-s7g5f_1  |\u001b[0m Epoch 108/300\n",
      "105/105 [==============================] - 0s 133us/sample - loss: 0.2890 - accuracy: 0.9905 - val_loss: 0.2725 - val_accuracy: 0.9333\n",
      "\u001b[36malgo-1-s7g5f_1  |\u001b[0m Epoch 109/300\n",
      "105/105 [==============================] - 0s 127us/sample - loss: 0.2895 - accuracy: 0.9619 - val_loss: 0.2669 - val_accuracy: 0.9111\n",
      "\u001b[36malgo-1-s7g5f_1  |\u001b[0m Epoch 110/300\n",
      "105/105 [==============================] - 0s 127us/sample - loss: 0.2849 - accuracy: 0.9714 - val_loss: 0.2523 - val_accuracy: 0.9556\n",
      "\u001b[36malgo-1-s7g5f_1  |\u001b[0m Epoch 111/300\n",
      "105/105 [==============================] - 0s 128us/sample - loss: 0.2813 - accuracy: 0.9905 - val_loss: 0.2524 - val_accuracy: 0.9556\n",
      "\u001b[36malgo-1-s7g5f_1  |\u001b[0m Epoch 112/300\n",
      "105/105 [==============================] - 0s 129us/sample - loss: 0.2805 - accuracy: 0.9810 - val_loss: 0.2535 - val_accuracy: 0.9333\n",
      "\u001b[36malgo-1-s7g5f_1  |\u001b[0m Epoch 113/300\n",
      "105/105 [==============================] - 0s 127us/sample - loss: 0.2801 - accuracy: 0.9619 - val_loss: 0.2443 - val_accuracy: 0.9556\n",
      "\u001b[36malgo-1-s7g5f_1  |\u001b[0m Epoch 114/300\n",
      "105/105 [==============================] - 0s 127us/sample - loss: 0.2771 - accuracy: 0.9810 - val_loss: 0.2540 - val_accuracy: 0.9333\n",
      "\u001b[36malgo-1-s7g5f_1  |\u001b[0m Epoch 115/300\n",
      "105/105 [==============================] - 0s 131us/sample - loss: 0.2714 - accuracy: 0.9714 - val_loss: 0.2401 - val_accuracy: 0.9556\n",
      "\u001b[36malgo-1-s7g5f_1  |\u001b[0m Epoch 116/300\n",
      "105/105 [==============================] - 0s 131us/sample - loss: 0.2717 - accuracy: 0.9905 - val_loss: 0.2494 - val_accuracy: 0.9333\n",
      "\u001b[36malgo-1-s7g5f_1  |\u001b[0m Epoch 117/300\n",
      "105/105 [==============================] - 0s 127us/sample - loss: 0.2713 - accuracy: 0.9714 - val_loss: 0.2399 - val_accuracy: 0.9556\n",
      "\u001b[36malgo-1-s7g5f_1  |\u001b[0m Epoch 118/300\n",
      "105/105 [==============================] - 0s 133us/sample - loss: 0.2650 - accuracy: 0.9905 - val_loss: 0.2369 - val_accuracy: 0.9556\n",
      "\u001b[36malgo-1-s7g5f_1  |\u001b[0m Epoch 119/300\n",
      "105/105 [==============================] - 0s 129us/sample - loss: 0.2628 - accuracy: 0.9905 - val_loss: 0.2346 - val_accuracy: 0.9556\n",
      "\u001b[36malgo-1-s7g5f_1  |\u001b[0m Epoch 120/300\n",
      "105/105 [==============================] - 0s 127us/sample - loss: 0.2605 - accuracy: 0.9810 - val_loss: 0.2300 - val_accuracy: 0.9556\n",
      "\u001b[36malgo-1-s7g5f_1  |\u001b[0m Epoch 121/300\n",
      "105/105 [==============================] - 0s 139us/sample - loss: 0.2608 - accuracy: 0.9810 - val_loss: 0.2444 - val_accuracy: 0.9333\n",
      "\u001b[36malgo-1-s7g5f_1  |\u001b[0m Epoch 122/300\n",
      "105/105 [==============================] - 0s 129us/sample - loss: 0.2576 - accuracy: 0.9524 - val_loss: 0.2282 - val_accuracy: 0.9556\n",
      "\u001b[36malgo-1-s7g5f_1  |\u001b[0m Epoch 123/300\n",
      "105/105 [==============================] - 0s 129us/sample - loss: 0.2546 - accuracy: 0.9905 - val_loss: 0.2250 - val_accuracy: 0.9556\n",
      "\u001b[36malgo-1-s7g5f_1  |\u001b[0m Epoch 124/300\n",
      "105/105 [==============================] - 0s 130us/sample - loss: 0.2527 - accuracy: 0.9810 - val_loss: 0.2347 - val_accuracy: 0.9333\n",
      "\u001b[36malgo-1-s7g5f_1  |\u001b[0m Epoch 125/300\n",
      "105/105 [==============================] - 0s 142us/sample - loss: 0.2532 - accuracy: 0.9905 - val_loss: 0.2226 - val_accuracy: 0.9556\n",
      "\u001b[36malgo-1-s7g5f_1  |\u001b[0m Epoch 126/300\n",
      "105/105 [==============================] - 0s 128us/sample - loss: 0.2488 - accuracy: 0.9905 - val_loss: 0.2274 - val_accuracy: 0.9333\n",
      "\u001b[36malgo-1-s7g5f_1  |\u001b[0m Epoch 127/300\n",
      "105/105 [==============================] - 0s 130us/sample - loss: 0.2492 - accuracy: 0.9905 - val_loss: 0.2241 - val_accuracy: 0.9556\n",
      "\u001b[36malgo-1-s7g5f_1  |\u001b[0m Epoch 128/300\n",
      "105/105 [==============================] - 0s 126us/sample - loss: 0.2438 - accuracy: 0.9810 - val_loss: 0.2154 - val_accuracy: 0.9556\n",
      "\u001b[36malgo-1-s7g5f_1  |\u001b[0m Epoch 129/300\n",
      "105/105 [==============================] - 0s 127us/sample - loss: 0.2473 - accuracy: 0.9810 - val_loss: 0.2156 - val_accuracy: 0.9556\n",
      "\u001b[36malgo-1-s7g5f_1  |\u001b[0m Epoch 130/300\n",
      "105/105 [==============================] - 0s 129us/sample - loss: 0.2406 - accuracy: 0.9905 - val_loss: 0.2121 - val_accuracy: 0.9556\n",
      "\u001b[36malgo-1-s7g5f_1  |\u001b[0m Epoch 131/300\n",
      "105/105 [==============================] - 0s 130us/sample - loss: 0.2419 - accuracy: 0.9810 - val_loss: 0.2119 - val_accuracy: 0.9556\n",
      "\u001b[36malgo-1-s7g5f_1  |\u001b[0m Epoch 132/300\n",
      "105/105 [==============================] - 0s 128us/sample - loss: 0.2361 - accuracy: 0.9905 - val_loss: 0.2167 - val_accuracy: 0.9333\n",
      "\u001b[36malgo-1-s7g5f_1  |\u001b[0m Epoch 133/300\n",
      "105/105 [==============================] - 0s 127us/sample - loss: 0.2377 - accuracy: 0.9619 - val_loss: 0.2072 - val_accuracy: 0.9556\n",
      "\u001b[36malgo-1-s7g5f_1  |\u001b[0m Epoch 134/300\n",
      "105/105 [==============================] - 0s 126us/sample - loss: 0.2321 - accuracy: 0.9905 - val_loss: 0.2131 - val_accuracy: 0.9333\n",
      "\u001b[36malgo-1-s7g5f_1  |\u001b[0m Epoch 135/300\n",
      "105/105 [==============================] - 0s 128us/sample - loss: 0.2346 - accuracy: 0.9714 - val_loss: 0.2117 - val_accuracy: 0.9333\n",
      "\u001b[36malgo-1-s7g5f_1  |\u001b[0m Epoch 136/300\n"
     ]
    },
    {
     "name": "stdout",
     "output_type": "stream",
     "text": [
      "105/105 [==============================] - 0s 133us/sample - loss: 0.2306 - accuracy: 0.9905 - val_loss: 0.2111 - val_accuracy: 0.9333\n",
      "\u001b[36malgo-1-s7g5f_1  |\u001b[0m Epoch 137/300\n",
      "105/105 [==============================] - 0s 131us/sample - loss: 0.2258 - accuracy: 0.9810 - val_loss: 0.2045 - val_accuracy: 0.9556\n",
      "\u001b[36malgo-1-s7g5f_1  |\u001b[0m Epoch 138/300\n",
      "105/105 [==============================] - 0s 128us/sample - loss: 0.2245 - accuracy: 0.9810 - val_loss: 0.1982 - val_accuracy: 0.9556\n",
      "\u001b[36malgo-1-s7g5f_1  |\u001b[0m Epoch 139/300\n",
      "105/105 [==============================] - 0s 130us/sample - loss: 0.2251 - accuracy: 0.9905 - val_loss: 0.1994 - val_accuracy: 0.9556\n",
      "\u001b[36malgo-1-s7g5f_1  |\u001b[0m Epoch 140/300\n",
      "105/105 [==============================] - 0s 129us/sample - loss: 0.2220 - accuracy: 0.9905 - val_loss: 0.2044 - val_accuracy: 0.9333\n",
      "\u001b[36malgo-1-s7g5f_1  |\u001b[0m Epoch 141/300\n",
      "105/105 [==============================] - 0s 129us/sample - loss: 0.2204 - accuracy: 0.9905 - val_loss: 0.1983 - val_accuracy: 0.9556\n",
      "\u001b[36malgo-1-s7g5f_1  |\u001b[0m Epoch 142/300\n",
      "105/105 [==============================] - 0s 128us/sample - loss: 0.2170 - accuracy: 0.9905 - val_loss: 0.1954 - val_accuracy: 0.9556\n",
      "\u001b[36malgo-1-s7g5f_1  |\u001b[0m Epoch 143/300\n",
      "105/105 [==============================] - 0s 128us/sample - loss: 0.2166 - accuracy: 0.9905 - val_loss: 0.1987 - val_accuracy: 0.9333\n",
      "\u001b[36malgo-1-s7g5f_1  |\u001b[0m Epoch 144/300\n",
      "105/105 [==============================] - 0s 128us/sample - loss: 0.2159 - accuracy: 0.9810 - val_loss: 0.1978 - val_accuracy: 0.9333\n",
      "\u001b[36malgo-1-s7g5f_1  |\u001b[0m Epoch 145/300\n",
      "105/105 [==============================] - 0s 128us/sample - loss: 0.2128 - accuracy: 0.9905 - val_loss: 0.2072 - val_accuracy: 0.9556\n",
      "\u001b[36malgo-1-s7g5f_1  |\u001b[0m Epoch 146/300\n",
      "105/105 [==============================] - 0s 127us/sample - loss: 0.2184 - accuracy: 0.9619 - val_loss: 0.1915 - val_accuracy: 0.9556\n",
      "\u001b[36malgo-1-s7g5f_1  |\u001b[0m Epoch 147/300\n",
      "105/105 [==============================] - 0s 128us/sample - loss: 0.2090 - accuracy: 0.9905 - val_loss: 0.1873 - val_accuracy: 0.9556\n",
      "\u001b[36malgo-1-s7g5f_1  |\u001b[0m Epoch 148/300\n",
      "105/105 [==============================] - 0s 127us/sample - loss: 0.2072 - accuracy: 0.9905 - val_loss: 0.1879 - val_accuracy: 0.9556\n",
      "\u001b[36malgo-1-s7g5f_1  |\u001b[0m Epoch 149/300\n",
      "105/105 [==============================] - 0s 135us/sample - loss: 0.2046 - accuracy: 0.9810 - val_loss: 0.1833 - val_accuracy: 0.9556\n",
      "\u001b[36malgo-1-s7g5f_1  |\u001b[0m Epoch 150/300\n",
      "105/105 [==============================] - 0s 140us/sample - loss: 0.2063 - accuracy: 0.9810 - val_loss: 0.1843 - val_accuracy: 0.9556\n",
      "\u001b[36malgo-1-s7g5f_1  |\u001b[0m Epoch 151/300\n",
      "105/105 [==============================] - 0s 125us/sample - loss: 0.2030 - accuracy: 0.9905 - val_loss: 0.1822 - val_accuracy: 0.9556\n",
      "\u001b[36malgo-1-s7g5f_1  |\u001b[0m Epoch 152/300\n",
      "105/105 [==============================] - 0s 126us/sample - loss: 0.2022 - accuracy: 0.9810 - val_loss: 0.1941 - val_accuracy: 0.9556\n",
      "\u001b[36malgo-1-s7g5f_1  |\u001b[0m Epoch 153/300\n",
      "105/105 [==============================] - 0s 126us/sample - loss: 0.2046 - accuracy: 0.9714 - val_loss: 0.1847 - val_accuracy: 0.9556\n",
      "\u001b[36malgo-1-s7g5f_1  |\u001b[0m Epoch 154/300\n",
      "105/105 [==============================] - 0s 128us/sample - loss: 0.1996 - accuracy: 0.9810 - val_loss: 0.1772 - val_accuracy: 0.9556\n",
      "\u001b[36malgo-1-s7g5f_1  |\u001b[0m Epoch 155/300\n",
      "105/105 [==============================] - 0s 128us/sample - loss: 0.1968 - accuracy: 0.9905 - val_loss: 0.1832 - val_accuracy: 0.9556\n",
      "\u001b[36malgo-1-s7g5f_1  |\u001b[0m Epoch 156/300\n",
      "105/105 [==============================] - 0s 129us/sample - loss: 0.1954 - accuracy: 0.9905 - val_loss: 0.1768 - val_accuracy: 0.9556\n",
      "\u001b[36malgo-1-s7g5f_1  |\u001b[0m Epoch 157/300\n",
      "105/105 [==============================] - 0s 143us/sample - loss: 0.1959 - accuracy: 0.9714 - val_loss: 0.1751 - val_accuracy: 0.9556\n",
      "\u001b[36malgo-1-s7g5f_1  |\u001b[0m Epoch 158/300\n",
      "105/105 [==============================] - 0s 1ms/sample - loss: 0.1997 - accuracy: 0.9714 - val_loss: 0.1732 - val_accuracy: 0.9556\n",
      "\u001b[36malgo-1-s7g5f_1  |\u001b[0m Epoch 159/300\n",
      "105/105 [==============================] - 0s 571us/sample - loss: 0.1920 - accuracy: 0.9810 - val_loss: 0.1818 - val_accuracy: 0.9333\n",
      "\u001b[36malgo-1-s7g5f_1  |\u001b[0m Epoch 160/300\n",
      "105/105 [==============================] - 0s 987us/sample - loss: 0.1937 - accuracy: 0.9619 - val_loss: 0.1806 - val_accuracy: 0.9333\n",
      "\u001b[36malgo-1-s7g5f_1  |\u001b[0m Epoch 161/300\n",
      "105/105 [==============================] - 0s 604us/sample - loss: 0.1921 - accuracy: 0.9619 - val_loss: 0.1809 - val_accuracy: 0.9333\n",
      "\u001b[36malgo-1-s7g5f_1  |\u001b[0m Epoch 162/300\n",
      "105/105 [==============================] - 0s 1ms/sample - loss: 0.1903 - accuracy: 0.9714 - val_loss: 0.1874 - val_accuracy: 0.9556\n",
      "\u001b[36malgo-1-s7g5f_1  |\u001b[0m Epoch 163/300\n",
      "105/105 [==============================] - 0s 798us/sample - loss: 0.1895 - accuracy: 0.9524 - val_loss: 0.1691 - val_accuracy: 0.9556\n",
      "\u001b[36malgo-1-s7g5f_1  |\u001b[0m Epoch 164/300\n",
      "105/105 [==============================] - 0s 870us/sample - loss: 0.1856 - accuracy: 0.9905 - val_loss: 0.1681 - val_accuracy: 0.9556\n",
      "\u001b[36malgo-1-s7g5f_1  |\u001b[0m Epoch 165/300\n",
      "105/105 [==============================] - 0s 608us/sample - loss: 0.1893 - accuracy: 0.9905 - val_loss: 0.1707 - val_accuracy: 0.9556\n",
      "\u001b[36malgo-1-s7g5f_1  |\u001b[0m Epoch 166/300\n",
      "105/105 [==============================] - 0s 572us/sample - loss: 0.1831 - accuracy: 0.9905 - val_loss: 0.1710 - val_accuracy: 0.9556\n",
      "\u001b[36malgo-1-s7g5f_1  |\u001b[0m Epoch 167/300\n",
      "105/105 [==============================] - 0s 837us/sample - loss: 0.1814 - accuracy: 0.9905 - val_loss: 0.1647 - val_accuracy: 0.9556\n",
      "\u001b[36malgo-1-s7g5f_1  |\u001b[0m Epoch 168/300\n",
      "105/105 [==============================] - 0s 830us/sample - loss: 0.1817 - accuracy: 0.9905 - val_loss: 0.1634 - val_accuracy: 0.9556\n",
      "\u001b[36malgo-1-s7g5f_1  |\u001b[0m Epoch 169/300\n",
      "105/105 [==============================] - 0s 726us/sample - loss: 0.1784 - accuracy: 0.9810 - val_loss: 0.1731 - val_accuracy: 0.9556\n",
      "\u001b[36malgo-1-s7g5f_1  |\u001b[0m Epoch 170/300\n",
      "105/105 [==============================] - 0s 831us/sample - loss: 0.1795 - accuracy: 0.9810 - val_loss: 0.1669 - val_accuracy: 0.9556\n",
      "\u001b[36malgo-1-s7g5f_1  |\u001b[0m Epoch 171/300\n",
      "105/105 [==============================] - 0s 860us/sample - loss: 0.1785 - accuracy: 0.9810 - val_loss: 0.1648 - val_accuracy: 0.9556\n",
      "\u001b[36malgo-1-s7g5f_1  |\u001b[0m Epoch 172/300\n",
      "105/105 [==============================] - 0s 1ms/sample - loss: 0.1747 - accuracy: 0.9810 - val_loss: 0.1590 - val_accuracy: 0.9556\n",
      "\u001b[36malgo-1-s7g5f_1  |\u001b[0m Epoch 173/300\n",
      "105/105 [==============================] - 0s 839us/sample - loss: 0.1763 - accuracy: 0.9810 - val_loss: 0.1583 - val_accuracy: 0.9556\n",
      "\u001b[36malgo-1-s7g5f_1  |\u001b[0m Epoch 174/300\n",
      "105/105 [==============================] - 0s 909us/sample - loss: 0.1713 - accuracy: 0.9905 - val_loss: 0.1634 - val_accuracy: 0.9556\n",
      "\u001b[36malgo-1-s7g5f_1  |\u001b[0m Epoch 175/300\n",
      "105/105 [==============================] - 0s 875us/sample - loss: 0.1718 - accuracy: 0.9810 - val_loss: 0.1556 - val_accuracy: 0.9556\n",
      "\u001b[36malgo-1-s7g5f_1  |\u001b[0m Epoch 176/300\n",
      "105/105 [==============================] - 0s 876us/sample - loss: 0.1729 - accuracy: 0.9810 - val_loss: 0.1563 - val_accuracy: 0.9556\n",
      "\u001b[36malgo-1-s7g5f_1  |\u001b[0m Epoch 177/300\n",
      "105/105 [==============================] - 0s 589us/sample - loss: 0.1681 - accuracy: 0.9905 - val_loss: 0.1544 - val_accuracy: 0.9556\n",
      "\u001b[36malgo-1-s7g5f_1  |\u001b[0m Epoch 178/300\n",
      "105/105 [==============================] - 0s 596us/sample - loss: 0.1745 - accuracy: 0.9714 - val_loss: 0.1649 - val_accuracy: 0.9556\n",
      "\u001b[36malgo-1-s7g5f_1  |\u001b[0m Epoch 179/300\n",
      "105/105 [==============================] - 0s 681us/sample - loss: 0.1670 - accuracy: 0.9619 - val_loss: 0.1527 - val_accuracy: 0.9556\n",
      "\u001b[36malgo-1-s7g5f_1  |\u001b[0m Epoch 180/300\n",
      "105/105 [==============================] - 0s 561us/sample - loss: 0.1639 - accuracy: 0.9905 - val_loss: 0.1536 - val_accuracy: 0.9556\n",
      "\u001b[36malgo-1-s7g5f_1  |\u001b[0m Epoch 181/300\n",
      "105/105 [==============================] - 0s 865us/sample - loss: 0.1637 - accuracy: 0.9905 - val_loss: 0.1511 - val_accuracy: 0.9556\n",
      "\u001b[36malgo-1-s7g5f_1  |\u001b[0m Epoch 182/300\n",
      "105/105 [==============================] - 0s 730us/sample - loss: 0.1684 - accuracy: 0.9810 - val_loss: 0.1501 - val_accuracy: 0.9556\n",
      "\u001b[36malgo-1-s7g5f_1  |\u001b[0m Epoch 183/300\n",
      "105/105 [==============================] - 0s 686us/sample - loss: 0.1621 - accuracy: 0.9905 - val_loss: 0.1520 - val_accuracy: 0.9556\n",
      "\u001b[36malgo-1-s7g5f_1  |\u001b[0m Epoch 184/300\n",
      "105/105 [==============================] - 0s 383us/sample - loss: 0.1650 - accuracy: 0.9810 - val_loss: 0.1492 - val_accuracy: 0.9556\n",
      "\u001b[36malgo-1-s7g5f_1  |\u001b[0m Epoch 185/300\n"
     ]
    },
    {
     "name": "stdout",
     "output_type": "stream",
     "text": [
      "105/105 [==============================] - 0s 627us/sample - loss: 0.1580 - accuracy: 0.9905 - val_loss: 0.1549 - val_accuracy: 0.9556\n",
      "\u001b[36malgo-1-s7g5f_1  |\u001b[0m Epoch 186/300\n",
      "105/105 [==============================] - 0s 768us/sample - loss: 0.1602 - accuracy: 0.9905 - val_loss: 0.1467 - val_accuracy: 0.9556\n",
      "\u001b[36malgo-1-s7g5f_1  |\u001b[0m Epoch 187/300\n",
      "105/105 [==============================] - 0s 711us/sample - loss: 0.1559 - accuracy: 0.9905 - val_loss: 0.1546 - val_accuracy: 0.9556\n",
      "\u001b[36malgo-1-s7g5f_1  |\u001b[0m Epoch 188/300\n",
      "105/105 [==============================] - 0s 127us/sample - loss: 0.1580 - accuracy: 0.9524 - val_loss: 0.1449 - val_accuracy: 0.9556\n",
      "\u001b[36malgo-1-s7g5f_1  |\u001b[0m Epoch 189/300\n",
      "105/105 [==============================] - 0s 130us/sample - loss: 0.1544 - accuracy: 0.9905 - val_loss: 0.1448 - val_accuracy: 0.9556\n",
      "\u001b[36malgo-1-s7g5f_1  |\u001b[0m Epoch 190/300\n",
      "105/105 [==============================] - 0s 129us/sample - loss: 0.1573 - accuracy: 0.9905 - val_loss: 0.1502 - val_accuracy: 0.9556\n",
      "\u001b[36malgo-1-s7g5f_1  |\u001b[0m Epoch 191/300\n",
      "105/105 [==============================] - 0s 145us/sample - loss: 0.1541 - accuracy: 0.9905 - val_loss: 0.1536 - val_accuracy: 0.9556\n",
      "\u001b[36malgo-1-s7g5f_1  |\u001b[0m Epoch 192/300\n",
      "105/105 [==============================] - 0s 128us/sample - loss: 0.1538 - accuracy: 0.9714 - val_loss: 0.1422 - val_accuracy: 0.9556\n",
      "\u001b[36malgo-1-s7g5f_1  |\u001b[0m Epoch 193/300\n",
      "105/105 [==============================] - 0s 127us/sample - loss: 0.1513 - accuracy: 0.9905 - val_loss: 0.1434 - val_accuracy: 0.9556\n",
      "\u001b[36malgo-1-s7g5f_1  |\u001b[0m Epoch 194/300\n",
      "105/105 [==============================] - 0s 127us/sample - loss: 0.1494 - accuracy: 0.9905 - val_loss: 0.1417 - val_accuracy: 0.9556\n",
      "\u001b[36malgo-1-s7g5f_1  |\u001b[0m Epoch 195/300\n",
      "105/105 [==============================] - 0s 126us/sample - loss: 0.1484 - accuracy: 0.9905 - val_loss: 0.1439 - val_accuracy: 0.9556\n",
      "\u001b[36malgo-1-s7g5f_1  |\u001b[0m Epoch 196/300\n",
      "105/105 [==============================] - 0s 128us/sample - loss: 0.1486 - accuracy: 0.9810 - val_loss: 0.1405 - val_accuracy: 0.9556\n",
      "\u001b[36malgo-1-s7g5f_1  |\u001b[0m Epoch 197/300\n",
      "105/105 [==============================] - 0s 128us/sample - loss: 0.1516 - accuracy: 0.9810 - val_loss: 0.1388 - val_accuracy: 0.9556\n",
      "\u001b[36malgo-1-s7g5f_1  |\u001b[0m Epoch 198/300\n",
      "105/105 [==============================] - 0s 142us/sample - loss: 0.1466 - accuracy: 0.9905 - val_loss: 0.1406 - val_accuracy: 0.9556\n",
      "\u001b[36malgo-1-s7g5f_1  |\u001b[0m Epoch 199/300\n",
      "105/105 [==============================] - 0s 129us/sample - loss: 0.1473 - accuracy: 0.9905 - val_loss: 0.1487 - val_accuracy: 0.9556\n",
      "\u001b[36malgo-1-s7g5f_1  |\u001b[0m Epoch 200/300\n",
      "105/105 [==============================] - 0s 128us/sample - loss: 0.1506 - accuracy: 0.9714 - val_loss: 0.1461 - val_accuracy: 0.9556\n",
      "\u001b[36malgo-1-s7g5f_1  |\u001b[0m Epoch 201/300\n",
      "105/105 [==============================] - 0s 128us/sample - loss: 0.1486 - accuracy: 0.9714 - val_loss: 0.1375 - val_accuracy: 0.9556\n",
      "\u001b[36malgo-1-s7g5f_1  |\u001b[0m Epoch 202/300\n",
      "105/105 [==============================] - 0s 126us/sample - loss: 0.1437 - accuracy: 0.9905 - val_loss: 0.1380 - val_accuracy: 0.9556\n",
      "\u001b[36malgo-1-s7g5f_1  |\u001b[0m Epoch 203/300\n",
      "105/105 [==============================] - 0s 130us/sample - loss: 0.1432 - accuracy: 0.9905 - val_loss: 0.1408 - val_accuracy: 0.9556\n",
      "\u001b[36malgo-1-s7g5f_1  |\u001b[0m Epoch 204/300\n",
      "105/105 [==============================] - 0s 124us/sample - loss: 0.1416 - accuracy: 0.9810 - val_loss: 0.1349 - val_accuracy: 0.9556\n",
      "\u001b[36malgo-1-s7g5f_1  |\u001b[0m Epoch 205/300\n",
      "105/105 [==============================] - 0s 125us/sample - loss: 0.1425 - accuracy: 0.9905 - val_loss: 0.1361 - val_accuracy: 0.9556\n",
      "\u001b[36malgo-1-s7g5f_1  |\u001b[0m Epoch 206/300\n",
      "105/105 [==============================] - 0s 156us/sample - loss: 0.1397 - accuracy: 0.9905 - val_loss: 0.1339 - val_accuracy: 0.9556\n",
      "\u001b[36malgo-1-s7g5f_1  |\u001b[0m Epoch 207/300\n",
      "105/105 [==============================] - 0s 130us/sample - loss: 0.1401 - accuracy: 0.9905 - val_loss: 0.1334 - val_accuracy: 0.9556\n",
      "\u001b[36malgo-1-s7g5f_1  |\u001b[0m Epoch 208/300\n",
      "105/105 [==============================] - 0s 129us/sample - loss: 0.1410 - accuracy: 0.9905 - val_loss: 0.1365 - val_accuracy: 0.9556\n",
      "\u001b[36malgo-1-s7g5f_1  |\u001b[0m Epoch 209/300\n",
      "105/105 [==============================] - 0s 130us/sample - loss: 0.1378 - accuracy: 0.9810 - val_loss: 0.1317 - val_accuracy: 0.9556\n",
      "\u001b[36malgo-1-s7g5f_1  |\u001b[0m Epoch 210/300\n",
      "105/105 [==============================] - 0s 130us/sample - loss: 0.1368 - accuracy: 0.9905 - val_loss: 0.1311 - val_accuracy: 0.9556\n",
      "\u001b[36malgo-1-s7g5f_1  |\u001b[0m Epoch 211/300\n",
      "105/105 [==============================] - 0s 129us/sample - loss: 0.1353 - accuracy: 0.9905 - val_loss: 0.1311 - val_accuracy: 0.9556\n",
      "\u001b[36malgo-1-s7g5f_1  |\u001b[0m Epoch 212/300\n",
      "105/105 [==============================] - 0s 128us/sample - loss: 0.1342 - accuracy: 0.9905 - val_loss: 0.1336 - val_accuracy: 0.9556\n",
      "\u001b[36malgo-1-s7g5f_1  |\u001b[0m Epoch 213/300\n",
      "105/105 [==============================] - 0s 127us/sample - loss: 0.1349 - accuracy: 0.9905 - val_loss: 0.1405 - val_accuracy: 0.9556\n",
      "\u001b[36malgo-1-s7g5f_1  |\u001b[0m Epoch 214/300\n",
      "105/105 [==============================] - 0s 128us/sample - loss: 0.1377 - accuracy: 0.9524 - val_loss: 0.1346 - val_accuracy: 0.9556\n",
      "\u001b[36malgo-1-s7g5f_1  |\u001b[0m Epoch 215/300\n",
      "105/105 [==============================] - 0s 127us/sample - loss: 0.1359 - accuracy: 0.9810 - val_loss: 0.1375 - val_accuracy: 0.9556\n",
      "\u001b[36malgo-1-s7g5f_1  |\u001b[0m Epoch 216/300\n",
      "105/105 [==============================] - 0s 127us/sample - loss: 0.1385 - accuracy: 0.9619 - val_loss: 0.1284 - val_accuracy: 0.9556\n",
      "\u001b[36malgo-1-s7g5f_1  |\u001b[0m Epoch 217/300\n",
      "105/105 [==============================] - 0s 127us/sample - loss: 0.1313 - accuracy: 0.9905 - val_loss: 0.1328 - val_accuracy: 0.9556\n",
      "\u001b[36malgo-1-s7g5f_1  |\u001b[0m Epoch 218/300\n",
      "105/105 [==============================] - 0s 128us/sample - loss: 0.1309 - accuracy: 0.9905 - val_loss: 0.1277 - val_accuracy: 0.9556\n",
      "\u001b[36malgo-1-s7g5f_1  |\u001b[0m Epoch 219/300\n",
      "105/105 [==============================] - 0s 127us/sample - loss: 0.1311 - accuracy: 0.9905 - val_loss: 0.1326 - val_accuracy: 0.9556\n",
      "\u001b[36malgo-1-s7g5f_1  |\u001b[0m Epoch 220/300\n",
      "105/105 [==============================] - 0s 130us/sample - loss: 0.1335 - accuracy: 0.9714 - val_loss: 0.1303 - val_accuracy: 0.9556\n",
      "\u001b[36malgo-1-s7g5f_1  |\u001b[0m Epoch 221/300\n",
      "105/105 [==============================] - 0s 154us/sample - loss: 0.1289 - accuracy: 0.9810 - val_loss: 0.1288 - val_accuracy: 0.9556\n",
      "\u001b[36malgo-1-s7g5f_1  |\u001b[0m Epoch 222/300\n",
      "105/105 [==============================] - 0s 135us/sample - loss: 0.1273 - accuracy: 0.9905 - val_loss: 0.1276 - val_accuracy: 0.9556\n",
      "\u001b[36malgo-1-s7g5f_1  |\u001b[0m Epoch 223/300\n",
      "105/105 [==============================] - 0s 122us/sample - loss: 0.1274 - accuracy: 0.9905 - val_loss: 0.1257 - val_accuracy: 0.9556\n",
      "\u001b[36malgo-1-s7g5f_1  |\u001b[0m Epoch 224/300\n",
      "105/105 [==============================] - 0s 127us/sample - loss: 0.1313 - accuracy: 0.9714 - val_loss: 0.1290 - val_accuracy: 0.9556\n",
      "\u001b[36malgo-1-s7g5f_1  |\u001b[0m Epoch 225/300\n",
      "105/105 [==============================] - 0s 128us/sample - loss: 0.1269 - accuracy: 0.9810 - val_loss: 0.1252 - val_accuracy: 0.9556\n",
      "\u001b[36malgo-1-s7g5f_1  |\u001b[0m Epoch 226/300\n",
      "105/105 [==============================] - 0s 127us/sample - loss: 0.1245 - accuracy: 0.9905 - val_loss: 0.1236 - val_accuracy: 0.9556\n",
      "\u001b[36malgo-1-s7g5f_1  |\u001b[0m Epoch 227/300\n",
      "105/105 [==============================] - 0s 126us/sample - loss: 0.1264 - accuracy: 0.9905 - val_loss: 0.1229 - val_accuracy: 0.9556\n",
      "\u001b[36malgo-1-s7g5f_1  |\u001b[0m Epoch 228/300\n",
      "105/105 [==============================] - 0s 126us/sample - loss: 0.1279 - accuracy: 0.9810 - val_loss: 0.1314 - val_accuracy: 0.9556\n",
      "\u001b[36malgo-1-s7g5f_1  |\u001b[0m Epoch 229/300\n",
      "105/105 [==============================] - 0s 128us/sample - loss: 0.1275 - accuracy: 0.9619 - val_loss: 0.1224 - val_accuracy: 0.9556\n",
      "\u001b[36malgo-1-s7g5f_1  |\u001b[0m Epoch 230/300\n",
      "105/105 [==============================] - 0s 128us/sample - loss: 0.1221 - accuracy: 0.9905 - val_loss: 0.1218 - val_accuracy: 0.9556\n",
      "\u001b[36malgo-1-s7g5f_1  |\u001b[0m Epoch 231/300\n",
      "105/105 [==============================] - 0s 127us/sample - loss: 0.1241 - accuracy: 0.9905 - val_loss: 0.1232 - val_accuracy: 0.9556\n",
      "\u001b[36malgo-1-s7g5f_1  |\u001b[0m Epoch 232/300\n",
      "105/105 [==============================] - 0s 129us/sample - loss: 0.1248 - accuracy: 0.9905 - val_loss: 0.1209 - val_accuracy: 0.9556\n",
      "\u001b[36malgo-1-s7g5f_1  |\u001b[0m Epoch 233/300\n",
      "105/105 [==============================] - 0s 128us/sample - loss: 0.1200 - accuracy: 0.9905 - val_loss: 0.1206 - val_accuracy: 0.9556\n",
      "\u001b[36malgo-1-s7g5f_1  |\u001b[0m Epoch 234/300\n",
      "105/105 [==============================] - 0s 128us/sample - loss: 0.1200 - accuracy: 0.9905 - val_loss: 0.1270 - val_accuracy: 0.9778\n",
      "\u001b[36malgo-1-s7g5f_1  |\u001b[0m Epoch 235/300\n",
      "105/105 [==============================] - 0s 128us/sample - loss: 0.1237 - accuracy: 0.9714 - val_loss: 0.1221 - val_accuracy: 0.9556\n",
      "\u001b[36malgo-1-s7g5f_1  |\u001b[0m Epoch 236/300\n"
     ]
    },
    {
     "name": "stdout",
     "output_type": "stream",
     "text": [
      "105/105 [==============================] - 0s 148us/sample - loss: 0.1185 - accuracy: 0.9905 - val_loss: 0.1220 - val_accuracy: 0.9556\n",
      "\u001b[36malgo-1-s7g5f_1  |\u001b[0m Epoch 237/300\n",
      "105/105 [==============================] - 0s 128us/sample - loss: 0.1178 - accuracy: 0.9905 - val_loss: 0.1190 - val_accuracy: 0.9556\n",
      "\u001b[36malgo-1-s7g5f_1  |\u001b[0m Epoch 238/300\n",
      "105/105 [==============================] - 0s 127us/sample - loss: 0.1200 - accuracy: 0.9810 - val_loss: 0.1195 - val_accuracy: 0.9556\n",
      "\u001b[36malgo-1-s7g5f_1  |\u001b[0m Epoch 239/300\n",
      "105/105 [==============================] - 0s 128us/sample - loss: 0.1216 - accuracy: 0.9905 - val_loss: 0.1182 - val_accuracy: 0.9556\n",
      "\u001b[36malgo-1-s7g5f_1  |\u001b[0m Epoch 240/300\n",
      "105/105 [==============================] - 0s 128us/sample - loss: 0.1166 - accuracy: 0.9905 - val_loss: 0.1208 - val_accuracy: 0.9556\n",
      "\u001b[36malgo-1-s7g5f_1  |\u001b[0m Epoch 241/300\n",
      "105/105 [==============================] - 0s 132us/sample - loss: 0.1158 - accuracy: 0.9810 - val_loss: 0.1189 - val_accuracy: 0.9556\n",
      "\u001b[36malgo-1-s7g5f_1  |\u001b[0m Epoch 242/300\n",
      "105/105 [==============================] - 0s 129us/sample - loss: 0.1175 - accuracy: 0.9810 - val_loss: 0.1177 - val_accuracy: 0.9556\n",
      "\u001b[36malgo-1-s7g5f_1  |\u001b[0m Epoch 243/300\n",
      "105/105 [==============================] - 0s 127us/sample - loss: 0.1165 - accuracy: 0.9810 - val_loss: 0.1172 - val_accuracy: 0.9556\n",
      "\u001b[36malgo-1-s7g5f_1  |\u001b[0m Epoch 244/300\n",
      "105/105 [==============================] - 0s 127us/sample - loss: 0.1163 - accuracy: 0.9810 - val_loss: 0.1189 - val_accuracy: 0.9556\n",
      "\u001b[36malgo-1-s7g5f_1  |\u001b[0m Epoch 245/300\n",
      "105/105 [==============================] - 0s 129us/sample - loss: 0.1167 - accuracy: 0.9810 - val_loss: 0.1174 - val_accuracy: 0.9556\n",
      "\u001b[36malgo-1-s7g5f_1  |\u001b[0m Epoch 246/300\n",
      "105/105 [==============================] - 0s 127us/sample - loss: 0.1136 - accuracy: 0.9905 - val_loss: 0.1160 - val_accuracy: 0.9556\n",
      "\u001b[36malgo-1-s7g5f_1  |\u001b[0m Epoch 247/300\n",
      "105/105 [==============================] - 0s 127us/sample - loss: 0.1134 - accuracy: 0.9810 - val_loss: 0.1167 - val_accuracy: 0.9556\n",
      "\u001b[36malgo-1-s7g5f_1  |\u001b[0m Epoch 248/300\n",
      "105/105 [==============================] - 0s 128us/sample - loss: 0.1124 - accuracy: 0.9905 - val_loss: 0.1152 - val_accuracy: 0.9556\n",
      "\u001b[36malgo-1-s7g5f_1  |\u001b[0m Epoch 249/300\n",
      "105/105 [==============================] - 0s 128us/sample - loss: 0.1117 - accuracy: 0.9905 - val_loss: 0.1152 - val_accuracy: 0.9556\n",
      "\u001b[36malgo-1-s7g5f_1  |\u001b[0m Epoch 250/300\n",
      "105/105 [==============================] - 0s 128us/sample - loss: 0.1106 - accuracy: 0.9905 - val_loss: 0.1154 - val_accuracy: 0.9556\n",
      "\u001b[36malgo-1-s7g5f_1  |\u001b[0m Epoch 251/300\n",
      "105/105 [==============================] - 0s 149us/sample - loss: 0.1116 - accuracy: 0.9905 - val_loss: 0.1140 - val_accuracy: 0.9556\n",
      "\u001b[36malgo-1-s7g5f_1  |\u001b[0m Epoch 252/300\n",
      "105/105 [==============================] - 0s 129us/sample - loss: 0.1090 - accuracy: 0.9905 - val_loss: 0.1150 - val_accuracy: 0.9556\n",
      "\u001b[36malgo-1-s7g5f_1  |\u001b[0m Epoch 253/300\n",
      "105/105 [==============================] - 0s 127us/sample - loss: 0.1093 - accuracy: 0.9905 - val_loss: 0.1166 - val_accuracy: 0.9556\n",
      "\u001b[36malgo-1-s7g5f_1  |\u001b[0m Epoch 254/300\n",
      "105/105 [==============================] - 0s 127us/sample - loss: 0.1132 - accuracy: 0.9714 - val_loss: 0.1156 - val_accuracy: 0.9556\n",
      "\u001b[36malgo-1-s7g5f_1  |\u001b[0m Epoch 255/300\n",
      "105/105 [==============================] - 0s 128us/sample - loss: 0.1102 - accuracy: 0.9810 - val_loss: 0.1142 - val_accuracy: 0.9556\n",
      "\u001b[36malgo-1-s7g5f_1  |\u001b[0m Epoch 256/300\n",
      "105/105 [==============================] - 0s 128us/sample - loss: 0.1099 - accuracy: 0.9810 - val_loss: 0.1125 - val_accuracy: 0.9556\n",
      "\u001b[36malgo-1-s7g5f_1  |\u001b[0m Epoch 257/300\n",
      "105/105 [==============================] - 0s 128us/sample - loss: 0.1098 - accuracy: 0.9905 - val_loss: 0.1201 - val_accuracy: 0.9778\n",
      "\u001b[36malgo-1-s7g5f_1  |\u001b[0m Epoch 258/300\n",
      "105/105 [==============================] - 0s 127us/sample - loss: 0.1140 - accuracy: 0.9524 - val_loss: 0.1151 - val_accuracy: 0.9556\n",
      "\u001b[36malgo-1-s7g5f_1  |\u001b[0m Epoch 259/300\n",
      "105/105 [==============================] - 0s 133us/sample - loss: 0.1073 - accuracy: 0.9714 - val_loss: 0.1118 - val_accuracy: 0.9556\n",
      "\u001b[36malgo-1-s7g5f_1  |\u001b[0m Epoch 260/300\n",
      "105/105 [==============================] - 0s 129us/sample - loss: 0.1066 - accuracy: 0.9905 - val_loss: 0.1115 - val_accuracy: 0.9556\n",
      "\u001b[36malgo-1-s7g5f_1  |\u001b[0m Epoch 261/300\n",
      "105/105 [==============================] - 0s 128us/sample - loss: 0.1067 - accuracy: 0.9905 - val_loss: 0.1122 - val_accuracy: 0.9556\n",
      "\u001b[36malgo-1-s7g5f_1  |\u001b[0m Epoch 262/300\n",
      "105/105 [==============================] - 0s 136us/sample - loss: 0.1045 - accuracy: 0.9810 - val_loss: 0.1125 - val_accuracy: 0.9556\n",
      "\u001b[36malgo-1-s7g5f_1  |\u001b[0m Epoch 263/300\n",
      "105/105 [==============================] - 0s 139us/sample - loss: 0.1058 - accuracy: 0.9810 - val_loss: 0.1115 - val_accuracy: 0.9556\n",
      "\u001b[36malgo-1-s7g5f_1  |\u001b[0m Epoch 264/300\n",
      "105/105 [==============================] - 0s 125us/sample - loss: 0.1066 - accuracy: 0.9905 - val_loss: 0.1102 - val_accuracy: 0.9556\n",
      "\u001b[36malgo-1-s7g5f_1  |\u001b[0m Epoch 265/300\n",
      "105/105 [==============================] - 0s 127us/sample - loss: 0.1036 - accuracy: 0.9905 - val_loss: 0.1125 - val_accuracy: 0.9556\n",
      "\u001b[36malgo-1-s7g5f_1  |\u001b[0m Epoch 266/300\n",
      "105/105 [==============================] - 0s 140us/sample - loss: 0.1095 - accuracy: 0.9905 - val_loss: 0.1100 - val_accuracy: 0.9556\n",
      "\u001b[36malgo-1-s7g5f_1  |\u001b[0m Epoch 267/300\n",
      "105/105 [==============================] - 0s 128us/sample - loss: 0.1099 - accuracy: 0.9810 - val_loss: 0.1101 - val_accuracy: 0.9556\n",
      "\u001b[36malgo-1-s7g5f_1  |\u001b[0m Epoch 268/300\n",
      "105/105 [==============================] - 0s 127us/sample - loss: 0.1059 - accuracy: 0.9810 - val_loss: 0.1093 - val_accuracy: 0.9556\n",
      "\u001b[36malgo-1-s7g5f_1  |\u001b[0m Epoch 269/300\n",
      "105/105 [==============================] - 0s 129us/sample - loss: 0.1028 - accuracy: 0.9905 - val_loss: 0.1124 - val_accuracy: 0.9556\n",
      "\u001b[36malgo-1-s7g5f_1  |\u001b[0m Epoch 270/300\n",
      "105/105 [==============================] - 0s 132us/sample - loss: 0.1045 - accuracy: 0.9905 - val_loss: 0.1091 - val_accuracy: 0.9556\n",
      "\u001b[36malgo-1-s7g5f_1  |\u001b[0m Epoch 271/300\n",
      "105/105 [==============================] - 0s 137us/sample - loss: 0.1077 - accuracy: 0.9714 - val_loss: 0.1112 - val_accuracy: 0.9556\n",
      "\u001b[36malgo-1-s7g5f_1  |\u001b[0m Epoch 272/300\n",
      "105/105 [==============================] - 0s 130us/sample - loss: 0.1044 - accuracy: 0.9905 - val_loss: 0.1087 - val_accuracy: 0.9556\n",
      "\u001b[36malgo-1-s7g5f_1  |\u001b[0m Epoch 273/300\n",
      "105/105 [==============================] - 0s 128us/sample - loss: 0.1004 - accuracy: 0.9905 - val_loss: 0.1084 - val_accuracy: 0.9556\n",
      "\u001b[36malgo-1-s7g5f_1  |\u001b[0m Epoch 274/300\n",
      "105/105 [==============================] - 0s 129us/sample - loss: 0.0995 - accuracy: 0.9905 - val_loss: 0.1080 - val_accuracy: 0.9556\n",
      "\u001b[36malgo-1-s7g5f_1  |\u001b[0m Epoch 275/300\n",
      "105/105 [==============================] - 0s 126us/sample - loss: 0.0991 - accuracy: 0.9905 - val_loss: 0.1078 - val_accuracy: 0.9556\n",
      "\u001b[36malgo-1-s7g5f_1  |\u001b[0m Epoch 276/300\n",
      "105/105 [==============================] - 0s 127us/sample - loss: 0.1004 - accuracy: 0.9810 - val_loss: 0.1101 - val_accuracy: 0.9556\n",
      "\u001b[36malgo-1-s7g5f_1  |\u001b[0m Epoch 277/300\n",
      "105/105 [==============================] - 0s 127us/sample - loss: 0.1010 - accuracy: 0.9810 - val_loss: 0.1086 - val_accuracy: 0.9556\n",
      "\u001b[36malgo-1-s7g5f_1  |\u001b[0m Epoch 278/300\n",
      "105/105 [==============================] - 0s 126us/sample - loss: 0.0992 - accuracy: 0.9905 - val_loss: 0.1073 - val_accuracy: 0.9556\n",
      "\u001b[36malgo-1-s7g5f_1  |\u001b[0m Epoch 279/300\n",
      "105/105 [==============================] - 0s 129us/sample - loss: 0.1004 - accuracy: 0.9905 - val_loss: 0.1079 - val_accuracy: 0.9556\n",
      "\u001b[36malgo-1-s7g5f_1  |\u001b[0m Epoch 280/300\n",
      "105/105 [==============================] - 0s 127us/sample - loss: 0.1004 - accuracy: 0.9714 - val_loss: 0.1080 - val_accuracy: 0.9556\n",
      "\u001b[36malgo-1-s7g5f_1  |\u001b[0m Epoch 281/300\n",
      "105/105 [==============================] - 0s 149us/sample - loss: 0.0977 - accuracy: 0.9810 - val_loss: 0.1108 - val_accuracy: 0.9778\n",
      "\u001b[36malgo-1-s7g5f_1  |\u001b[0m Epoch 282/300\n",
      "105/105 [==============================] - 0s 128us/sample - loss: 0.0987 - accuracy: 0.9810 - val_loss: 0.1071 - val_accuracy: 0.9556\n",
      "\u001b[36malgo-1-s7g5f_1  |\u001b[0m Epoch 283/300\n",
      "105/105 [==============================] - 0s 127us/sample - loss: 0.0989 - accuracy: 0.9905 - val_loss: 0.1083 - val_accuracy: 0.9556\n",
      "\u001b[36malgo-1-s7g5f_1  |\u001b[0m Epoch 284/300\n",
      "105/105 [==============================] - 0s 127us/sample - loss: 0.0995 - accuracy: 0.9714 - val_loss: 0.1083 - val_accuracy: 0.9556\n",
      "\u001b[36malgo-1-s7g5f_1  |\u001b[0m Epoch 285/300\n",
      "105/105 [==============================] - 0s 127us/sample - loss: 0.0972 - accuracy: 0.9714 - val_loss: 0.1061 - val_accuracy: 0.9556\n",
      "\u001b[36malgo-1-s7g5f_1  |\u001b[0m Epoch 286/300\n",
      "105/105 [==============================] - 0s 127us/sample - loss: 0.0951 - accuracy: 0.9905 - val_loss: 0.1060 - val_accuracy: 0.9556\n",
      "\u001b[36malgo-1-s7g5f_1  |\u001b[0m Epoch 287/300\n",
      "105/105 [==============================] - 0s 126us/sample - loss: 0.0979 - accuracy: 0.9905 - val_loss: 0.1055 - val_accuracy: 0.9556\n",
      "\u001b[36malgo-1-s7g5f_1  |\u001b[0m Epoch 288/300\n",
      "105/105 [==============================] - 0s 127us/sample - loss: 0.0982 - accuracy: 0.9905 - val_loss: 0.1054 - val_accuracy: 0.9556\n",
      "\u001b[36malgo-1-s7g5f_1  |\u001b[0m Epoch 289/300\n",
      "105/105 [==============================] - 0s 127us/sample - loss: 0.0946 - accuracy: 0.9905 - val_loss: 0.1072 - val_accuracy: 0.9556\n",
      "\u001b[36malgo-1-s7g5f_1  |\u001b[0m Epoch 290/300\n",
      "105/105 [==============================] - 0s 128us/sample - loss: 0.0952 - accuracy: 0.9905 - val_loss: 0.1060 - val_accuracy: 0.9556\n",
      "\u001b[36malgo-1-s7g5f_1  |\u001b[0m Epoch 291/300\n",
      "105/105 [==============================] - 0s 130us/sample - loss: 0.0962 - accuracy: 0.9905 - val_loss: 0.1050 - val_accuracy: 0.9556\n",
      "\u001b[36malgo-1-s7g5f_1  |\u001b[0m Epoch 292/300\n",
      "105/105 [==============================] - 0s 129us/sample - loss: 0.0976 - accuracy: 0.9714 - val_loss: 0.1050 - val_accuracy: 0.9556\n",
      "\u001b[36malgo-1-s7g5f_1  |\u001b[0m Epoch 293/300\n",
      "105/105 [==============================] - 0s 130us/sample - loss: 0.0977 - accuracy: 0.9810 - val_loss: 0.1043 - val_accuracy: 0.9556\n",
      "\u001b[36malgo-1-s7g5f_1  |\u001b[0m Epoch 294/300\n",
      "105/105 [==============================] - 0s 128us/sample - loss: 0.0945 - accuracy: 0.9905 - val_loss: 0.1054 - val_accuracy: 0.9556\n",
      "\u001b[36malgo-1-s7g5f_1  |\u001b[0m Epoch 295/300\n",
      "105/105 [==============================] - 0s 129us/sample - loss: 0.0944 - accuracy: 0.9810 - val_loss: 0.1058 - val_accuracy: 0.9556\n",
      "\u001b[36malgo-1-s7g5f_1  |\u001b[0m Epoch 296/300\n"
     ]
    },
    {
     "name": "stdout",
     "output_type": "stream",
     "text": [
      "105/105 [==============================] - 0s 150us/sample - loss: 0.0932 - accuracy: 0.9810 - val_loss: 0.1038 - val_accuracy: 0.9556\n",
      "\u001b[36malgo-1-s7g5f_1  |\u001b[0m Epoch 297/300\n",
      "105/105 [==============================] - 0s 130us/sample - loss: 0.0924 - accuracy: 0.9905 - val_loss: 0.1037 - val_accuracy: 0.9556\n",
      "\u001b[36malgo-1-s7g5f_1  |\u001b[0m Epoch 298/300\n",
      "105/105 [==============================] - 0s 132us/sample - loss: 0.0919 - accuracy: 0.9810 - val_loss: 0.1093 - val_accuracy: 0.9556\n",
      "\u001b[36malgo-1-s7g5f_1  |\u001b[0m Epoch 299/300\n",
      "105/105 [==============================] - 0s 131us/sample - loss: 0.0946 - accuracy: 0.9810 - val_loss: 0.1031 - val_accuracy: 0.9556\n",
      "\u001b[36malgo-1-s7g5f_1  |\u001b[0m Epoch 300/300\n",
      "105/105 [==============================] - 0s 126us/sample - loss: 0.0916 - accuracy: 0.9810 - val_loss: 0.1080 - val_accuracy: 0.9778\n",
      "\u001b[36malgo-1-s7g5f_1  |\u001b[0m 2020-03-28 21:14:38.502931: W tensorflow/python/util/util.cc:319] Sets are not currently considered sequences, but this may change in the future, so consider avoiding using them.\n",
      "\u001b[36malgo-1-s7g5f_1  |\u001b[0m WARNING:tensorflow:From /usr/local/lib/python3.6/dist-packages/tensorflow_core/python/ops/resource_variable_ops.py:1786: calling BaseResourceVariable.__init__ (from tensorflow.python.ops.resource_variable_ops) with constraint is deprecated and will be removed in a future version.\n",
      "\u001b[36malgo-1-s7g5f_1  |\u001b[0m Instructions for updating:\n",
      "\u001b[36malgo-1-s7g5f_1  |\u001b[0m If using Keras pass *_constraint arguments to layers.\n",
      "\u001b[36malgo-1-s7g5f_1  |\u001b[0m WARNING:tensorflow:From /usr/local/lib/python3.6/dist-packages/tensorflow_core/python/ops/resource_variable_ops.py:1786: calling BaseResourceVariable.__init__ (from tensorflow.python.ops.resource_variable_ops) with constraint is deprecated and will be removed in a future version.\n",
      "\u001b[36malgo-1-s7g5f_1  |\u001b[0m Instructions for updating:\n",
      "\u001b[36malgo-1-s7g5f_1  |\u001b[0m If using Keras pass *_constraint arguments to layers.\n",
      "\u001b[36malgo-1-s7g5f_1  |\u001b[0m INFO:tensorflow:Assets written to: /opt/ml/model/000000001/assets\n",
      "\u001b[36malgo-1-s7g5f_1  |\u001b[0m INFO:tensorflow:Assets written to: /opt/ml/model/000000001/assets\n",
      "\u001b[36malgo-1-s7g5f_1  |\u001b[0m 2020-03-28 21:14:38,849 sagemaker-containers INFO     Reporting training SUCCESS\n",
      "\u001b[36mtmpmxtibjb7_algo-1-s7g5f_1 exited with code 0\n",
      "\u001b[0mAborting on container exit...\n",
      "===== Job Complete =====\n"
     ]
    }
   ],
   "source": [
    "estimator.fit({'training':training_data_uri,'testing':testing_data_uri})"
   ]
  },
  {
   "cell_type": "code",
   "execution_count": 13,
   "metadata": {},
   "outputs": [
    {
     "data": {
      "text/plain": [
       "'tf-iris-2020-03-28-21-14-26-369'"
      ]
     },
     "execution_count": 13,
     "metadata": {},
     "output_type": "execute_result"
    }
   ],
   "source": [
    "estimator.latest_training_job.job_name"
   ]
  },
  {
   "cell_type": "code",
   "execution_count": 14,
   "metadata": {},
   "outputs": [
    {
     "data": {
      "text/plain": [
       "'s3://chandra-ml-sagemaker/iris/model/tf-iris-2020-03-28-21-14-26-369/model.tar.gz'"
      ]
     },
     "execution_count": 14,
     "metadata": {},
     "output_type": "execute_result"
    }
   ],
   "source": [
    "estimator.model_data"
   ]
  },
  {
   "cell_type": "markdown",
   "metadata": {
    "collapsed": true
   },
   "source": [
    "# Deploy the trained model to an endpoint\n",
    "\n",
    "The `deploy()` method creates a SageMaker model, which is then deployed to an endpoint to serve prediction requests in real time. We will use the TensorFlow Serving container for the endpoint, because we trained with script mode. This serving container runs an implementation of a web server that is compatible with SageMaker hosting protocol. The [Using your own inference code]() document explains how SageMaker runs inference containers."
   ]
  },
  {
   "cell_type": "markdown",
   "metadata": {
    "collapsed": true
   },
   "source": [
    "Deployed the trained TensorFlow 2.1 model to an endpoint."
   ]
  },
  {
   "cell_type": "code",
   "execution_count": 15,
   "metadata": {},
   "outputs": [
    {
     "name": "stdout",
     "output_type": "stream",
     "text": [
      "Attaching to tmpok6q1vam_algo-1-5daal_1\n",
      "\u001b[36malgo-1-5daal_1  |\u001b[0m INFO:__main__:starting services\r\n",
      "\u001b[36malgo-1-5daal_1  |\u001b[0m INFO:__main__:using default model name: model\r\n",
      "\u001b[36malgo-1-5daal_1  |\u001b[0m INFO:__main__:tensorflow serving model config: \r\n",
      "\u001b[36malgo-1-5daal_1  |\u001b[0m model_config_list: {\r\n",
      "\u001b[36malgo-1-5daal_1  |\u001b[0m   config: {\r\n",
      "\u001b[36malgo-1-5daal_1  |\u001b[0m     name: \"model\",\r\n",
      "\u001b[36malgo-1-5daal_1  |\u001b[0m     base_path: \"/opt/ml/model\",\r\n",
      "\u001b[36malgo-1-5daal_1  |\u001b[0m     model_platform: \"tensorflow\"\r\n",
      "\u001b[36malgo-1-5daal_1  |\u001b[0m   }\r\n",
      "\u001b[36malgo-1-5daal_1  |\u001b[0m }\r\n",
      "\u001b[36malgo-1-5daal_1  |\u001b[0m \r\n",
      "\u001b[36malgo-1-5daal_1  |\u001b[0m \r\n",
      "\u001b[36malgo-1-5daal_1  |\u001b[0m INFO:__main__:nginx config: \r\n",
      "\u001b[36malgo-1-5daal_1  |\u001b[0m load_module modules/ngx_http_js_module.so;\r\n",
      "\u001b[36malgo-1-5daal_1  |\u001b[0m \r\n",
      "\u001b[36malgo-1-5daal_1  |\u001b[0m worker_processes auto;\r\n",
      "\u001b[36malgo-1-5daal_1  |\u001b[0m daemon off;\r\n",
      "\u001b[36malgo-1-5daal_1  |\u001b[0m pid /tmp/nginx.pid;\r\n",
      "\u001b[36malgo-1-5daal_1  |\u001b[0m error_log  /dev/stderr info;\r\n",
      "\u001b[36malgo-1-5daal_1  |\u001b[0m \r\n",
      "\u001b[36malgo-1-5daal_1  |\u001b[0m worker_rlimit_nofile 4096;\r\n",
      "\u001b[36malgo-1-5daal_1  |\u001b[0m \r\n",
      "\u001b[36malgo-1-5daal_1  |\u001b[0m events {\r\n",
      "\u001b[36malgo-1-5daal_1  |\u001b[0m   worker_connections 2048;\r\n",
      "\u001b[36malgo-1-5daal_1  |\u001b[0m }\r\n",
      "\u001b[36malgo-1-5daal_1  |\u001b[0m \r\n",
      "\u001b[36malgo-1-5daal_1  |\u001b[0m http {\r\n",
      "\u001b[36malgo-1-5daal_1  |\u001b[0m   include /etc/nginx/mime.types;\r\n",
      "\u001b[36malgo-1-5daal_1  |\u001b[0m   default_type application/json;\r\n",
      "\u001b[36malgo-1-5daal_1  |\u001b[0m   access_log /dev/stdout combined;\r\n",
      "\u001b[36malgo-1-5daal_1  |\u001b[0m   js_include tensorflow-serving.js;\r\n",
      "\u001b[36malgo-1-5daal_1  |\u001b[0m \r\n",
      "\u001b[36malgo-1-5daal_1  |\u001b[0m   upstream tfs_upstream {\r\n",
      "\u001b[36malgo-1-5daal_1  |\u001b[0m     server localhost:8501;\r\n",
      "\u001b[36malgo-1-5daal_1  |\u001b[0m   }\r\n",
      "\u001b[36malgo-1-5daal_1  |\u001b[0m \r\n",
      "\u001b[36malgo-1-5daal_1  |\u001b[0m   upstream gunicorn_upstream {\r\n",
      "\u001b[36malgo-1-5daal_1  |\u001b[0m     server unix:/tmp/gunicorn.sock fail_timeout=1;\r\n",
      "\u001b[36malgo-1-5daal_1  |\u001b[0m   }\r\n",
      "\u001b[36malgo-1-5daal_1  |\u001b[0m \r\n",
      "\u001b[36malgo-1-5daal_1  |\u001b[0m   server {\r\n",
      "\u001b[36malgo-1-5daal_1  |\u001b[0m     listen 8080 deferred;\r\n",
      "\u001b[36malgo-1-5daal_1  |\u001b[0m     client_max_body_size 0;\r\n",
      "\u001b[36malgo-1-5daal_1  |\u001b[0m     client_body_buffer_size 100m;\r\n",
      "\u001b[36malgo-1-5daal_1  |\u001b[0m     subrequest_output_buffer_size 100m;\r\n",
      "\u001b[36malgo-1-5daal_1  |\u001b[0m \r\n",
      "\u001b[36malgo-1-5daal_1  |\u001b[0m     set $tfs_version 2.1;\r\n",
      "\u001b[36malgo-1-5daal_1  |\u001b[0m     set $default_tfs_model model;\r\n",
      "\u001b[36malgo-1-5daal_1  |\u001b[0m \r\n",
      "\u001b[36malgo-1-5daal_1  |\u001b[0m     location /tfs {\r\n",
      "\u001b[36malgo-1-5daal_1  |\u001b[0m         rewrite ^/tfs/(.*) /$1  break;\r\n",
      "\u001b[36malgo-1-5daal_1  |\u001b[0m         proxy_redirect off;\r\n",
      "\u001b[36malgo-1-5daal_1  |\u001b[0m         proxy_pass_request_headers off;\r\n",
      "\u001b[36malgo-1-5daal_1  |\u001b[0m         proxy_set_header Content-Type 'application/json';\r\n",
      "\u001b[36malgo-1-5daal_1  |\u001b[0m         proxy_set_header Accept 'application/json';\r\n",
      "\u001b[36malgo-1-5daal_1  |\u001b[0m         proxy_pass http://tfs_upstream;\r\n",
      "\u001b[36malgo-1-5daal_1  |\u001b[0m     }\r\n",
      "\u001b[36malgo-1-5daal_1  |\u001b[0m \r\n",
      "\u001b[36malgo-1-5daal_1  |\u001b[0m     location /ping {\r\n",
      "\u001b[36malgo-1-5daal_1  |\u001b[0m         js_content ping_without_model;\r\n",
      "\u001b[36malgo-1-5daal_1  |\u001b[0m     }\r\n",
      "\u001b[36malgo-1-5daal_1  |\u001b[0m \r\n",
      "\u001b[36malgo-1-5daal_1  |\u001b[0m     location /invocations {\r\n",
      "\u001b[36malgo-1-5daal_1  |\u001b[0m         js_content invocations;\r\n",
      "\u001b[36malgo-1-5daal_1  |\u001b[0m     }\r\n",
      "\u001b[36malgo-1-5daal_1  |\u001b[0m \r\n",
      "\u001b[36malgo-1-5daal_1  |\u001b[0m     location ~ ^/models/(.*)/invoke {\r\n",
      "\u001b[36malgo-1-5daal_1  |\u001b[0m         js_content invocations;\r\n",
      "\u001b[36malgo-1-5daal_1  |\u001b[0m     }\r\n",
      "\u001b[36malgo-1-5daal_1  |\u001b[0m \r\n",
      "\u001b[36malgo-1-5daal_1  |\u001b[0m     location /models {\r\n",
      "\u001b[36malgo-1-5daal_1  |\u001b[0m         proxy_pass http://gunicorn_upstream/models;\r\n",
      "\u001b[36malgo-1-5daal_1  |\u001b[0m     }\r\n",
      "\u001b[36malgo-1-5daal_1  |\u001b[0m \r\n",
      "\u001b[36malgo-1-5daal_1  |\u001b[0m     location / {\r\n",
      "\u001b[36malgo-1-5daal_1  |\u001b[0m         return 404 '{\"error\": \"Not Found\"}';\r\n",
      "\u001b[36malgo-1-5daal_1  |\u001b[0m     }\r\n",
      "\u001b[36malgo-1-5daal_1  |\u001b[0m \r\n",
      "\u001b[36malgo-1-5daal_1  |\u001b[0m     keepalive_timeout 3;\r\n",
      "\u001b[36malgo-1-5daal_1  |\u001b[0m   }\r\n",
      "\u001b[36malgo-1-5daal_1  |\u001b[0m }\r\n",
      "\u001b[36malgo-1-5daal_1  |\u001b[0m \r\n",
      "\u001b[36malgo-1-5daal_1  |\u001b[0m \r\n",
      "\u001b[36malgo-1-5daal_1  |\u001b[0m INFO:__main__:tensorflow version info:\r\n",
      "\u001b[36malgo-1-5daal_1  |\u001b[0m TensorFlow ModelServer: 2.1.0-rc1+dev.sha.d81097a\r\n",
      "\u001b[36malgo-1-5daal_1  |\u001b[0m TensorFlow Library: 2.1.0\r\n",
      "\u001b[36malgo-1-5daal_1  |\u001b[0m INFO:__main__:tensorflow serving command: tensorflow_model_server --port=9000 --rest_api_port=8501 --model_config_file=/sagemaker/model-config.cfg --max_num_load_retries=0 \r\n",
      "\u001b[36malgo-1-5daal_1  |\u001b[0m INFO:__main__:started tensorflow serving (pid: 8)\r\n",
      "\u001b[36malgo-1-5daal_1  |\u001b[0m INFO:__main__:nginx version info:\r\n",
      "\u001b[36malgo-1-5daal_1  |\u001b[0m nginx version: nginx/1.16.1\r\n",
      "\u001b[36malgo-1-5daal_1  |\u001b[0m built by gcc 7.4.0 (Ubuntu 7.4.0-1ubuntu1~18.04.1) \r\n",
      "\u001b[36malgo-1-5daal_1  |\u001b[0m built with OpenSSL 1.1.1  11 Sep 2018\r\n",
      "\u001b[36malgo-1-5daal_1  |\u001b[0m TLS SNI support enabled\r\n",
      "\u001b[36malgo-1-5daal_1  |\u001b[0m configure arguments: --prefix=/etc/nginx --sbin-path=/usr/sbin/nginx --modules-path=/usr/lib/nginx/modules --conf-path=/etc/nginx/nginx.conf --error-log-path=/var/log/nginx/error.log --http-log-path=/var/log/nginx/access.log --pid-path=/var/run/nginx.pid --lock-path=/var/run/nginx.lock --http-client-body-temp-path=/var/cache/nginx/client_temp --http-proxy-temp-path=/var/cache/nginx/proxy_temp --http-fastcgi-temp-path=/var/cache/nginx/fastcgi_temp --http-uwsgi-temp-path=/var/cache/nginx/uwsgi_temp --http-scgi-temp-path=/var/cache/nginx/scgi_temp --user=nginx --group=nginx --with-compat --with-file-aio --with-threads --with-http_addition_module --with-http_auth_request_module --with-http_dav_module --with-http_flv_module --with-http_gunzip_module --with-http_gzip_static_module --with-http_mp4_module --with-http_random_index_module --with-http_realip_module --with-http_secure_link_module --with-http_slice_module --with-http_ssl_module --with-http_stub_status_module --with-http_sub_module --with-http_v2_module --with-mail --with-mail_ssl_module --with-stream --with-stream_realip_module --with-stream_ssl_module --with-stream_ssl_preread_module --with-cc-opt='-g -O2 -fdebug-prefix-map=/data/builder/debuild/nginx-1.16.1/debian/debuild-base/nginx-1.16.1=. -fstack-protector-strong -Wformat -Werror=format-security -Wp,-D_FORTIFY_SOURCE=2 -fPIC' --with-ld-opt='-Wl,-Bsymbolic-functions -Wl,-z,relro -Wl,-z,now -Wl,--as-needed -pie'\r\n",
      "\u001b[36malgo-1-5daal_1  |\u001b[0m INFO:__main__:started nginx (pid: 10)\r\n",
      "\u001b[36malgo-1-5daal_1  |\u001b[0m 2020/03/28 21:14:40 [notice] 10#10: using the \"epoll\" event method\r\n",
      "\u001b[36malgo-1-5daal_1  |\u001b[0m 2020/03/28 21:14:40 [notice] 10#10: nginx/1.16.1\r\n",
      "\u001b[36malgo-1-5daal_1  |\u001b[0m 2020/03/28 21:14:40 [notice] 10#10: built by gcc 7.4.0 (Ubuntu 7.4.0-1ubuntu1~18.04.1) \r\n",
      "\u001b[36malgo-1-5daal_1  |\u001b[0m 2020/03/28 21:14:40 [notice] 10#10: OS: Linux 4.14.171-105.231.amzn1.x86_64\r\n",
      "\u001b[36malgo-1-5daal_1  |\u001b[0m 2020/03/28 21:14:40 [notice] 10#10: getrlimit(RLIMIT_NOFILE): 1024:4096\r\n",
      "\u001b[36malgo-1-5daal_1  |\u001b[0m 2020/03/28 21:14:40 [notice] 10#10: start worker processes\r\n",
      "\u001b[36malgo-1-5daal_1  |\u001b[0m 2020/03/28 21:14:40 [notice] 10#10: start worker process 11\r\n",
      "\u001b[36malgo-1-5daal_1  |\u001b[0m 2020/03/28 21:14:40 [notice] 10#10: start worker process 12\r\n",
      "\u001b[36malgo-1-5daal_1  |\u001b[0m 2020/03/28 21:14:40 [notice] 10#10: start worker process 13\r\n",
      "\u001b[36malgo-1-5daal_1  |\u001b[0m 2020/03/28 21:14:40 [notice] 10#10: start worker process 14\r\n",
      "\u001b[36malgo-1-5daal_1  |\u001b[0m 2020-03-28 21:14:40.683449: I tensorflow_serving/model_servers/server_core.cc:462] Adding/updating models.\r\n",
      "\u001b[36malgo-1-5daal_1  |\u001b[0m 2020-03-28 21:14:40.683479: I tensorflow_serving/model_servers/server_core.cc:573]  (Re-)adding model: model\r\n",
      "\u001b[36malgo-1-5daal_1  |\u001b[0m 2020-03-28 21:14:40.783717: I tensorflow_serving/util/retrier.cc:46] Retrying of Reserving resources for servable: {name: model version: 1} exhausted max_num_retries: 0\r\n",
      "\u001b[36malgo-1-5daal_1  |\u001b[0m 2020-03-28 21:14:40.783740: I tensorflow_serving/core/basic_manager.cc:739] Successfully reserved resources to load servable {name: model version: 1}\r\n",
      "\u001b[36malgo-1-5daal_1  |\u001b[0m 2020-03-28 21:14:40.783750: I tensorflow_serving/core/loader_harness.cc:66] Approving load for servable version {name: model version: 1}\r\n",
      "\u001b[36malgo-1-5daal_1  |\u001b[0m 2020-03-28 21:14:40.783762: I tensorflow_serving/core/loader_harness.cc:74] Loading servable version {name: model version: 1}\r\n",
      "\u001b[36malgo-1-5daal_1  |\u001b[0m 2020-03-28 21:14:40.783786: I external/org_tensorflow/tensorflow/cc/saved_model/reader.cc:31] Reading SavedModel from: /opt/ml/model/000000001\r\n",
      "\u001b[36malgo-1-5daal_1  |\u001b[0m 2020-03-28 21:14:40.785042: I external/org_tensorflow/tensorflow/cc/saved_model/reader.cc:54] Reading meta graph with tags { serve }\r\n",
      "\u001b[36malgo-1-5daal_1  |\u001b[0m 2020-03-28 21:14:40.785064: I external/org_tensorflow/tensorflow/cc/saved_model/loader.cc:264] Reading SavedModel debug info (if present) from: /opt/ml/model/000000001\r\n",
      "\u001b[36malgo-1-5daal_1  |\u001b[0m 2020-03-28 21:14:40.785163: I external/org_tensorflow/tensorflow/core/platform/cpu_feature_guard.cc:142] Your CPU supports instructions that this TensorFlow binary was not compiled to use: AVX512F\r\n",
      "\u001b[36malgo-1-5daal_1  |\u001b[0m 2020-03-28 21:14:40.786042: I external/org_tensorflow/tensorflow/core/common_runtime/process_util.cc:147] Creating new thread pool with default inter op setting: 2. Tune using inter_op_parallelism_threads for best performance.\r\n",
      "\u001b[36malgo-1-5daal_1  |\u001b[0m 2020-03-28 21:14:40.809104: I external/org_tensorflow/tensorflow/cc/saved_model/loader.cc:203] Restoring SavedModel bundle.\r\n"
     ]
    },
    {
     "name": "stdout",
     "output_type": "stream",
     "text": [
      "\u001b[36malgo-1-5daal_1  |\u001b[0m 2020-03-28 21:14:40.849728: I external/org_tensorflow/tensorflow/cc/saved_model/loader.cc:152] Running initialization op on SavedModel bundle at path: /opt/ml/model/000000001\n",
      "\u001b[36malgo-1-5daal_1  |\u001b[0m 2020-03-28 21:14:40.853866: I external/org_tensorflow/tensorflow/cc/saved_model/loader.cc:333] SavedModel load for tags { serve }; Status: success: OK. Took 70079 microseconds.\n",
      "\u001b[36malgo-1-5daal_1  |\u001b[0m 2020-03-28 21:14:40.854217: I tensorflow_serving/servables/tensorflow/saved_model_warmup.cc:105] No warmup data file found at /opt/ml/model/000000001/assets.extra/tf_serving_warmup_requests\n",
      "\u001b[36malgo-1-5daal_1  |\u001b[0m 2020-03-28 21:14:40.854460: I tensorflow_serving/util/retrier.cc:46] Retrying of Loading servable: {name: model version: 1} exhausted max_num_retries: 0\n",
      "\u001b[36malgo-1-5daal_1  |\u001b[0m 2020-03-28 21:14:40.854477: I tensorflow_serving/core/loader_harness.cc:87] Successfully loaded servable version {name: model version: 1}\n",
      "\u001b[36malgo-1-5daal_1  |\u001b[0m 2020-03-28 21:14:40.856173: I tensorflow_serving/model_servers/server.cc:362] Running gRPC ModelServer at 0.0.0.0:9000 ...\n",
      "\u001b[36malgo-1-5daal_1  |\u001b[0m [warn] getaddrinfo: address family for nodename not supported\n",
      "\u001b[36malgo-1-5daal_1  |\u001b[0m [evhttp_server.cc : 238] NET_LOG: Entering the event loop ...\n",
      "\u001b[36malgo-1-5daal_1  |\u001b[0m 2020-03-28 21:14:40.857107: I tensorflow_serving/model_servers/server.cc:382] Exporting HTTP/REST API at:localhost:8501 ...\n",
      "!\u001b[36malgo-1-5daal_1  |\u001b[0m 172.18.0.1 - - [28/Mar/2020:21:14:44 +0000] \"GET /ping HTTP/1.1\" 200 0 \"-\" \"-\"\n"
     ]
    }
   ],
   "source": [
    "predictor = estimator.deploy(initial_instance_count=1, instance_type=instance_type)"
   ]
  },
  {
   "cell_type": "markdown",
   "metadata": {},
   "source": [
    "# Invoke the endpoint\n",
    "\n",
    "Let's download the training data and use that as input for inference."
   ]
  },
  {
   "cell_type": "markdown",
   "metadata": {},
   "source": [
    "Examine the prediction result from the TensorFlow 2.1 model."
   ]
  },
  {
   "cell_type": "code",
   "execution_count": 16,
   "metadata": {},
   "outputs": [
    {
     "name": "stdout",
     "output_type": "stream",
     "text": [
      "\u001b[36malgo-1-5daal_1  |\u001b[0m 2020/03/28 21:14:44 [info] 11#11: *1 client 172.18.0.1 closed keepalive connection\r\n"
     ]
    }
   ],
   "source": [
    "df = pd.read_csv(test_file, names=columns)"
   ]
  },
  {
   "cell_type": "code",
   "execution_count": 17,
   "metadata": {},
   "outputs": [
    {
     "data": {
      "text/html": [
       "<div>\n",
       "<style scoped>\n",
       "    .dataframe tbody tr th:only-of-type {\n",
       "        vertical-align: middle;\n",
       "    }\n",
       "\n",
       "    .dataframe tbody tr th {\n",
       "        vertical-align: top;\n",
       "    }\n",
       "\n",
       "    .dataframe thead th {\n",
       "        text-align: right;\n",
       "    }\n",
       "</style>\n",
       "<table border=\"1\" class=\"dataframe\">\n",
       "  <thead>\n",
       "    <tr style=\"text-align: right;\">\n",
       "      <th></th>\n",
       "      <th>encoded_class</th>\n",
       "      <th>sepal_length</th>\n",
       "      <th>sepal_width</th>\n",
       "      <th>petal_length</th>\n",
       "      <th>petal_width</th>\n",
       "    </tr>\n",
       "  </thead>\n",
       "  <tbody>\n",
       "    <tr>\n",
       "      <th>0</th>\n",
       "      <td>1</td>\n",
       "      <td>5.8</td>\n",
       "      <td>2.7</td>\n",
       "      <td>4.1</td>\n",
       "      <td>1.0</td>\n",
       "    </tr>\n",
       "    <tr>\n",
       "      <th>1</th>\n",
       "      <td>0</td>\n",
       "      <td>4.8</td>\n",
       "      <td>3.4</td>\n",
       "      <td>1.6</td>\n",
       "      <td>0.2</td>\n",
       "    </tr>\n",
       "    <tr>\n",
       "      <th>2</th>\n",
       "      <td>1</td>\n",
       "      <td>6.0</td>\n",
       "      <td>2.2</td>\n",
       "      <td>4.0</td>\n",
       "      <td>1.0</td>\n",
       "    </tr>\n",
       "    <tr>\n",
       "      <th>3</th>\n",
       "      <td>2</td>\n",
       "      <td>6.4</td>\n",
       "      <td>3.1</td>\n",
       "      <td>5.5</td>\n",
       "      <td>1.8</td>\n",
       "    </tr>\n",
       "    <tr>\n",
       "      <th>4</th>\n",
       "      <td>2</td>\n",
       "      <td>6.7</td>\n",
       "      <td>2.5</td>\n",
       "      <td>5.8</td>\n",
       "      <td>1.8</td>\n",
       "    </tr>\n",
       "  </tbody>\n",
       "</table>\n",
       "</div>"
      ],
      "text/plain": [
       "   encoded_class  sepal_length  sepal_width  petal_length  petal_width\n",
       "0              1           5.8          2.7           4.1          1.0\n",
       "1              0           4.8          3.4           1.6          0.2\n",
       "2              1           6.0          2.2           4.0          1.0\n",
       "3              2           6.4          3.1           5.5          1.8\n",
       "4              2           6.7          2.5           5.8          1.8"
      ]
     },
     "execution_count": 17,
     "metadata": {},
     "output_type": "execute_result"
    }
   ],
   "source": [
    "df.head()"
   ]
  },
  {
   "cell_type": "code",
   "execution_count": 18,
   "metadata": {},
   "outputs": [
    {
     "name": "stdout",
     "output_type": "stream",
     "text": [
      "[[5.8 2.7 4.1 1. ]\n",
      " [4.8 3.4 1.6 0.2]\n",
      " [6.  2.2 4.  1. ]\n",
      " [6.4 3.1 5.5 1.8]\n",
      " [6.7 2.5 5.8 1.8]]\n"
     ]
    }
   ],
   "source": [
    "X_test = df.iloc[:,1:].values\n",
    "print(X_test[:5])"
   ]
  },
  {
   "cell_type": "code",
   "execution_count": 19,
   "metadata": {},
   "outputs": [
    {
     "name": "stdout",
     "output_type": "stream",
     "text": [
      "\u001b[36malgo-1-5daal_1  |\u001b[0m 172.18.0.1 - - [28/Mar/2020:21:14:44 +0000] \"POST /invocations HTTP/1.1\" 200 2039 \"-\" \"-\"\r\n"
     ]
    }
   ],
   "source": [
    "result = predictor.predict(X_test)"
   ]
  },
  {
   "cell_type": "code",
   "execution_count": 20,
   "metadata": {},
   "outputs": [],
   "source": [
    "result =  result['predictions']"
   ]
  },
  {
   "cell_type": "code",
   "execution_count": 21,
   "metadata": {},
   "outputs": [
    {
     "data": {
      "text/plain": [
       "[[0.00026031278, 0.990563631, 0.00917605218],\n",
       " [0.999760091, 0.000239968373, 3.97464422e-10],\n",
       " [0.000185193509, 0.974752605, 0.0250621513],\n",
       " [9.90088935e-08, 0.241644651, 0.758355319],\n",
       " [1.86230598e-09, 0.0252015758, 0.974798381]]"
      ]
     },
     "execution_count": 21,
     "metadata": {},
     "output_type": "execute_result"
    }
   ],
   "source": [
    "result[:5]"
   ]
  },
  {
   "cell_type": "code",
   "execution_count": 22,
   "metadata": {},
   "outputs": [],
   "source": [
    "df['predicted_class'] = np.argmax(result,axis=1)"
   ]
  },
  {
   "cell_type": "code",
   "execution_count": 23,
   "metadata": {},
   "outputs": [
    {
     "data": {
      "text/html": [
       "<div>\n",
       "<style scoped>\n",
       "    .dataframe tbody tr th:only-of-type {\n",
       "        vertical-align: middle;\n",
       "    }\n",
       "\n",
       "    .dataframe tbody tr th {\n",
       "        vertical-align: top;\n",
       "    }\n",
       "\n",
       "    .dataframe thead th {\n",
       "        text-align: right;\n",
       "    }\n",
       "</style>\n",
       "<table border=\"1\" class=\"dataframe\">\n",
       "  <thead>\n",
       "    <tr style=\"text-align: right;\">\n",
       "      <th></th>\n",
       "      <th>encoded_class</th>\n",
       "      <th>sepal_length</th>\n",
       "      <th>sepal_width</th>\n",
       "      <th>petal_length</th>\n",
       "      <th>petal_width</th>\n",
       "      <th>predicted_class</th>\n",
       "    </tr>\n",
       "  </thead>\n",
       "  <tbody>\n",
       "    <tr>\n",
       "      <th>0</th>\n",
       "      <td>1</td>\n",
       "      <td>5.8</td>\n",
       "      <td>2.7</td>\n",
       "      <td>4.1</td>\n",
       "      <td>1.0</td>\n",
       "      <td>1</td>\n",
       "    </tr>\n",
       "    <tr>\n",
       "      <th>1</th>\n",
       "      <td>0</td>\n",
       "      <td>4.8</td>\n",
       "      <td>3.4</td>\n",
       "      <td>1.6</td>\n",
       "      <td>0.2</td>\n",
       "      <td>0</td>\n",
       "    </tr>\n",
       "    <tr>\n",
       "      <th>2</th>\n",
       "      <td>1</td>\n",
       "      <td>6.0</td>\n",
       "      <td>2.2</td>\n",
       "      <td>4.0</td>\n",
       "      <td>1.0</td>\n",
       "      <td>1</td>\n",
       "    </tr>\n",
       "    <tr>\n",
       "      <th>3</th>\n",
       "      <td>2</td>\n",
       "      <td>6.4</td>\n",
       "      <td>3.1</td>\n",
       "      <td>5.5</td>\n",
       "      <td>1.8</td>\n",
       "      <td>2</td>\n",
       "    </tr>\n",
       "    <tr>\n",
       "      <th>4</th>\n",
       "      <td>2</td>\n",
       "      <td>6.7</td>\n",
       "      <td>2.5</td>\n",
       "      <td>5.8</td>\n",
       "      <td>1.8</td>\n",
       "      <td>2</td>\n",
       "    </tr>\n",
       "  </tbody>\n",
       "</table>\n",
       "</div>"
      ],
      "text/plain": [
       "   encoded_class  sepal_length  sepal_width  petal_length  petal_width  \\\n",
       "0              1           5.8          2.7           4.1          1.0   \n",
       "1              0           4.8          3.4           1.6          0.2   \n",
       "2              1           6.0          2.2           4.0          1.0   \n",
       "3              2           6.4          3.1           5.5          1.8   \n",
       "4              2           6.7          2.5           5.8          1.8   \n",
       "\n",
       "   predicted_class  \n",
       "0                1  \n",
       "1                0  \n",
       "2                1  \n",
       "3                2  \n",
       "4                2  "
      ]
     },
     "execution_count": 23,
     "metadata": {},
     "output_type": "execute_result"
    }
   ],
   "source": [
    "df.head()"
   ]
  },
  {
   "cell_type": "code",
   "execution_count": 24,
   "metadata": {},
   "outputs": [],
   "source": [
    "from sklearn.metrics import classification_report, confusion_matrix\n",
    "import matplotlib.pyplot as plt\n",
    "import itertools"
   ]
  },
  {
   "cell_type": "code",
   "execution_count": 25,
   "metadata": {},
   "outputs": [],
   "source": [
    "# Encode Class Labels to integers\n",
    "# Labeled Classes\n",
    "labels=[0,1,2]\n",
    "classes = ['Iris-setosa', 'Iris-versicolor', 'Iris-virginica']"
   ]
  },
  {
   "cell_type": "markdown",
   "metadata": {},
   "source": [
    "<h2>Confusion Matrix</h2>\n",
    "Confusion Matrix is a table that summarizes performance of classification model.<br><br>"
   ]
  },
  {
   "cell_type": "code",
   "execution_count": 26,
   "metadata": {},
   "outputs": [],
   "source": [
    "# Reference: \n",
    "# https://scikit-learn.org/stable/auto_examples/model_selection/plot_confusion_matrix.html\n",
    "def plot_confusion_matrix(cm, classes,\n",
    "                          normalize=False,\n",
    "                          title='Confusion matrix',\n",
    "                          cmap=plt.cm.Blues):\n",
    "    \"\"\"\n",
    "    This function prints and plots the confusion matrix.\n",
    "    Normalization can be applied by setting `normalize=True`.\n",
    "    \"\"\"\n",
    "    if normalize:\n",
    "        cm = cm.astype('float') / cm.sum(axis=1)[:, np.newaxis]\n",
    "        #print(\"Normalized confusion matrix\")\n",
    "    #else:\n",
    "    #    print('Confusion matrix, without normalization')\n",
    "\n",
    "    #print(cm)\n",
    "\n",
    "    plt.imshow(cm, interpolation='nearest', cmap=cmap)\n",
    "    plt.title(title)\n",
    "    plt.colorbar()\n",
    "    tick_marks = np.arange(len(classes))\n",
    "    plt.xticks(tick_marks, classes, rotation=45)\n",
    "    plt.yticks(tick_marks, classes)\n",
    "\n",
    "    fmt = '.2f' if normalize else 'd'\n",
    "    thresh = cm.max() / 2.\n",
    "    for i, j in itertools.product(range(cm.shape[0]), range(cm.shape[1])):\n",
    "        plt.text(j, i, format(cm[i, j], fmt),\n",
    "                 horizontalalignment=\"center\",\n",
    "                 color=\"white\" if cm[i, j] > thresh else \"black\")\n",
    "\n",
    "    plt.ylabel('True label')\n",
    "    plt.xlabel('Predicted label')\n",
    "    plt.tight_layout()"
   ]
  },
  {
   "cell_type": "code",
   "execution_count": 27,
   "metadata": {},
   "outputs": [],
   "source": [
    "# Compute confusion matrix\n",
    "cnf_matrix = confusion_matrix(df['encoded_class'],\n",
    "                              df['predicted_class'],labels=labels)"
   ]
  },
  {
   "cell_type": "code",
   "execution_count": 28,
   "metadata": {},
   "outputs": [
    {
     "data": {
      "text/plain": [
       "array([[16,  0,  0],\n",
       "       [ 0, 10,  1],\n",
       "       [ 0,  0, 18]])"
      ]
     },
     "execution_count": 28,
     "metadata": {},
     "output_type": "execute_result"
    }
   ],
   "source": [
    "cnf_matrix"
   ]
  },
  {
   "cell_type": "code",
   "execution_count": 29,
   "metadata": {},
   "outputs": [
    {
     "data": {
      "image/png": "[encoded data removed]",
      "text/plain": [
       "<Figure size 432x288 with 2 Axes>"
      ]
     },
     "metadata": {},
     "output_type": "display_data"
    }
   ],
   "source": [
    "# Plot confusion matrix\n",
    "plt.figure()\n",
    "plot_confusion_matrix(cnf_matrix, classes=classes,\n",
    "                      title='Confusion matrix - Count')"
   ]
  },
  {
   "cell_type": "code",
   "execution_count": 30,
   "metadata": {},
   "outputs": [
    {
     "data": {
      "image/png": "[encoded data removed]",
      "text/plain": [
       "<Figure size 432x288 with 2 Axes>"
      ]
     },
     "metadata": {},
     "output_type": "display_data"
    }
   ],
   "source": [
    "# Plot confusion matrix\n",
    "plt.figure()\n",
    "plot_confusion_matrix(cnf_matrix, classes=classes,\n",
    "                      title='Confusion matrix - Count',normalize=True)"
   ]
  },
  {
   "cell_type": "code",
   "execution_count": 31,
   "metadata": {},
   "outputs": [
    {
     "name": "stdout",
     "output_type": "stream",
     "text": [
      "                 precision    recall  f1-score   support\n",
      "\n",
      "    Iris-setosa       1.00      1.00      1.00        16\n",
      "Iris-versicolor       1.00      0.91      0.95        11\n",
      " Iris-virginica       0.95      1.00      0.97        18\n",
      "\n",
      "       accuracy                           0.98        45\n",
      "      macro avg       0.98      0.97      0.98        45\n",
      "   weighted avg       0.98      0.98      0.98        45\n",
      "\n"
     ]
    }
   ],
   "source": [
    "print(classification_report(\n",
    "    df['encoded_class'],\n",
    "    df['predicted_class'],\n",
    "    labels=labels,\n",
    "    target_names=classes))"
   ]
  },
  {
   "cell_type": "markdown",
   "metadata": {},
   "source": [
    "# Delete the endpoint\n",
    "\n",
    "Let's delete the endpoint we just created to prevent incurring any extra costs."
   ]
  },
  {
   "cell_type": "markdown",
   "metadata": {},
   "source": [
    "Delete the TensorFlow 2.1 endpoint as well."
   ]
  },
  {
   "cell_type": "code",
   "execution_count": 32,
   "metadata": {},
   "outputs": [
    {
     "name": "stdout",
     "output_type": "stream",
     "text": [
      "Gracefully stopping... (press Ctrl+C again to force)\n"
     ]
    }
   ],
   "source": [
    "estimator.delete_endpoint()"
   ]
  },
  {
   "cell_type": "markdown",
   "metadata": {},
   "source": [
    "# Deploy model using artifacts\n",
    "https://sagemaker.readthedocs.io/en/stable/using_tf.html#deploy-to-a-sagemaker-endpoint"
   ]
  },
  {
   "cell_type": "code",
   "execution_count": 33,
   "metadata": {},
   "outputs": [],
   "source": [
    "from sagemaker.tensorflow.serving import Model"
   ]
  },
  {
   "cell_type": "code",
   "execution_count": 34,
   "metadata": {},
   "outputs": [],
   "source": [
    "model_data = estimator.model_data"
   ]
  },
  {
   "cell_type": "code",
   "execution_count": 35,
   "metadata": {},
   "outputs": [
    {
     "data": {
      "text/plain": [
       "'s3://chandra-ml-sagemaker/iris/model/tf-iris-2020-03-28-21-14-26-369/model.tar.gz'"
      ]
     },
     "execution_count": 35,
     "metadata": {},
     "output_type": "execute_result"
    }
   ],
   "source": [
    "model_data"
   ]
  },
  {
   "cell_type": "code",
   "execution_count": 36,
   "metadata": {},
   "outputs": [
    {
     "name": "stdout",
     "output_type": "stream",
     "text": [
      "Attaching to tmp81b25ulb_algo-1-oufpd_1\n",
      "\u001b[36malgo-1-oufpd_1  |\u001b[0m INFO:__main__:starting services\r\n",
      "\u001b[36malgo-1-oufpd_1  |\u001b[0m INFO:__main__:using default model name: model\r\n",
      "\u001b[36malgo-1-oufpd_1  |\u001b[0m INFO:__main__:tensorflow serving model config: \r\n",
      "\u001b[36malgo-1-oufpd_1  |\u001b[0m model_config_list: {\r\n",
      "\u001b[36malgo-1-oufpd_1  |\u001b[0m   config: {\r\n",
      "\u001b[36malgo-1-oufpd_1  |\u001b[0m     name: \"model\",\r\n",
      "\u001b[36malgo-1-oufpd_1  |\u001b[0m     base_path: \"/opt/ml/model\",\r\n",
      "\u001b[36malgo-1-oufpd_1  |\u001b[0m     model_platform: \"tensorflow\"\r\n",
      "\u001b[36malgo-1-oufpd_1  |\u001b[0m   }\r\n",
      "\u001b[36malgo-1-oufpd_1  |\u001b[0m }\r\n",
      "\u001b[36malgo-1-oufpd_1  |\u001b[0m \r\n",
      "\u001b[36malgo-1-oufpd_1  |\u001b[0m \r\n",
      "\u001b[36malgo-1-oufpd_1  |\u001b[0m INFO:__main__:nginx config: \r\n",
      "\u001b[36malgo-1-oufpd_1  |\u001b[0m load_module modules/ngx_http_js_module.so;\r\n",
      "\u001b[36malgo-1-oufpd_1  |\u001b[0m \r\n",
      "\u001b[36malgo-1-oufpd_1  |\u001b[0m worker_processes auto;\r\n",
      "\u001b[36malgo-1-oufpd_1  |\u001b[0m daemon off;\r\n",
      "\u001b[36malgo-1-oufpd_1  |\u001b[0m pid /tmp/nginx.pid;\r\n",
      "\u001b[36malgo-1-oufpd_1  |\u001b[0m error_log  /dev/stderr error;\r\n",
      "\u001b[36malgo-1-oufpd_1  |\u001b[0m \r\n",
      "\u001b[36malgo-1-oufpd_1  |\u001b[0m worker_rlimit_nofile 4096;\r\n",
      "\u001b[36malgo-1-oufpd_1  |\u001b[0m \r\n",
      "\u001b[36malgo-1-oufpd_1  |\u001b[0m events {\r\n",
      "\u001b[36malgo-1-oufpd_1  |\u001b[0m   worker_connections 2048;\r\n",
      "\u001b[36malgo-1-oufpd_1  |\u001b[0m }\r\n",
      "\u001b[36malgo-1-oufpd_1  |\u001b[0m \r\n",
      "\u001b[36malgo-1-oufpd_1  |\u001b[0m http {\r\n",
      "\u001b[36malgo-1-oufpd_1  |\u001b[0m   include /etc/nginx/mime.types;\r\n",
      "\u001b[36malgo-1-oufpd_1  |\u001b[0m   default_type application/json;\r\n",
      "\u001b[36malgo-1-oufpd_1  |\u001b[0m   access_log /dev/stdout combined;\r\n",
      "\u001b[36malgo-1-oufpd_1  |\u001b[0m   js_include tensorflow-serving.js;\r\n",
      "\u001b[36malgo-1-oufpd_1  |\u001b[0m \r\n",
      "\u001b[36malgo-1-oufpd_1  |\u001b[0m   upstream tfs_upstream {\r\n",
      "\u001b[36malgo-1-oufpd_1  |\u001b[0m     server localhost:8501;\r\n",
      "\u001b[36malgo-1-oufpd_1  |\u001b[0m   }\r\n",
      "\u001b[36malgo-1-oufpd_1  |\u001b[0m \r\n",
      "\u001b[36malgo-1-oufpd_1  |\u001b[0m   upstream gunicorn_upstream {\r\n",
      "\u001b[36malgo-1-oufpd_1  |\u001b[0m     server unix:/tmp/gunicorn.sock fail_timeout=1;\r\n",
      "\u001b[36malgo-1-oufpd_1  |\u001b[0m   }\r\n",
      "\u001b[36malgo-1-oufpd_1  |\u001b[0m \r\n",
      "\u001b[36malgo-1-oufpd_1  |\u001b[0m   server {\r\n",
      "\u001b[36malgo-1-oufpd_1  |\u001b[0m     listen 8080 deferred;\r\n",
      "\u001b[36malgo-1-oufpd_1  |\u001b[0m     client_max_body_size 0;\r\n",
      "\u001b[36malgo-1-oufpd_1  |\u001b[0m     client_body_buffer_size 100m;\r\n",
      "\u001b[36malgo-1-oufpd_1  |\u001b[0m     subrequest_output_buffer_size 100m;\r\n",
      "\u001b[36malgo-1-oufpd_1  |\u001b[0m \r\n",
      "\u001b[36malgo-1-oufpd_1  |\u001b[0m     set $tfs_version 2.1;\r\n",
      "\u001b[36malgo-1-oufpd_1  |\u001b[0m     set $default_tfs_model model;\r\n",
      "\u001b[36malgo-1-oufpd_1  |\u001b[0m \r\n",
      "\u001b[36malgo-1-oufpd_1  |\u001b[0m     location /tfs {\r\n",
      "\u001b[36malgo-1-oufpd_1  |\u001b[0m         rewrite ^/tfs/(.*) /$1  break;\r\n",
      "\u001b[36malgo-1-oufpd_1  |\u001b[0m         proxy_redirect off;\r\n",
      "\u001b[36malgo-1-oufpd_1  |\u001b[0m         proxy_pass_request_headers off;\r\n",
      "\u001b[36malgo-1-oufpd_1  |\u001b[0m         proxy_set_header Content-Type 'application/json';\r\n",
      "\u001b[36malgo-1-oufpd_1  |\u001b[0m         proxy_set_header Accept 'application/json';\r\n",
      "\u001b[36malgo-1-oufpd_1  |\u001b[0m         proxy_pass http://tfs_upstream;\r\n",
      "\u001b[36malgo-1-oufpd_1  |\u001b[0m     }\r\n",
      "\u001b[36malgo-1-oufpd_1  |\u001b[0m \r\n",
      "\u001b[36malgo-1-oufpd_1  |\u001b[0m     location /ping {\r\n",
      "\u001b[36malgo-1-oufpd_1  |\u001b[0m         js_content ping_without_model;\r\n",
      "\u001b[36malgo-1-oufpd_1  |\u001b[0m     }\r\n",
      "\u001b[36malgo-1-oufpd_1  |\u001b[0m \r\n",
      "\u001b[36malgo-1-oufpd_1  |\u001b[0m     location /invocations {\r\n",
      "\u001b[36malgo-1-oufpd_1  |\u001b[0m         js_content invocations;\r\n",
      "\u001b[36malgo-1-oufpd_1  |\u001b[0m     }\r\n",
      "\u001b[36malgo-1-oufpd_1  |\u001b[0m \r\n",
      "\u001b[36malgo-1-oufpd_1  |\u001b[0m     location ~ ^/models/(.*)/invoke {\r\n",
      "\u001b[36malgo-1-oufpd_1  |\u001b[0m         js_content invocations;\r\n",
      "\u001b[36malgo-1-oufpd_1  |\u001b[0m     }\r\n",
      "\u001b[36malgo-1-oufpd_1  |\u001b[0m \r\n",
      "\u001b[36malgo-1-oufpd_1  |\u001b[0m     location /models {\r\n",
      "\u001b[36malgo-1-oufpd_1  |\u001b[0m         proxy_pass http://gunicorn_upstream/models;\r\n",
      "\u001b[36malgo-1-oufpd_1  |\u001b[0m     }\r\n",
      "\u001b[36malgo-1-oufpd_1  |\u001b[0m \r\n",
      "\u001b[36malgo-1-oufpd_1  |\u001b[0m     location / {\r\n",
      "\u001b[36malgo-1-oufpd_1  |\u001b[0m         return 404 '{\"error\": \"Not Found\"}';\r\n",
      "\u001b[36malgo-1-oufpd_1  |\u001b[0m     }\r\n",
      "\u001b[36malgo-1-oufpd_1  |\u001b[0m \r\n",
      "\u001b[36malgo-1-oufpd_1  |\u001b[0m     keepalive_timeout 3;\r\n",
      "\u001b[36malgo-1-oufpd_1  |\u001b[0m   }\r\n",
      "\u001b[36malgo-1-oufpd_1  |\u001b[0m }\r\n",
      "\u001b[36malgo-1-oufpd_1  |\u001b[0m \r\n",
      "\u001b[36malgo-1-oufpd_1  |\u001b[0m \r\n",
      "\u001b[36malgo-1-oufpd_1  |\u001b[0m INFO:__main__:tensorflow version info:\r\n",
      "\u001b[36malgo-1-oufpd_1  |\u001b[0m TensorFlow ModelServer: 2.1.0-rc1+dev.sha.d81097a\r\n",
      "\u001b[36malgo-1-oufpd_1  |\u001b[0m TensorFlow Library: 2.1.0\r\n",
      "\u001b[36malgo-1-oufpd_1  |\u001b[0m INFO:__main__:tensorflow serving command: tensorflow_model_server --port=9000 --rest_api_port=8501 --model_config_file=/sagemaker/model-config.cfg --max_num_load_retries=0 \r\n",
      "\u001b[36malgo-1-oufpd_1  |\u001b[0m INFO:__main__:started tensorflow serving (pid: 9)\r\n",
      "\u001b[36malgo-1-oufpd_1  |\u001b[0m INFO:__main__:nginx version info:\r\n",
      "\u001b[36malgo-1-oufpd_1  |\u001b[0m nginx version: nginx/1.16.1\r\n",
      "\u001b[36malgo-1-oufpd_1  |\u001b[0m built by gcc 7.4.0 (Ubuntu 7.4.0-1ubuntu1~18.04.1) \r\n",
      "\u001b[36malgo-1-oufpd_1  |\u001b[0m built with OpenSSL 1.1.1  11 Sep 2018\r\n",
      "\u001b[36malgo-1-oufpd_1  |\u001b[0m TLS SNI support enabled\r\n",
      "\u001b[36malgo-1-oufpd_1  |\u001b[0m configure arguments: --prefix=/etc/nginx --sbin-path=/usr/sbin/nginx --modules-path=/usr/lib/nginx/modules --conf-path=/etc/nginx/nginx.conf --error-log-path=/var/log/nginx/error.log --http-log-path=/var/log/nginx/access.log --pid-path=/var/run/nginx.pid --lock-path=/var/run/nginx.lock --http-client-body-temp-path=/var/cache/nginx/client_temp --http-proxy-temp-path=/var/cache/nginx/proxy_temp --http-fastcgi-temp-path=/var/cache/nginx/fastcgi_temp --http-uwsgi-temp-path=/var/cache/nginx/uwsgi_temp --http-scgi-temp-path=/var/cache/nginx/scgi_temp --user=nginx --group=nginx --with-compat --with-file-aio --with-threads --with-http_addition_module --with-http_auth_request_module --with-http_dav_module --with-http_flv_module --with-http_gunzip_module --with-http_gzip_static_module --with-http_mp4_module --with-http_random_index_module --with-http_realip_module --with-http_secure_link_module --with-http_slice_module --with-http_ssl_module --with-http_stub_status_module --with-http_sub_module --with-http_v2_module --with-mail --with-mail_ssl_module --with-stream --with-stream_realip_module --with-stream_ssl_module --with-stream_ssl_preread_module --with-cc-opt='-g -O2 -fdebug-prefix-map=/data/builder/debuild/nginx-1.16.1/debian/debuild-base/nginx-1.16.1=. -fstack-protector-strong -Wformat -Werror=format-security -Wp,-D_FORTIFY_SOURCE=2 -fPIC' --with-ld-opt='-Wl,-Bsymbolic-functions -Wl,-z,relro -Wl,-z,now -Wl,--as-needed -pie'\r\n",
      "\u001b[36malgo-1-oufpd_1  |\u001b[0m INFO:__main__:started nginx (pid: 11)\r\n",
      "\u001b[36malgo-1-oufpd_1  |\u001b[0m 2020-03-28 21:14:57.296775: I tensorflow_serving/model_servers/server_core.cc:462] Adding/updating models.\r\n",
      "\u001b[36malgo-1-oufpd_1  |\u001b[0m 2020-03-28 21:14:57.296799: I tensorflow_serving/model_servers/server_core.cc:573]  (Re-)adding model: model\r\n",
      "\u001b[36malgo-1-oufpd_1  |\u001b[0m 2020-03-28 21:14:57.397030: I tensorflow_serving/util/retrier.cc:46] Retrying of Reserving resources for servable: {name: model version: 1} exhausted max_num_retries: 0\r\n",
      "\u001b[36malgo-1-oufpd_1  |\u001b[0m 2020-03-28 21:14:57.397050: I tensorflow_serving/core/basic_manager.cc:739] Successfully reserved resources to load servable {name: model version: 1}\r\n",
      "\u001b[36malgo-1-oufpd_1  |\u001b[0m 2020-03-28 21:14:57.397064: I tensorflow_serving/core/loader_harness.cc:66] Approving load for servable version {name: model version: 1}\r\n",
      "\u001b[36malgo-1-oufpd_1  |\u001b[0m 2020-03-28 21:14:57.397077: I tensorflow_serving/core/loader_harness.cc:74] Loading servable version {name: model version: 1}\r\n",
      "\u001b[36malgo-1-oufpd_1  |\u001b[0m 2020-03-28 21:14:57.397139: I external/org_tensorflow/tensorflow/cc/saved_model/reader.cc:31] Reading SavedModel from: /opt/ml/model/000000001\r\n",
      "\u001b[36malgo-1-oufpd_1  |\u001b[0m 2020-03-28 21:14:57.398442: I external/org_tensorflow/tensorflow/cc/saved_model/reader.cc:54] Reading meta graph with tags { serve }\r\n",
      "\u001b[36malgo-1-oufpd_1  |\u001b[0m 2020-03-28 21:14:57.398466: I external/org_tensorflow/tensorflow/cc/saved_model/loader.cc:264] Reading SavedModel debug info (if present) from: /opt/ml/model/000000001\r\n",
      "\u001b[36malgo-1-oufpd_1  |\u001b[0m 2020-03-28 21:14:57.398535: I external/org_tensorflow/tensorflow/core/platform/cpu_feature_guard.cc:142] Your CPU supports instructions that this TensorFlow binary was not compiled to use: AVX512F\r\n",
      "\u001b[36malgo-1-oufpd_1  |\u001b[0m 2020-03-28 21:14:57.399313: I external/org_tensorflow/tensorflow/core/common_runtime/process_util.cc:147] Creating new thread pool with default inter op setting: 2. Tune using inter_op_parallelism_threads for best performance.\r\n",
      "\u001b[36malgo-1-oufpd_1  |\u001b[0m 2020-03-28 21:14:57.420029: I external/org_tensorflow/tensorflow/cc/saved_model/loader.cc:203] Restoring SavedModel bundle.\r\n"
     ]
    },
    {
     "name": "stdout",
     "output_type": "stream",
     "text": [
      "\u001b[36malgo-1-oufpd_1  |\u001b[0m 2020-03-28 21:14:57.461390: I external/org_tensorflow/tensorflow/cc/saved_model/loader.cc:152] Running initialization op on SavedModel bundle at path: /opt/ml/model/000000001\n",
      "\u001b[36malgo-1-oufpd_1  |\u001b[0m 2020-03-28 21:14:57.465019: I external/org_tensorflow/tensorflow/cc/saved_model/loader.cc:333] SavedModel load for tags { serve }; Status: success: OK. Took 67894 microseconds.\n",
      "\u001b[36malgo-1-oufpd_1  |\u001b[0m 2020-03-28 21:14:57.465400: I tensorflow_serving/servables/tensorflow/saved_model_warmup.cc:105] No warmup data file found at /opt/ml/model/000000001/assets.extra/tf_serving_warmup_requests\n",
      "\u001b[36malgo-1-oufpd_1  |\u001b[0m 2020-03-28 21:14:57.465666: I tensorflow_serving/util/retrier.cc:46] Retrying of Loading servable: {name: model version: 1} exhausted max_num_retries: 0\n",
      "\u001b[36malgo-1-oufpd_1  |\u001b[0m 2020-03-28 21:14:57.465686: I tensorflow_serving/core/loader_harness.cc:87] Successfully loaded servable version {name: model version: 1}\n",
      "\u001b[36malgo-1-oufpd_1  |\u001b[0m 2020-03-28 21:14:57.467364: I tensorflow_serving/model_servers/server.cc:362] Running gRPC ModelServer at 0.0.0.0:9000 ...\n",
      "\u001b[36malgo-1-oufpd_1  |\u001b[0m [warn] getaddrinfo: address family for nodename not supported\n",
      "\u001b[36malgo-1-oufpd_1  |\u001b[0m 2020-03-28 21:14:57.468324: I tensorflow_serving/model_servers/server.cc:382] Exporting HTTP/REST API at:localhost:8501 ...\n",
      "\u001b[36malgo-1-oufpd_1  |\u001b[0m [evhttp_server.cc : 238] NET_LOG: Entering the event loop ...\n",
      "!\u001b[36malgo-1-oufpd_1  |\u001b[0m 172.18.0.1 - - [28/Mar/2020:21:15:01 +0000] \"GET /ping HTTP/1.1\" 200 0 \"-\" \"-\"\n"
     ]
    }
   ],
   "source": [
    "model = Model(model_data=model_data, role=role,framework_version='2.1.0')\n",
    "predictor = model.deploy(initial_instance_count=1, instance_type=instance_type)"
   ]
  },
  {
   "cell_type": "code",
   "execution_count": 37,
   "metadata": {},
   "outputs": [
    {
     "data": {
      "text/plain": [
       "array([[5.8, 2.7, 4.1, 1. ],\n",
       "       [4.8, 3.4, 1.6, 0.2],\n",
       "       [6. , 2.2, 4. , 1. ],\n",
       "       [6.4, 3.1, 5.5, 1.8],\n",
       "       [6.7, 2.5, 5.8, 1.8]])"
      ]
     },
     "execution_count": 37,
     "metadata": {},
     "output_type": "execute_result"
    }
   ],
   "source": [
    "X_test[:5]"
   ]
  },
  {
   "cell_type": "code",
   "execution_count": 38,
   "metadata": {},
   "outputs": [
    {
     "name": "stdout",
     "output_type": "stream",
     "text": [
      "\u001b[36malgo-1-oufpd_1  |\u001b[0m 172.18.0.1 - - [28/Mar/2020:21:15:01 +0000] \"POST /invocations HTTP/1.1\" 200 254 \"-\" \"-\"\r\n"
     ]
    },
    {
     "data": {
      "text/plain": [
       "{'predictions': [[0.00026031278, 0.990563631, 0.00917605218],\n",
       "  [0.999760091, 0.000239968373, 3.97464422e-10],\n",
       "  [0.000185193509, 0.974752605, 0.0250621513],\n",
       "  [9.90088935e-08, 0.241644651, 0.758355319],\n",
       "  [1.86230598e-09, 0.0252015758, 0.974798381]]}"
      ]
     },
     "execution_count": 38,
     "metadata": {},
     "output_type": "execute_result"
    }
   ],
   "source": [
    "predictor.predict(X_test[:5])"
   ]
  },
  {
   "cell_type": "code",
   "execution_count": 39,
   "metadata": {},
   "outputs": [
    {
     "name": "stdout",
     "output_type": "stream",
     "text": [
      "Gracefully stopping... (press Ctrl+C again to force)\n"
     ]
    }
   ],
   "source": [
    "predictor.delete_endpoint()"
   ]
  },
  {
   "cell_type": "code",
   "execution_count": null,
   "metadata": {},
   "outputs": [],
   "source": []
  }
 ],
 "metadata": {
  "kernelspec": {
   "display_name": "conda_tensorflow_p36",
   "language": "python",
   "name": "conda_tensorflow_p36"
  },
  "language_info": {
   "codemirror_mode": {
    "name": "ipython",
    "version": 3
   },
   "file_extension": ".py",
   "mimetype": "text/x-python",
   "name": "python",
   "nbconvert_exporter": "python",
   "pygments_lexer": "ipython3",
   "version": "3.6.6"
  },
  "notice": "Copyright 2017 Amazon.com, Inc. or its affiliates. All Rights Reserved.  Licensed under the Apache License, Version 2.0 (the \"License\"). You may not use this file except in compliance with the License. A copy of the License is located at http://aws.amazon.com/apache2.0/ or in the \"license\" file accompanying this file. This file is distributed on an \"AS IS\" BASIS, WITHOUT WARRANTIES OR CONDITIONS OF ANY KIND, either express or implied. See the License for the specific language governing permissions and limitations under the License."
 },
 "nbformat": 4,
 "nbformat_minor": 2
}
