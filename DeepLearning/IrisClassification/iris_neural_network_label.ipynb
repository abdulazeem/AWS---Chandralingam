{
 "cells": [
  {
   "cell_type": "markdown",
   "metadata": {
    "nbpresent": {
     "id": "782a07bf-08de-4030-88e1-6731c4ac956e"
    }
   },
   "source": [
    "## Neural Network - Multiclass Classification\n",
    "\n",
    "### This example shows use of sparse_categorical_crossentropy loss function\n",
    "### With this loss function, you don't have to one hot encode labels\n",
    "\n",
    "### Build the Neural Network using Keras - Easy and Portable across different implementations  \n",
    "\n",
    "https://keras.io/  \n",
    "\n",
    "For building on TensorFlow - Use a conda_tensorflow_py36 or equivalent kernel  \n",
    "For building on Apache MxNet  - Use a conda_mxnet_py36 or equivalent kernel  \n",
    "\n",
    "### Iris Plant Classification  \n",
    "\n",
    "<h4>Input Features:</h4>  \n",
    "sepal_length, sepal_width, petal_length, petal_width  \n",
    "\n",
    "<h4>Target:</h4>  \n",
    "Iris Class ['Iris-setosa', 'Iris-versicolor', 'Iris-virginica']  "
   ]
  },
  {
   "cell_type": "code",
   "execution_count": 1,
   "metadata": {
    "nbpresent": {
     "id": "652b58d4-3b75-405f-9f11-24d0cd1f9656"
    }
   },
   "outputs": [
    {
     "name": "stderr",
     "output_type": "stream",
     "text": [
      "Using TensorFlow backend.\n"
     ]
    },
    {
     "name": "stdout",
     "output_type": "stream",
     "text": [
      "WARNING:tensorflow:From /home/ec2-user/anaconda3/envs/tensorflow_p36/lib/python3.6/site-packages/tensorflow_core/__init__.py:1467: The name tf.estimator.inputs is deprecated. Please use tf.compat.v1.estimator.inputs instead.\n",
      "\n"
     ]
    }
   ],
   "source": [
    "# https://keras.io/\n",
    "# https://github.com/keras-team/keras/issues/2743\n",
    "# Change Kernel to use Tensor Flow. For example: conda_tensorflow_p36\n",
    "import sys\n",
    "import numpy as np\n",
    "# Set random seed\n",
    "np.random.seed(0)\n",
    "\n",
    "import pandas as pd\n",
    "import matplotlib.pyplot as plt\n",
    "import itertools\n",
    "\n",
    "from sklearn import preprocessing\n",
    "from sklearn.metrics import classification_report, confusion_matrix\n",
    "from sklearn.preprocessing import StandardScaler, OneHotEncoder, MinMaxScaler, KBinsDiscretizer, LabelEncoder\n",
    "\n",
    "from keras.models import Sequential\n",
    "from keras.layers import Dense, Activation\n",
    "import keras"
   ]
  },
  {
   "cell_type": "code",
   "execution_count": 2,
   "metadata": {
    "nbpresent": {
     "id": "a3946273-d086-4564-b0f1-6adc225191c3"
    }
   },
   "outputs": [],
   "source": [
    "column_list_file = 'iris_train_column_list.txt'\n",
    "train_file = 'iris_train.csv'\n",
    "validation_file = 'iris_validation.csv'"
   ]
  },
  {
   "cell_type": "code",
   "execution_count": 3,
   "metadata": {
    "nbpresent": {
     "id": "7c803d6c-74cc-40d2-ab48-747ff4346c22"
    }
   },
   "outputs": [],
   "source": [
    "columns = ''\n",
    "with open(column_list_file,'r') as f:\n",
    "    columns = f.read().split(',')"
   ]
  },
  {
   "cell_type": "code",
   "execution_count": 4,
   "metadata": {
    "nbpresent": {
     "id": "630dde8d-44b9-415d-8876-4e873407d0fc"
    }
   },
   "outputs": [
    {
     "data": {
      "text/plain": [
       "['encoded_class', 'sepal_length', 'sepal_width', 'petal_length', 'petal_width']"
      ]
     },
     "execution_count": 4,
     "metadata": {},
     "output_type": "execute_result"
    }
   ],
   "source": [
    "columns"
   ]
  },
  {
   "cell_type": "code",
   "execution_count": 5,
   "metadata": {},
   "outputs": [
    {
     "data": {
      "text/plain": [
       "LabelEncoder()"
      ]
     },
     "execution_count": 5,
     "metadata": {},
     "output_type": "execute_result"
    }
   ],
   "source": [
    "# Encode Class Labels to integers\n",
    "# Labeled Classes\n",
    "labels=[0,1,2]\n",
    "classes = ['Iris-setosa', 'Iris-versicolor', 'Iris-virginica']\n",
    "le = preprocessing.LabelEncoder()\n",
    "le.fit(classes)"
   ]
  },
  {
   "cell_type": "code",
   "execution_count": 6,
   "metadata": {
    "nbpresent": {
     "id": "d6ff2283-cb13-468f-b0cc-0aefeab7b57f"
    }
   },
   "outputs": [],
   "source": [
    "# Specify the column names as the file does not have column header\n",
    "df_train = pd.read_csv(train_file,names=columns)\n",
    "df_validation = pd.read_csv(validation_file,names=columns)"
   ]
  },
  {
   "cell_type": "code",
   "execution_count": 7,
   "metadata": {},
   "outputs": [
    {
     "data": {
      "text/html": [
       "<div>\n",
       "<style scoped>\n",
       "    .dataframe tbody tr th:only-of-type {\n",
       "        vertical-align: middle;\n",
       "    }\n",
       "\n",
       "    .dataframe tbody tr th {\n",
       "        vertical-align: top;\n",
       "    }\n",
       "\n",
       "    .dataframe thead th {\n",
       "        text-align: right;\n",
       "    }\n",
       "</style>\n",
       "<table border=\"1\" class=\"dataframe\">\n",
       "  <thead>\n",
       "    <tr style=\"text-align: right;\">\n",
       "      <th></th>\n",
       "      <th>encoded_class</th>\n",
       "      <th>sepal_length</th>\n",
       "      <th>sepal_width</th>\n",
       "      <th>petal_length</th>\n",
       "      <th>petal_width</th>\n",
       "    </tr>\n",
       "  </thead>\n",
       "  <tbody>\n",
       "    <tr>\n",
       "      <th>0</th>\n",
       "      <td>1</td>\n",
       "      <td>5.8</td>\n",
       "      <td>2.7</td>\n",
       "      <td>3.9</td>\n",
       "      <td>1.2</td>\n",
       "    </tr>\n",
       "    <tr>\n",
       "      <th>1</th>\n",
       "      <td>2</td>\n",
       "      <td>6.1</td>\n",
       "      <td>2.6</td>\n",
       "      <td>5.6</td>\n",
       "      <td>1.4</td>\n",
       "    </tr>\n",
       "    <tr>\n",
       "      <th>2</th>\n",
       "      <td>2</td>\n",
       "      <td>5.8</td>\n",
       "      <td>2.8</td>\n",
       "      <td>5.1</td>\n",
       "      <td>2.4</td>\n",
       "    </tr>\n",
       "    <tr>\n",
       "      <th>3</th>\n",
       "      <td>0</td>\n",
       "      <td>4.4</td>\n",
       "      <td>3.2</td>\n",
       "      <td>1.3</td>\n",
       "      <td>0.2</td>\n",
       "    </tr>\n",
       "    <tr>\n",
       "      <th>4</th>\n",
       "      <td>2</td>\n",
       "      <td>7.2</td>\n",
       "      <td>3.6</td>\n",
       "      <td>6.1</td>\n",
       "      <td>2.5</td>\n",
       "    </tr>\n",
       "  </tbody>\n",
       "</table>\n",
       "</div>"
      ],
      "text/plain": [
       "   encoded_class  sepal_length  sepal_width  petal_length  petal_width\n",
       "0              1           5.8          2.7           3.9          1.2\n",
       "1              2           6.1          2.6           5.6          1.4\n",
       "2              2           5.8          2.8           5.1          2.4\n",
       "3              0           4.4          3.2           1.3          0.2\n",
       "4              2           7.2          3.6           6.1          2.5"
      ]
     },
     "execution_count": 7,
     "metadata": {},
     "output_type": "execute_result"
    }
   ],
   "source": [
    "df_train.head()"
   ]
  },
  {
   "cell_type": "code",
   "execution_count": 8,
   "metadata": {},
   "outputs": [],
   "source": [
    "dt_train_no_head = pd.read_csv(train_file,header=None).head()"
   ]
  },
  {
   "cell_type": "code",
   "execution_count": 9,
   "metadata": {},
   "outputs": [
    {
     "data": {
      "text/plain": [
       "array([1, 2, 2, 0, 2])"
      ]
     },
     "execution_count": 9,
     "metadata": {},
     "output_type": "execute_result"
    }
   ],
   "source": [
    "dt_train_no_head.iloc[:,0].values"
   ]
  },
  {
   "cell_type": "code",
   "execution_count": 10,
   "metadata": {
    "nbpresent": {
     "id": "a195ae30-1962-4427-859b-73a013dc10d6"
    }
   },
   "outputs": [
    {
     "data": {
      "text/html": [
       "<div>\n",
       "<style scoped>\n",
       "    .dataframe tbody tr th:only-of-type {\n",
       "        vertical-align: middle;\n",
       "    }\n",
       "\n",
       "    .dataframe tbody tr th {\n",
       "        vertical-align: top;\n",
       "    }\n",
       "\n",
       "    .dataframe thead th {\n",
       "        text-align: right;\n",
       "    }\n",
       "</style>\n",
       "<table border=\"1\" class=\"dataframe\">\n",
       "  <thead>\n",
       "    <tr style=\"text-align: right;\">\n",
       "      <th></th>\n",
       "      <th>encoded_class</th>\n",
       "      <th>sepal_length</th>\n",
       "      <th>sepal_width</th>\n",
       "      <th>petal_length</th>\n",
       "      <th>petal_width</th>\n",
       "    </tr>\n",
       "  </thead>\n",
       "  <tbody>\n",
       "    <tr>\n",
       "      <th>0</th>\n",
       "      <td>1</td>\n",
       "      <td>5.8</td>\n",
       "      <td>2.7</td>\n",
       "      <td>3.9</td>\n",
       "      <td>1.2</td>\n",
       "    </tr>\n",
       "    <tr>\n",
       "      <th>1</th>\n",
       "      <td>2</td>\n",
       "      <td>6.1</td>\n",
       "      <td>2.6</td>\n",
       "      <td>5.6</td>\n",
       "      <td>1.4</td>\n",
       "    </tr>\n",
       "    <tr>\n",
       "      <th>2</th>\n",
       "      <td>2</td>\n",
       "      <td>5.8</td>\n",
       "      <td>2.8</td>\n",
       "      <td>5.1</td>\n",
       "      <td>2.4</td>\n",
       "    </tr>\n",
       "    <tr>\n",
       "      <th>3</th>\n",
       "      <td>0</td>\n",
       "      <td>4.4</td>\n",
       "      <td>3.2</td>\n",
       "      <td>1.3</td>\n",
       "      <td>0.2</td>\n",
       "    </tr>\n",
       "    <tr>\n",
       "      <th>4</th>\n",
       "      <td>2</td>\n",
       "      <td>7.2</td>\n",
       "      <td>3.6</td>\n",
       "      <td>6.1</td>\n",
       "      <td>2.5</td>\n",
       "    </tr>\n",
       "  </tbody>\n",
       "</table>\n",
       "</div>"
      ],
      "text/plain": [
       "   encoded_class  sepal_length  sepal_width  petal_length  petal_width\n",
       "0              1           5.8          2.7           3.9          1.2\n",
       "1              2           6.1          2.6           5.6          1.4\n",
       "2              2           5.8          2.8           5.1          2.4\n",
       "3              0           4.4          3.2           1.3          0.2\n",
       "4              2           7.2          3.6           6.1          2.5"
      ]
     },
     "execution_count": 10,
     "metadata": {},
     "output_type": "execute_result"
    }
   ],
   "source": [
    "df_train.head()"
   ]
  },
  {
   "cell_type": "code",
   "execution_count": 11,
   "metadata": {
    "nbpresent": {
     "id": "e30e8aeb-1ca2-4851-bc2d-1bdee29ab1cf"
    }
   },
   "outputs": [
    {
     "data": {
      "text/html": [
       "<div>\n",
       "<style scoped>\n",
       "    .dataframe tbody tr th:only-of-type {\n",
       "        vertical-align: middle;\n",
       "    }\n",
       "\n",
       "    .dataframe tbody tr th {\n",
       "        vertical-align: top;\n",
       "    }\n",
       "\n",
       "    .dataframe thead th {\n",
       "        text-align: right;\n",
       "    }\n",
       "</style>\n",
       "<table border=\"1\" class=\"dataframe\">\n",
       "  <thead>\n",
       "    <tr style=\"text-align: right;\">\n",
       "      <th></th>\n",
       "      <th>encoded_class</th>\n",
       "      <th>sepal_length</th>\n",
       "      <th>sepal_width</th>\n",
       "      <th>petal_length</th>\n",
       "      <th>petal_width</th>\n",
       "    </tr>\n",
       "  </thead>\n",
       "  <tbody>\n",
       "    <tr>\n",
       "      <th>0</th>\n",
       "      <td>1</td>\n",
       "      <td>5.8</td>\n",
       "      <td>2.7</td>\n",
       "      <td>4.1</td>\n",
       "      <td>1.0</td>\n",
       "    </tr>\n",
       "    <tr>\n",
       "      <th>1</th>\n",
       "      <td>0</td>\n",
       "      <td>4.8</td>\n",
       "      <td>3.4</td>\n",
       "      <td>1.6</td>\n",
       "      <td>0.2</td>\n",
       "    </tr>\n",
       "    <tr>\n",
       "      <th>2</th>\n",
       "      <td>1</td>\n",
       "      <td>6.0</td>\n",
       "      <td>2.2</td>\n",
       "      <td>4.0</td>\n",
       "      <td>1.0</td>\n",
       "    </tr>\n",
       "    <tr>\n",
       "      <th>3</th>\n",
       "      <td>2</td>\n",
       "      <td>6.4</td>\n",
       "      <td>3.1</td>\n",
       "      <td>5.5</td>\n",
       "      <td>1.8</td>\n",
       "    </tr>\n",
       "    <tr>\n",
       "      <th>4</th>\n",
       "      <td>2</td>\n",
       "      <td>6.7</td>\n",
       "      <td>2.5</td>\n",
       "      <td>5.8</td>\n",
       "      <td>1.8</td>\n",
       "    </tr>\n",
       "  </tbody>\n",
       "</table>\n",
       "</div>"
      ],
      "text/plain": [
       "   encoded_class  sepal_length  sepal_width  petal_length  petal_width\n",
       "0              1           5.8          2.7           4.1          1.0\n",
       "1              0           4.8          3.4           1.6          0.2\n",
       "2              1           6.0          2.2           4.0          1.0\n",
       "3              2           6.4          3.1           5.5          1.8\n",
       "4              2           6.7          2.5           5.8          1.8"
      ]
     },
     "execution_count": 11,
     "metadata": {},
     "output_type": "execute_result"
    }
   ],
   "source": [
    "df_validation.head()"
   ]
  },
  {
   "cell_type": "code",
   "execution_count": 12,
   "metadata": {},
   "outputs": [
    {
     "data": {
      "text/plain": [
       "0    1\n",
       "1    2\n",
       "2    2\n",
       "3    0\n",
       "4    2\n",
       "Name: encoded_class, dtype: int64"
      ]
     },
     "execution_count": 12,
     "metadata": {},
     "output_type": "execute_result"
    }
   ],
   "source": [
    "df_train['encoded_class'].head()"
   ]
  },
  {
   "cell_type": "code",
   "execution_count": 13,
   "metadata": {
    "nbpresent": {
     "id": "3b240613-803d-4fa9-93cf-53ef68df7b93"
    }
   },
   "outputs": [],
   "source": [
    "X_train = df_train.iloc[:,1:].values # Features: 1st column onwards \n",
    "y_train = df_train.iloc[:,0].values\n",
    "\n",
    "X_validation = df_validation.iloc[:,1:].values\n",
    "y_validation = df_validation.iloc[:,0].values"
   ]
  },
  {
   "cell_type": "markdown",
   "metadata": {},
   "source": [
    "## Build Model using Keras  \n",
    "Reference: https://keras.io/getting-started/sequential-model-guide/  "
   ]
  },
  {
   "cell_type": "code",
   "execution_count": 14,
   "metadata": {},
   "outputs": [
    {
     "name": "stdout",
     "output_type": "stream",
     "text": [
      "WARNING:tensorflow:From /home/ec2-user/anaconda3/envs/tensorflow_p36/lib/python3.6/site-packages/keras/backend/tensorflow_backend.py:74: The name tf.get_default_graph is deprecated. Please use tf.compat.v1.get_default_graph instead.\n",
      "\n",
      "WARNING:tensorflow:From /home/ec2-user/anaconda3/envs/tensorflow_p36/lib/python3.6/site-packages/keras/backend/tensorflow_backend.py:517: The name tf.placeholder is deprecated. Please use tf.compat.v1.placeholder instead.\n",
      "\n",
      "WARNING:tensorflow:From /home/ec2-user/anaconda3/envs/tensorflow_p36/lib/python3.6/site-packages/keras/backend/tensorflow_backend.py:4138: The name tf.random_uniform is deprecated. Please use tf.random.uniform instead.\n",
      "\n",
      "WARNING:tensorflow:From /home/ec2-user/anaconda3/envs/tensorflow_p36/lib/python3.6/site-packages/keras/optimizers.py:790: The name tf.train.Optimizer is deprecated. Please use tf.compat.v1.train.Optimizer instead.\n",
      "\n",
      "WARNING:tensorflow:From /home/ec2-user/anaconda3/envs/tensorflow_p36/lib/python3.6/site-packages/keras/backend/tensorflow_backend.py:3341: The name tf.log is deprecated. Please use tf.math.log instead.\n",
      "\n"
     ]
    }
   ],
   "source": [
    "# Create Model\n",
    "# 1 hidden layer with 32 neurons with relu activation\n",
    "# output layer - multi-class classification with 3 classes\n",
    "# Use softmax activation - gives the probability of a sample belonging to the three classes\n",
    "#  select the one with highest probability\n",
    "#  Sum of the probabilities is 1.\n",
    "\n",
    "# optimizer - use adam or rmsprop\n",
    "# loss function - multinomial logistic loss function - called as categorical cross entropy in keras\n",
    "# metrics - additional metrics to report\n",
    "model = Sequential()\n",
    "model.add(Dense(32, activation='relu', input_dim=X_train.shape[1]))\n",
    "model.add(Dense(3, activation='softmax'))\n",
    "model.compile(optimizer='rmsprop',\n",
    "              loss='sparse_categorical_crossentropy',\n",
    "              metrics=['accuracy'])"
   ]
  },
  {
   "cell_type": "code",
   "execution_count": 15,
   "metadata": {},
   "outputs": [],
   "source": [
    "from keras.callbacks import EarlyStopping\n",
    "early_stopping = EarlyStopping(monitor='val_loss', mode='min', verbose=1, patience=5)"
   ]
  },
  {
   "cell_type": "code",
   "execution_count": 16,
   "metadata": {},
   "outputs": [
    {
     "name": "stdout",
     "output_type": "stream",
     "text": [
      "WARNING:tensorflow:From /home/ec2-user/anaconda3/envs/tensorflow_p36/lib/python3.6/site-packages/tensorflow_core/python/ops/math_grad.py:1424: where (from tensorflow.python.ops.array_ops) is deprecated and will be removed in a future version.\n",
      "Instructions for updating:\n",
      "Use tf.where in 2.0, which has the same broadcast rule as np.where\n",
      "WARNING:tensorflow:From /home/ec2-user/anaconda3/envs/tensorflow_p36/lib/python3.6/site-packages/keras/backend/tensorflow_backend.py:986: The name tf.assign_add is deprecated. Please use tf.compat.v1.assign_add instead.\n",
      "\n",
      "WARNING:tensorflow:From /home/ec2-user/anaconda3/envs/tensorflow_p36/lib/python3.6/site-packages/keras/backend/tensorflow_backend.py:973: The name tf.assign is deprecated. Please use tf.compat.v1.assign instead.\n",
      "\n",
      "WARNING:tensorflow:From /home/ec2-user/anaconda3/envs/tensorflow_p36/lib/python3.6/site-packages/keras/backend/tensorflow_backend.py:2741: The name tf.Session is deprecated. Please use tf.compat.v1.Session instead.\n",
      "\n",
      "Train on 105 samples, validate on 45 samples\n",
      "Epoch 1/300\n",
      "WARNING:tensorflow:From /home/ec2-user/anaconda3/envs/tensorflow_p36/lib/python3.6/site-packages/keras/backend/tensorflow_backend.py:174: The name tf.get_default_session is deprecated. Please use tf.compat.v1.get_default_session instead.\n",
      "\n",
      "WARNING:tensorflow:From /home/ec2-user/anaconda3/envs/tensorflow_p36/lib/python3.6/site-packages/keras/backend/tensorflow_backend.py:184: The name tf.ConfigProto is deprecated. Please use tf.compat.v1.ConfigProto instead.\n",
      "\n",
      "WARNING:tensorflow:From /home/ec2-user/anaconda3/envs/tensorflow_p36/lib/python3.6/site-packages/keras/backend/tensorflow_backend.py:190: The name tf.global_variables is deprecated. Please use tf.compat.v1.global_variables instead.\n",
      "\n",
      "WARNING:tensorflow:From /home/ec2-user/anaconda3/envs/tensorflow_p36/lib/python3.6/site-packages/keras/backend/tensorflow_backend.py:199: The name tf.is_variable_initialized is deprecated. Please use tf.compat.v1.is_variable_initialized instead.\n",
      "\n",
      "WARNING:tensorflow:From /home/ec2-user/anaconda3/envs/tensorflow_p36/lib/python3.6/site-packages/keras/backend/tensorflow_backend.py:206: The name tf.variables_initializer is deprecated. Please use tf.compat.v1.variables_initializer instead.\n",
      "\n",
      "105/105 [==============================] - 1s 6ms/step - loss: 2.5314 - acc: 0.3048 - val_loss: 1.8562 - val_acc: 0.4000\n",
      "Epoch 2/300\n",
      "105/105 [==============================] - 0s 148us/step - loss: 2.0598 - acc: 0.3048 - val_loss: 1.6165 - val_acc: 0.4000\n",
      "Epoch 3/300\n",
      "105/105 [==============================] - 0s 144us/step - loss: 1.7888 - acc: 0.3048 - val_loss: 1.4342 - val_acc: 0.4000\n",
      "Epoch 4/300\n",
      "105/105 [==============================] - 0s 125us/step - loss: 1.5707 - acc: 0.3048 - val_loss: 1.3054 - val_acc: 0.4000\n",
      "Epoch 5/300\n",
      "105/105 [==============================] - 0s 116us/step - loss: 1.4069 - acc: 0.3048 - val_loss: 1.2252 - val_acc: 0.4000\n",
      "Epoch 6/300\n",
      "105/105 [==============================] - 0s 123us/step - loss: 1.2953 - acc: 0.3048 - val_loss: 1.1563 - val_acc: 0.4000\n",
      "Epoch 7/300\n",
      "105/105 [==============================] - 0s 131us/step - loss: 1.2065 - acc: 0.3048 - val_loss: 1.1197 - val_acc: 0.4000\n",
      "Epoch 8/300\n",
      "105/105 [==============================] - 0s 117us/step - loss: 1.1552 - acc: 0.3048 - val_loss: 1.0936 - val_acc: 0.4000\n",
      "Epoch 9/300\n",
      "105/105 [==============================] - 0s 117us/step - loss: 1.1101 - acc: 0.3238 - val_loss: 1.0711 - val_acc: 0.4000\n",
      "Epoch 10/300\n",
      "105/105 [==============================] - 0s 130us/step - loss: 1.0874 - acc: 0.3143 - val_loss: 1.0633 - val_acc: 0.2889\n",
      "Epoch 11/300\n",
      "105/105 [==============================] - 0s 111us/step - loss: 1.0558 - acc: 0.3524 - val_loss: 1.0505 - val_acc: 0.2667\n",
      "Epoch 12/300\n",
      "105/105 [==============================] - 0s 112us/step - loss: 1.0331 - acc: 0.3524 - val_loss: 1.0176 - val_acc: 0.3333\n",
      "Epoch 13/300\n",
      "105/105 [==============================] - 0s 108us/step - loss: 1.0091 - acc: 0.3619 - val_loss: 1.0101 - val_acc: 0.3333\n",
      "Epoch 14/300\n",
      "105/105 [==============================] - 0s 112us/step - loss: 0.9902 - acc: 0.4286 - val_loss: 0.9652 - val_acc: 0.4222\n",
      "Epoch 15/300\n",
      "105/105 [==============================] - 0s 113us/step - loss: 0.9687 - acc: 0.4000 - val_loss: 0.9594 - val_acc: 0.3556\n",
      "Epoch 16/300\n",
      "105/105 [==============================] - 0s 108us/step - loss: 0.9461 - acc: 0.4286 - val_loss: 0.9217 - val_acc: 0.5111\n",
      "Epoch 17/300\n",
      "105/105 [==============================] - 0s 112us/step - loss: 0.9246 - acc: 0.6381 - val_loss: 0.8992 - val_acc: 0.6222\n",
      "Epoch 18/300\n",
      "105/105 [==============================] - 0s 126us/step - loss: 0.9065 - acc: 0.6667 - val_loss: 0.8636 - val_acc: 0.7778\n",
      "Epoch 19/300\n",
      "105/105 [==============================] - 0s 108us/step - loss: 0.8868 - acc: 0.7524 - val_loss: 0.8417 - val_acc: 0.7556\n",
      "Epoch 20/300\n",
      "105/105 [==============================] - 0s 120us/step - loss: 0.8737 - acc: 0.7143 - val_loss: 0.8210 - val_acc: 0.7556\n",
      "Epoch 21/300\n",
      "105/105 [==============================] - 0s 111us/step - loss: 0.8593 - acc: 0.6952 - val_loss: 0.8072 - val_acc: 0.7556\n",
      "Epoch 22/300\n",
      "105/105 [==============================] - 0s 112us/step - loss: 0.8435 - acc: 0.7333 - val_loss: 0.8010 - val_acc: 0.8000\n",
      "Epoch 23/300\n",
      "105/105 [==============================] - 0s 107us/step - loss: 0.8215 - acc: 0.8190 - val_loss: 0.7858 - val_acc: 0.8444\n",
      "Epoch 24/300\n",
      "105/105 [==============================] - 0s 113us/step - loss: 0.8076 - acc: 0.8381 - val_loss: 0.7688 - val_acc: 0.8000\n",
      "Epoch 25/300\n",
      "105/105 [==============================] - 0s 116us/step - loss: 0.7960 - acc: 0.8381 - val_loss: 0.7538 - val_acc: 0.8667\n",
      "Epoch 26/300\n",
      "105/105 [==============================] - 0s 125us/step - loss: 0.7789 - acc: 0.8190 - val_loss: 0.7490 - val_acc: 0.8667\n",
      "Epoch 27/300\n",
      "105/105 [==============================] - 0s 116us/step - loss: 0.7661 - acc: 0.8286 - val_loss: 0.7528 - val_acc: 0.7333\n",
      "Epoch 28/300\n",
      "105/105 [==============================] - 0s 125us/step - loss: 0.7494 - acc: 0.8476 - val_loss: 0.7383 - val_acc: 0.7556\n",
      "Epoch 29/300\n",
      "105/105 [==============================] - 0s 131us/step - loss: 0.7384 - acc: 0.8190 - val_loss: 0.6891 - val_acc: 0.8000\n",
      "Epoch 30/300\n",
      "105/105 [==============================] - 0s 121us/step - loss: 0.7246 - acc: 0.8095 - val_loss: 0.6799 - val_acc: 0.8889\n",
      "Epoch 31/300\n",
      "105/105 [==============================] - 0s 113us/step - loss: 0.7108 - acc: 0.8381 - val_loss: 0.6648 - val_acc: 0.8889\n",
      "Epoch 32/300\n",
      "105/105 [==============================] - 0s 121us/step - loss: 0.6957 - acc: 0.8667 - val_loss: 0.6514 - val_acc: 0.8889\n",
      "Epoch 33/300\n",
      "105/105 [==============================] - 0s 125us/step - loss: 0.6872 - acc: 0.8857 - val_loss: 0.6584 - val_acc: 0.8889\n",
      "Epoch 34/300\n",
      "105/105 [==============================] - 0s 127us/step - loss: 0.6726 - acc: 0.8857 - val_loss: 0.6226 - val_acc: 0.8889\n",
      "Epoch 35/300\n",
      "105/105 [==============================] - 0s 121us/step - loss: 0.6626 - acc: 0.8952 - val_loss: 0.6109 - val_acc: 0.8889\n",
      "Epoch 36/300\n",
      "105/105 [==============================] - 0s 126us/step - loss: 0.6506 - acc: 0.9143 - val_loss: 0.5958 - val_acc: 0.8444\n",
      "Epoch 37/300\n",
      "105/105 [==============================] - 0s 136us/step - loss: 0.6374 - acc: 0.8571 - val_loss: 0.5926 - val_acc: 0.9333\n",
      "Epoch 38/300\n",
      "105/105 [==============================] - 0s 115us/step - loss: 0.6277 - acc: 0.8952 - val_loss: 0.5801 - val_acc: 0.9111\n",
      "Epoch 39/300\n",
      "105/105 [==============================] - 0s 114us/step - loss: 0.6149 - acc: 0.9238 - val_loss: 0.5872 - val_acc: 0.9111\n",
      "Epoch 40/300\n",
      "105/105 [==============================] - 0s 115us/step - loss: 0.6026 - acc: 0.9048 - val_loss: 0.5611 - val_acc: 0.9333\n",
      "Epoch 41/300\n",
      "105/105 [==============================] - 0s 130us/step - loss: 0.5902 - acc: 0.9238 - val_loss: 0.5569 - val_acc: 0.9111\n",
      "Epoch 42/300\n",
      "105/105 [==============================] - 0s 124us/step - loss: 0.5810 - acc: 0.9333 - val_loss: 0.5410 - val_acc: 0.9111\n",
      "Epoch 43/300\n",
      "105/105 [==============================] - 0s 113us/step - loss: 0.5727 - acc: 0.9143 - val_loss: 0.5386 - val_acc: 0.9333\n",
      "Epoch 44/300\n",
      "105/105 [==============================] - 0s 118us/step - loss: 0.5615 - acc: 0.9333 - val_loss: 0.5324 - val_acc: 0.9111\n",
      "Epoch 45/300\n"
     ]
    },
    {
     "name": "stdout",
     "output_type": "stream",
     "text": [
      "105/105 [==============================] - 0s 104us/step - loss: 0.5529 - acc: 0.9238 - val_loss: 0.5211 - val_acc: 0.9333\n",
      "Epoch 46/300\n",
      "105/105 [==============================] - 0s 126us/step - loss: 0.5461 - acc: 0.9238 - val_loss: 0.4895 - val_acc: 0.9111\n",
      "Epoch 47/300\n",
      "105/105 [==============================] - 0s 114us/step - loss: 0.5348 - acc: 0.9238 - val_loss: 0.5009 - val_acc: 0.9333\n",
      "Epoch 48/300\n",
      "105/105 [==============================] - 0s 107us/step - loss: 0.5263 - acc: 0.9429 - val_loss: 0.5069 - val_acc: 0.8889\n",
      "Epoch 49/300\n",
      "105/105 [==============================] - 0s 125us/step - loss: 0.5180 - acc: 0.9238 - val_loss: 0.4745 - val_acc: 0.9556\n",
      "Epoch 50/300\n",
      "105/105 [==============================] - 0s 120us/step - loss: 0.5135 - acc: 0.9429 - val_loss: 0.4969 - val_acc: 0.8667\n",
      "Epoch 51/300\n",
      "105/105 [==============================] - 0s 123us/step - loss: 0.5062 - acc: 0.9143 - val_loss: 0.4612 - val_acc: 0.9556\n",
      "Epoch 52/300\n",
      "105/105 [==============================] - 0s 129us/step - loss: 0.4939 - acc: 0.9619 - val_loss: 0.4623 - val_acc: 0.9333\n",
      "Epoch 53/300\n",
      "105/105 [==============================] - 0s 139us/step - loss: 0.4888 - acc: 0.9333 - val_loss: 0.4609 - val_acc: 0.9333\n",
      "Epoch 54/300\n",
      "105/105 [==============================] - 0s 106us/step - loss: 0.4828 - acc: 0.9333 - val_loss: 0.4343 - val_acc: 0.9556\n",
      "Epoch 55/300\n",
      "105/105 [==============================] - 0s 117us/step - loss: 0.4733 - acc: 0.9619 - val_loss: 0.4518 - val_acc: 0.9111\n",
      "Epoch 56/300\n",
      "105/105 [==============================] - 0s 120us/step - loss: 0.4679 - acc: 0.9619 - val_loss: 0.4346 - val_acc: 0.9333\n",
      "Epoch 57/300\n",
      "105/105 [==============================] - 0s 122us/step - loss: 0.4658 - acc: 0.9333 - val_loss: 0.4420 - val_acc: 0.8889\n",
      "Epoch 58/300\n",
      "105/105 [==============================] - 0s 124us/step - loss: 0.4564 - acc: 0.9429 - val_loss: 0.4085 - val_acc: 0.9556\n",
      "Epoch 59/300\n",
      "105/105 [==============================] - 0s 135us/step - loss: 0.4461 - acc: 0.9619 - val_loss: 0.4094 - val_acc: 0.9333\n",
      "Epoch 60/300\n",
      "105/105 [==============================] - 0s 118us/step - loss: 0.4455 - acc: 0.9714 - val_loss: 0.4136 - val_acc: 0.9333\n",
      "Epoch 61/300\n",
      "105/105 [==============================] - 0s 130us/step - loss: 0.4364 - acc: 0.9333 - val_loss: 0.4050 - val_acc: 0.9333\n",
      "Epoch 62/300\n",
      "105/105 [==============================] - 0s 109us/step - loss: 0.4334 - acc: 0.9524 - val_loss: 0.3838 - val_acc: 0.9556\n",
      "Epoch 63/300\n",
      "105/105 [==============================] - 0s 115us/step - loss: 0.4218 - acc: 0.9714 - val_loss: 0.4001 - val_acc: 0.9333\n",
      "Epoch 64/300\n",
      "105/105 [==============================] - 0s 124us/step - loss: 0.4216 - acc: 0.9619 - val_loss: 0.3809 - val_acc: 0.9556\n",
      "Epoch 65/300\n",
      "105/105 [==============================] - 0s 127us/step - loss: 0.4113 - acc: 0.9714 - val_loss: 0.4033 - val_acc: 0.8889\n",
      "Epoch 66/300\n",
      "105/105 [==============================] - 0s 108us/step - loss: 0.4173 - acc: 0.9429 - val_loss: 0.4008 - val_acc: 0.8889\n",
      "Epoch 67/300\n",
      "105/105 [==============================] - 0s 124us/step - loss: 0.4061 - acc: 0.9333 - val_loss: 0.3614 - val_acc: 0.9556\n",
      "Epoch 68/300\n",
      "105/105 [==============================] - 0s 121us/step - loss: 0.3958 - acc: 0.9810 - val_loss: 0.3566 - val_acc: 0.9556\n",
      "Epoch 69/300\n",
      "105/105 [==============================] - 0s 125us/step - loss: 0.3910 - acc: 0.9905 - val_loss: 0.3671 - val_acc: 0.9333\n",
      "Epoch 70/300\n",
      "105/105 [==============================] - 0s 133us/step - loss: 0.3876 - acc: 0.9619 - val_loss: 0.3447 - val_acc: 0.9556\n",
      "Epoch 71/300\n",
      "105/105 [==============================] - 0s 121us/step - loss: 0.3845 - acc: 0.9619 - val_loss: 0.3490 - val_acc: 0.9333\n",
      "Epoch 72/300\n",
      "105/105 [==============================] - 0s 102us/step - loss: 0.3839 - acc: 0.9524 - val_loss: 0.3328 - val_acc: 0.9556\n",
      "Epoch 73/300\n",
      "105/105 [==============================] - 0s 129us/step - loss: 0.3718 - acc: 0.9810 - val_loss: 0.3319 - val_acc: 0.9556\n",
      "Epoch 74/300\n",
      "105/105 [==============================] - 0s 128us/step - loss: 0.3718 - acc: 0.9714 - val_loss: 0.3189 - val_acc: 0.9556\n",
      "Epoch 75/300\n",
      "105/105 [==============================] - 0s 115us/step - loss: 0.3634 - acc: 0.9810 - val_loss: 0.3392 - val_acc: 0.9333\n",
      "Epoch 76/300\n",
      "105/105 [==============================] - 0s 120us/step - loss: 0.3605 - acc: 0.9524 - val_loss: 0.3114 - val_acc: 0.9556\n",
      "Epoch 77/300\n",
      "105/105 [==============================] - 0s 123us/step - loss: 0.3552 - acc: 0.9714 - val_loss: 0.3190 - val_acc: 0.9556\n",
      "Epoch 78/300\n",
      "105/105 [==============================] - 0s 117us/step - loss: 0.3510 - acc: 0.9905 - val_loss: 0.3115 - val_acc: 0.9556\n",
      "Epoch 79/300\n",
      "105/105 [==============================] - 0s 125us/step - loss: 0.3510 - acc: 0.9810 - val_loss: 0.3006 - val_acc: 0.9556\n",
      "Epoch 80/300\n",
      "105/105 [==============================] - 0s 129us/step - loss: 0.3420 - acc: 0.9714 - val_loss: 0.3093 - val_acc: 0.9556\n",
      "Epoch 81/300\n",
      "105/105 [==============================] - 0s 122us/step - loss: 0.3394 - acc: 0.9714 - val_loss: 0.3178 - val_acc: 0.9556\n",
      "Epoch 82/300\n",
      "105/105 [==============================] - 0s 140us/step - loss: 0.3361 - acc: 0.9524 - val_loss: 0.2918 - val_acc: 0.9556\n",
      "Epoch 83/300\n",
      "105/105 [==============================] - 0s 125us/step - loss: 0.3290 - acc: 0.9810 - val_loss: 0.3089 - val_acc: 0.9333\n",
      "Epoch 84/300\n",
      "105/105 [==============================] - 0s 126us/step - loss: 0.3310 - acc: 0.9714 - val_loss: 0.3122 - val_acc: 0.9333\n",
      "Epoch 85/300\n",
      "105/105 [==============================] - 0s 129us/step - loss: 0.3254 - acc: 0.9714 - val_loss: 0.3007 - val_acc: 0.9333\n",
      "Epoch 86/300\n",
      "105/105 [==============================] - 0s 123us/step - loss: 0.3203 - acc: 0.9524 - val_loss: 0.2886 - val_acc: 0.9556\n",
      "Epoch 87/300\n",
      "105/105 [==============================] - 0s 113us/step - loss: 0.3187 - acc: 0.9810 - val_loss: 0.2995 - val_acc: 0.9556\n",
      "Epoch 88/300\n",
      "105/105 [==============================] - 0s 126us/step - loss: 0.3132 - acc: 0.9524 - val_loss: 0.2842 - val_acc: 0.9556\n",
      "Epoch 89/300\n",
      "105/105 [==============================] - 0s 117us/step - loss: 0.3088 - acc: 0.9619 - val_loss: 0.2774 - val_acc: 0.9556\n",
      "Epoch 90/300\n",
      "105/105 [==============================] - 0s 123us/step - loss: 0.3107 - acc: 0.9714 - val_loss: 0.2860 - val_acc: 0.9556\n",
      "Epoch 91/300\n",
      "105/105 [==============================] - 0s 116us/step - loss: 0.3024 - acc: 0.9810 - val_loss: 0.2730 - val_acc: 0.9556\n",
      "Epoch 92/300\n",
      "105/105 [==============================] - 0s 118us/step - loss: 0.2979 - acc: 0.9714 - val_loss: 0.2564 - val_acc: 0.9556\n",
      "Epoch 93/300\n",
      "105/105 [==============================] - 0s 138us/step - loss: 0.2981 - acc: 0.9619 - val_loss: 0.2561 - val_acc: 0.9556\n",
      "Epoch 94/300\n",
      "105/105 [==============================] - 0s 124us/step - loss: 0.2971 - acc: 0.9619 - val_loss: 0.2618 - val_acc: 0.9556\n",
      "Epoch 95/300\n",
      "105/105 [==============================] - 0s 123us/step - loss: 0.2901 - acc: 0.9905 - val_loss: 0.2596 - val_acc: 0.9556\n",
      "Epoch 96/300\n",
      "105/105 [==============================] - 0s 112us/step - loss: 0.2855 - acc: 0.9714 - val_loss: 0.2575 - val_acc: 0.9556\n",
      "Epoch 97/300\n",
      "105/105 [==============================] - 0s 114us/step - loss: 0.2843 - acc: 0.9714 - val_loss: 0.2531 - val_acc: 0.9556\n",
      "Epoch 98/300\n",
      "105/105 [==============================] - 0s 107us/step - loss: 0.2813 - acc: 0.9810 - val_loss: 0.2435 - val_acc: 0.9556\n",
      "Epoch 99/300\n",
      "105/105 [==============================] - 0s 116us/step - loss: 0.2758 - acc: 0.9905 - val_loss: 0.2560 - val_acc: 0.9556\n",
      "Epoch 100/300\n",
      "105/105 [==============================] - 0s 116us/step - loss: 0.2798 - acc: 0.9714 - val_loss: 0.2704 - val_acc: 0.9333\n",
      "Epoch 101/300\n",
      "105/105 [==============================] - 0s 132us/step - loss: 0.2799 - acc: 0.9524 - val_loss: 0.2406 - val_acc: 0.9556\n",
      "Epoch 102/300\n",
      "105/105 [==============================] - 0s 123us/step - loss: 0.2692 - acc: 0.9619 - val_loss: 0.2305 - val_acc: 0.9556\n",
      "Epoch 103/300\n",
      "105/105 [==============================] - 0s 128us/step - loss: 0.2704 - acc: 0.9810 - val_loss: 0.2485 - val_acc: 0.9556\n",
      "Epoch 104/300\n",
      "105/105 [==============================] - 0s 122us/step - loss: 0.2645 - acc: 0.9714 - val_loss: 0.2348 - val_acc: 0.9556\n",
      "Epoch 105/300\n",
      "105/105 [==============================] - 0s 112us/step - loss: 0.2667 - acc: 0.9714 - val_loss: 0.2253 - val_acc: 0.9556\n",
      "Epoch 106/300\n",
      "105/105 [==============================] - 0s 116us/step - loss: 0.2605 - acc: 0.9810 - val_loss: 0.2253 - val_acc: 0.9556\n",
      "Epoch 107/300\n",
      "105/105 [==============================] - 0s 118us/step - loss: 0.2566 - acc: 0.9810 - val_loss: 0.2202 - val_acc: 0.9556\n",
      "Epoch 108/300\n",
      "105/105 [==============================] - 0s 116us/step - loss: 0.2557 - acc: 0.9810 - val_loss: 0.2363 - val_acc: 0.9556\n",
      "Epoch 109/300\n",
      "105/105 [==============================] - 0s 128us/step - loss: 0.2534 - acc: 0.9905 - val_loss: 0.2301 - val_acc: 0.9778\n",
      "Epoch 110/300\n",
      "105/105 [==============================] - 0s 128us/step - loss: 0.2500 - acc: 0.9714 - val_loss: 0.2193 - val_acc: 0.9556\n",
      "Epoch 111/300\n",
      "105/105 [==============================] - 0s 143us/step - loss: 0.2455 - acc: 0.9905 - val_loss: 0.2200 - val_acc: 0.9556\n",
      "Epoch 112/300\n",
      "105/105 [==============================] - 0s 116us/step - loss: 0.2466 - acc: 0.9810 - val_loss: 0.2133 - val_acc: 0.9556\n",
      "Epoch 113/300\n",
      "105/105 [==============================] - 0s 120us/step - loss: 0.2444 - acc: 0.9810 - val_loss: 0.2082 - val_acc: 0.9556\n",
      "Epoch 114/300\n",
      "105/105 [==============================] - 0s 118us/step - loss: 0.2409 - acc: 0.9810 - val_loss: 0.2128 - val_acc: 0.9556\n",
      "Epoch 115/300\n",
      "105/105 [==============================] - 0s 119us/step - loss: 0.2366 - acc: 0.9905 - val_loss: 0.2038 - val_acc: 0.9556\n",
      "Epoch 116/300\n",
      "105/105 [==============================] - 0s 140us/step - loss: 0.2380 - acc: 0.9905 - val_loss: 0.2015 - val_acc: 0.9556\n",
      "Epoch 117/300\n",
      "105/105 [==============================] - 0s 111us/step - loss: 0.2345 - acc: 0.9810 - val_loss: 0.2024 - val_acc: 0.9556\n",
      "Epoch 118/300\n",
      "105/105 [==============================] - 0s 106us/step - loss: 0.2359 - acc: 0.9714 - val_loss: 0.2121 - val_acc: 0.9778\n",
      "Epoch 119/300\n",
      "105/105 [==============================] - 0s 112us/step - loss: 0.2290 - acc: 0.9714 - val_loss: 0.2121 - val_acc: 0.9556\n",
      "Epoch 120/300\n",
      "105/105 [==============================] - 0s 135us/step - loss: 0.2299 - acc: 0.9524 - val_loss: 0.2055 - val_acc: 0.9778\n",
      "Epoch 121/300\n",
      "105/105 [==============================] - 0s 110us/step - loss: 0.2260 - acc: 0.9810 - val_loss: 0.1987 - val_acc: 0.9556\n",
      "Epoch 122/300\n",
      "105/105 [==============================] - 0s 110us/step - loss: 0.2200 - acc: 0.9905 - val_loss: 0.1951 - val_acc: 0.9556\n",
      "Epoch 123/300\n",
      "105/105 [==============================] - 0s 109us/step - loss: 0.2245 - acc: 0.9619 - val_loss: 0.1926 - val_acc: 0.9556\n",
      "Epoch 124/300\n",
      "105/105 [==============================] - 0s 116us/step - loss: 0.2160 - acc: 0.9905 - val_loss: 0.2005 - val_acc: 0.9778\n",
      "Epoch 125/300\n",
      "105/105 [==============================] - 0s 126us/step - loss: 0.2151 - acc: 0.9810 - val_loss: 0.1850 - val_acc: 0.9556\n",
      "Epoch 126/300\n",
      "105/105 [==============================] - 0s 130us/step - loss: 0.2144 - acc: 0.9810 - val_loss: 0.1832 - val_acc: 0.9556\n",
      "Epoch 127/300\n",
      "105/105 [==============================] - 0s 127us/step - loss: 0.2122 - acc: 0.9810 - val_loss: 0.1867 - val_acc: 0.9556\n",
      "Epoch 128/300\n",
      "105/105 [==============================] - 0s 114us/step - loss: 0.2109 - acc: 0.9905 - val_loss: 0.1925 - val_acc: 0.9778\n",
      "Epoch 129/300\n",
      "105/105 [==============================] - 0s 126us/step - loss: 0.2085 - acc: 0.9714 - val_loss: 0.1886 - val_acc: 0.9778\n",
      "Epoch 130/300\n",
      "105/105 [==============================] - 0s 124us/step - loss: 0.2055 - acc: 0.9714 - val_loss: 0.1796 - val_acc: 0.9556\n",
      "Epoch 131/300\n",
      "105/105 [==============================] - 0s 115us/step - loss: 0.2052 - acc: 0.9905 - val_loss: 0.1756 - val_acc: 0.9556\n",
      "Epoch 132/300\n",
      "105/105 [==============================] - 0s 127us/step - loss: 0.2018 - acc: 0.9810 - val_loss: 0.1797 - val_acc: 0.9556\n",
      "Epoch 133/300\n",
      "105/105 [==============================] - 0s 139us/step - loss: 0.1980 - acc: 0.9905 - val_loss: 0.1717 - val_acc: 0.9556\n",
      "Epoch 134/300\n",
      "105/105 [==============================] - 0s 118us/step - loss: 0.2023 - acc: 0.9714 - val_loss: 0.2018 - val_acc: 0.9333\n",
      "Epoch 135/300\n",
      "105/105 [==============================] - 0s 122us/step - loss: 0.2019 - acc: 0.9524 - val_loss: 0.1696 - val_acc: 0.9556\n",
      "Epoch 136/300\n",
      "105/105 [==============================] - 0s 113us/step - loss: 0.1949 - acc: 0.9810 - val_loss: 0.1709 - val_acc: 0.9556\n",
      "Epoch 137/300\n",
      "105/105 [==============================] - 0s 118us/step - loss: 0.1918 - acc: 0.9905 - val_loss: 0.1697 - val_acc: 0.9556\n",
      "Epoch 138/300\n",
      "105/105 [==============================] - 0s 119us/step - loss: 0.1922 - acc: 0.9905 - val_loss: 0.1680 - val_acc: 0.9556\n",
      "Epoch 139/300\n",
      "105/105 [==============================] - 0s 114us/step - loss: 0.1896 - acc: 0.9810 - val_loss: 0.1807 - val_acc: 0.9778\n",
      "Epoch 140/300\n",
      "105/105 [==============================] - 0s 116us/step - loss: 0.1890 - acc: 0.9714 - val_loss: 0.1653 - val_acc: 0.9556\n",
      "Epoch 141/300\n",
      "105/105 [==============================] - 0s 126us/step - loss: 0.1881 - acc: 0.9905 - val_loss: 0.1628 - val_acc: 0.9556\n",
      "Epoch 142/300\n",
      "105/105 [==============================] - 0s 123us/step - loss: 0.1847 - acc: 0.9905 - val_loss: 0.1635 - val_acc: 0.9556\n",
      "Epoch 143/300\n",
      "105/105 [==============================] - 0s 115us/step - loss: 0.1840 - acc: 0.9810 - val_loss: 0.1798 - val_acc: 0.9333\n",
      "Epoch 144/300\n",
      "105/105 [==============================] - 0s 125us/step - loss: 0.1837 - acc: 0.9619 - val_loss: 0.1605 - val_acc: 0.9556\n",
      "Epoch 145/300\n",
      "105/105 [==============================] - 0s 121us/step - loss: 0.1798 - acc: 0.9905 - val_loss: 0.1604 - val_acc: 0.9556\n",
      "Epoch 146/300\n",
      "105/105 [==============================] - 0s 119us/step - loss: 0.1788 - acc: 0.9905 - val_loss: 0.1796 - val_acc: 0.9333\n",
      "Epoch 147/300\n",
      "105/105 [==============================] - 0s 110us/step - loss: 0.1822 - acc: 0.9714 - val_loss: 0.1557 - val_acc: 0.9556\n",
      "Epoch 148/300\n",
      "105/105 [==============================] - 0s 116us/step - loss: 0.1815 - acc: 0.9714 - val_loss: 0.1585 - val_acc: 0.9556\n",
      "Epoch 149/300\n",
      "105/105 [==============================] - 0s 135us/step - loss: 0.1735 - acc: 0.9810 - val_loss: 0.1543 - val_acc: 0.9556\n",
      "Epoch 150/300\n",
      "105/105 [==============================] - 0s 135us/step - loss: 0.1779 - acc: 0.9810 - val_loss: 0.1548 - val_acc: 0.9556\n",
      "Epoch 151/300\n",
      "105/105 [==============================] - 0s 108us/step - loss: 0.1764 - acc: 0.9810 - val_loss: 0.1586 - val_acc: 0.9778\n",
      "Epoch 152/300\n",
      "105/105 [==============================] - 0s 105us/step - loss: 0.1725 - acc: 0.9714 - val_loss: 0.1579 - val_acc: 0.9778\n",
      "Epoch 153/300\n",
      "105/105 [==============================] - 0s 111us/step - loss: 0.1735 - acc: 0.9714 - val_loss: 0.1517 - val_acc: 0.9556\n",
      "Epoch 154/300\n",
      "105/105 [==============================] - 0s 123us/step - loss: 0.1688 - acc: 0.9810 - val_loss: 0.1545 - val_acc: 0.9778\n",
      "Epoch 155/300\n",
      "105/105 [==============================] - 0s 123us/step - loss: 0.1697 - acc: 0.9905 - val_loss: 0.1536 - val_acc: 0.9778\n",
      "Epoch 156/300\n",
      "105/105 [==============================] - 0s 115us/step - loss: 0.1651 - acc: 0.9810 - val_loss: 0.1467 - val_acc: 0.9556\n",
      "Epoch 157/300\n",
      "105/105 [==============================] - 0s 122us/step - loss: 0.1683 - acc: 0.9810 - val_loss: 0.1487 - val_acc: 0.9556\n",
      "Epoch 158/300\n",
      "105/105 [==============================] - 0s 138us/step - loss: 0.1661 - acc: 0.9810 - val_loss: 0.1572 - val_acc: 0.9778\n",
      "Epoch 159/300\n",
      "105/105 [==============================] - 0s 113us/step - loss: 0.1705 - acc: 0.9619 - val_loss: 0.1617 - val_acc: 0.9333\n",
      "Epoch 160/300\n",
      "105/105 [==============================] - 0s 123us/step - loss: 0.1655 - acc: 0.9619 - val_loss: 0.1506 - val_acc: 0.9778\n",
      "Epoch 161/300\n",
      "105/105 [==============================] - 0s 118us/step - loss: 0.1647 - acc: 0.9714 - val_loss: 0.1445 - val_acc: 0.9556\n",
      "Epoch 162/300\n",
      "105/105 [==============================] - 0s 113us/step - loss: 0.1628 - acc: 0.9810 - val_loss: 0.1422 - val_acc: 0.9556\n",
      "Epoch 163/300\n",
      "105/105 [==============================] - 0s 116us/step - loss: 0.1579 - acc: 0.9810 - val_loss: 0.1548 - val_acc: 0.9556\n",
      "Epoch 164/300\n",
      "105/105 [==============================] - 0s 124us/step - loss: 0.1597 - acc: 0.9619 - val_loss: 0.1416 - val_acc: 0.9556\n"
     ]
    },
    {
     "name": "stdout",
     "output_type": "stream",
     "text": [
      "Epoch 165/300\n",
      "105/105 [==============================] - 0s 122us/step - loss: 0.1570 - acc: 0.9810 - val_loss: 0.1396 - val_acc: 0.9556\n",
      "Epoch 166/300\n",
      "105/105 [==============================] - 0s 122us/step - loss: 0.1559 - acc: 0.9810 - val_loss: 0.1395 - val_acc: 0.9556\n",
      "Epoch 167/300\n",
      "105/105 [==============================] - 0s 124us/step - loss: 0.1528 - acc: 0.9810 - val_loss: 0.1376 - val_acc: 0.9556\n",
      "Epoch 168/300\n",
      "105/105 [==============================] - 0s 111us/step - loss: 0.1583 - acc: 0.9810 - val_loss: 0.1527 - val_acc: 0.9556\n",
      "Epoch 169/300\n",
      "105/105 [==============================] - 0s 130us/step - loss: 0.1548 - acc: 0.9714 - val_loss: 0.1421 - val_acc: 0.9778\n",
      "Epoch 170/300\n",
      "105/105 [==============================] - 0s 127us/step - loss: 0.1514 - acc: 0.9810 - val_loss: 0.1445 - val_acc: 0.9778\n",
      "Epoch 171/300\n",
      "105/105 [==============================] - 0s 117us/step - loss: 0.1503 - acc: 0.9810 - val_loss: 0.1357 - val_acc: 0.9556\n",
      "Epoch 172/300\n",
      "105/105 [==============================] - 0s 131us/step - loss: 0.1569 - acc: 0.9810 - val_loss: 0.1378 - val_acc: 0.9778\n",
      "Epoch 173/300\n",
      "105/105 [==============================] - 0s 117us/step - loss: 0.1475 - acc: 0.9714 - val_loss: 0.1338 - val_acc: 0.9556\n",
      "Epoch 174/300\n",
      "105/105 [==============================] - 0s 113us/step - loss: 0.1473 - acc: 0.9810 - val_loss: 0.1385 - val_acc: 0.9778\n",
      "Epoch 175/300\n",
      "105/105 [==============================] - 0s 123us/step - loss: 0.1442 - acc: 0.9810 - val_loss: 0.1314 - val_acc: 0.9556\n",
      "Epoch 176/300\n",
      "105/105 [==============================] - 0s 110us/step - loss: 0.1432 - acc: 0.9810 - val_loss: 0.1327 - val_acc: 0.9778\n",
      "Epoch 177/300\n",
      "105/105 [==============================] - 0s 121us/step - loss: 0.1456 - acc: 0.9810 - val_loss: 0.1487 - val_acc: 0.9333\n",
      "Epoch 178/300\n",
      "105/105 [==============================] - 0s 124us/step - loss: 0.1459 - acc: 0.9714 - val_loss: 0.1292 - val_acc: 0.9556\n",
      "Epoch 179/300\n",
      "105/105 [==============================] - 0s 119us/step - loss: 0.1410 - acc: 0.9810 - val_loss: 0.1336 - val_acc: 0.9778\n",
      "Epoch 180/300\n",
      "105/105 [==============================] - 0s 140us/step - loss: 0.1428 - acc: 0.9810 - val_loss: 0.1282 - val_acc: 0.9556\n",
      "Epoch 181/300\n",
      "105/105 [==============================] - 0s 140us/step - loss: 0.1385 - acc: 0.9810 - val_loss: 0.1388 - val_acc: 0.9556\n",
      "Epoch 182/300\n",
      "105/105 [==============================] - 0s 106us/step - loss: 0.1445 - acc: 0.9619 - val_loss: 0.1268 - val_acc: 0.9556\n",
      "Epoch 183/300\n",
      "105/105 [==============================] - 0s 124us/step - loss: 0.1375 - acc: 0.9905 - val_loss: 0.1262 - val_acc: 0.9556\n",
      "Epoch 184/300\n",
      "105/105 [==============================] - 0s 119us/step - loss: 0.1381 - acc: 0.9810 - val_loss: 0.1262 - val_acc: 0.9556\n",
      "Epoch 185/300\n",
      "105/105 [==============================] - 0s 105us/step - loss: 0.1401 - acc: 0.9810 - val_loss: 0.1275 - val_acc: 0.9778\n",
      "Epoch 186/300\n",
      "105/105 [==============================] - 0s 115us/step - loss: 0.1375 - acc: 0.9714 - val_loss: 0.1247 - val_acc: 0.9556\n",
      "Epoch 187/300\n",
      "105/105 [==============================] - 0s 117us/step - loss: 0.1371 - acc: 0.9810 - val_loss: 0.1335 - val_acc: 0.9778\n",
      "Epoch 188/300\n",
      "105/105 [==============================] - 0s 120us/step - loss: 0.1349 - acc: 0.9810 - val_loss: 0.1240 - val_acc: 0.9556\n",
      "Epoch 189/300\n",
      "105/105 [==============================] - 0s 132us/step - loss: 0.1333 - acc: 0.9714 - val_loss: 0.1271 - val_acc: 0.9778\n",
      "Epoch 190/300\n",
      "105/105 [==============================] - 0s 116us/step - loss: 0.1320 - acc: 0.9810 - val_loss: 0.1246 - val_acc: 0.9778\n",
      "Epoch 191/300\n",
      "105/105 [==============================] - 0s 122us/step - loss: 0.1311 - acc: 0.9714 - val_loss: 0.1222 - val_acc: 0.9556\n",
      "Epoch 192/300\n",
      "105/105 [==============================] - 0s 120us/step - loss: 0.1325 - acc: 0.9810 - val_loss: 0.1228 - val_acc: 0.9778\n",
      "Epoch 193/300\n",
      "105/105 [==============================] - 0s 107us/step - loss: 0.1296 - acc: 0.9810 - val_loss: 0.1208 - val_acc: 0.9556\n",
      "Epoch 194/300\n",
      "105/105 [==============================] - 0s 119us/step - loss: 0.1333 - acc: 0.9810 - val_loss: 0.1245 - val_acc: 0.9778\n",
      "Epoch 195/300\n",
      "105/105 [==============================] - 0s 113us/step - loss: 0.1285 - acc: 0.9619 - val_loss: 0.1217 - val_acc: 0.9556\n",
      "Epoch 196/300\n",
      "105/105 [==============================] - 0s 120us/step - loss: 0.1408 - acc: 0.9714 - val_loss: 0.1198 - val_acc: 0.9556\n",
      "Epoch 197/300\n",
      "105/105 [==============================] - 0s 117us/step - loss: 0.1271 - acc: 0.9810 - val_loss: 0.1213 - val_acc: 0.9778\n",
      "Epoch 198/300\n",
      "105/105 [==============================] - 0s 147us/step - loss: 0.1286 - acc: 0.9714 - val_loss: 0.1183 - val_acc: 0.9556\n",
      "Epoch 199/300\n",
      "105/105 [==============================] - 0s 127us/step - loss: 0.1275 - acc: 0.9810 - val_loss: 0.1274 - val_acc: 0.9556\n",
      "Epoch 200/300\n",
      "105/105 [==============================] - 0s 120us/step - loss: 0.1261 - acc: 0.9810 - val_loss: 0.1186 - val_acc: 0.9778\n",
      "Epoch 201/300\n",
      "105/105 [==============================] - 0s 113us/step - loss: 0.1288 - acc: 0.9810 - val_loss: 0.1185 - val_acc: 0.9778\n",
      "Epoch 202/300\n",
      "105/105 [==============================] - 0s 111us/step - loss: 0.1242 - acc: 0.9905 - val_loss: 0.1166 - val_acc: 0.9556\n",
      "Epoch 203/300\n",
      "105/105 [==============================] - 0s 128us/step - loss: 0.1218 - acc: 0.9810 - val_loss: 0.1288 - val_acc: 0.9556\n",
      "Epoch 204/300\n",
      "105/105 [==============================] - 0s 129us/step - loss: 0.1262 - acc: 0.9714 - val_loss: 0.1156 - val_acc: 0.9556\n",
      "Epoch 205/300\n",
      "105/105 [==============================] - 0s 125us/step - loss: 0.1216 - acc: 0.9810 - val_loss: 0.1160 - val_acc: 0.9778\n",
      "Epoch 206/300\n",
      "105/105 [==============================] - 0s 127us/step - loss: 0.1193 - acc: 0.9905 - val_loss: 0.1162 - val_acc: 0.9556\n",
      "Epoch 207/300\n",
      "105/105 [==============================] - 0s 130us/step - loss: 0.1206 - acc: 0.9810 - val_loss: 0.1198 - val_acc: 0.9778\n",
      "Epoch 208/300\n",
      "105/105 [==============================] - 0s 131us/step - loss: 0.1213 - acc: 0.9810 - val_loss: 0.1180 - val_acc: 0.9778\n",
      "Epoch 209/300\n",
      "105/105 [==============================] - 0s 123us/step - loss: 0.1250 - acc: 0.9714 - val_loss: 0.1160 - val_acc: 0.9778\n",
      "Epoch 00209: early stopping\n"
     ]
    }
   ],
   "source": [
    "# Train the model, iterating on the data in batches of 32 samples\n",
    "history = model.fit(X_train, y_train, epochs=300, batch_size=32,\n",
    "         validation_data=(X_validation,y_validation),callbacks=[early_stopping])"
   ]
  },
  {
   "cell_type": "code",
   "execution_count": 17,
   "metadata": {
    "nbpresent": {
     "id": "e08f22c1-4346-4e2d-96a2-9974ed5c59ff"
    }
   },
   "outputs": [
    {
     "data": {
      "image/png": "[encoded data removed]",
      "text/plain": [
       "<Figure size 432x288 with 1 Axes>"
      ]
     },
     "metadata": {},
     "output_type": "display_data"
    }
   ],
   "source": [
    "plt.scatter(x=history.epoch,y=history.history['loss'],label='Training Error')\n",
    "plt.scatter(x=history.epoch,y=history.history['val_loss'],label='Validation Error')\n",
    "plt.grid(True)\n",
    "plt.xlabel('Iteration')\n",
    "plt.ylabel('Loss')\n",
    "plt.title('Training Vs Validation Error')\n",
    "plt.legend()\n",
    "plt.show()"
   ]
  },
  {
   "cell_type": "code",
   "execution_count": 18,
   "metadata": {
    "nbpresent": {
     "id": "3312675d-307c-4eff-b835-34f0e7f57924"
    }
   },
   "outputs": [],
   "source": [
    "df = pd.read_csv(validation_file,names=columns)"
   ]
  },
  {
   "cell_type": "code",
   "execution_count": 19,
   "metadata": {
    "nbpresent": {
     "id": "afad019f-88df-4893-bb3d-b7f2b7db214b"
    }
   },
   "outputs": [
    {
     "data": {
      "text/html": [
       "<div>\n",
       "<style scoped>\n",
       "    .dataframe tbody tr th:only-of-type {\n",
       "        vertical-align: middle;\n",
       "    }\n",
       "\n",
       "    .dataframe tbody tr th {\n",
       "        vertical-align: top;\n",
       "    }\n",
       "\n",
       "    .dataframe thead th {\n",
       "        text-align: right;\n",
       "    }\n",
       "</style>\n",
       "<table border=\"1\" class=\"dataframe\">\n",
       "  <thead>\n",
       "    <tr style=\"text-align: right;\">\n",
       "      <th></th>\n",
       "      <th>encoded_class</th>\n",
       "      <th>sepal_length</th>\n",
       "      <th>sepal_width</th>\n",
       "      <th>petal_length</th>\n",
       "      <th>petal_width</th>\n",
       "    </tr>\n",
       "  </thead>\n",
       "  <tbody>\n",
       "    <tr>\n",
       "      <th>0</th>\n",
       "      <td>1</td>\n",
       "      <td>5.8</td>\n",
       "      <td>2.7</td>\n",
       "      <td>4.1</td>\n",
       "      <td>1.0</td>\n",
       "    </tr>\n",
       "    <tr>\n",
       "      <th>1</th>\n",
       "      <td>0</td>\n",
       "      <td>4.8</td>\n",
       "      <td>3.4</td>\n",
       "      <td>1.6</td>\n",
       "      <td>0.2</td>\n",
       "    </tr>\n",
       "    <tr>\n",
       "      <th>2</th>\n",
       "      <td>1</td>\n",
       "      <td>6.0</td>\n",
       "      <td>2.2</td>\n",
       "      <td>4.0</td>\n",
       "      <td>1.0</td>\n",
       "    </tr>\n",
       "    <tr>\n",
       "      <th>3</th>\n",
       "      <td>2</td>\n",
       "      <td>6.4</td>\n",
       "      <td>3.1</td>\n",
       "      <td>5.5</td>\n",
       "      <td>1.8</td>\n",
       "    </tr>\n",
       "    <tr>\n",
       "      <th>4</th>\n",
       "      <td>2</td>\n",
       "      <td>6.7</td>\n",
       "      <td>2.5</td>\n",
       "      <td>5.8</td>\n",
       "      <td>1.8</td>\n",
       "    </tr>\n",
       "  </tbody>\n",
       "</table>\n",
       "</div>"
      ],
      "text/plain": [
       "   encoded_class  sepal_length  sepal_width  petal_length  petal_width\n",
       "0              1           5.8          2.7           4.1          1.0\n",
       "1              0           4.8          3.4           1.6          0.2\n",
       "2              1           6.0          2.2           4.0          1.0\n",
       "3              2           6.4          3.1           5.5          1.8\n",
       "4              2           6.7          2.5           5.8          1.8"
      ]
     },
     "execution_count": 19,
     "metadata": {},
     "output_type": "execute_result"
    }
   ],
   "source": [
    "df.head()"
   ]
  },
  {
   "cell_type": "code",
   "execution_count": 20,
   "metadata": {
    "nbpresent": {
     "id": "9b5cb70d-6069-4511-810e-fd17e72667dd"
    }
   },
   "outputs": [
    {
     "name": "stdout",
     "output_type": "stream",
     "text": [
      "[[5.8 2.7 4.1 1. ]\n",
      " [4.8 3.4 1.6 0.2]\n",
      " [6.  2.2 4.  1. ]\n",
      " [6.4 3.1 5.5 1.8]\n",
      " [6.7 2.5 5.8 1.8]]\n"
     ]
    }
   ],
   "source": [
    "X_test = df.iloc[:,1:].values\n",
    "print(X_test[:5])"
   ]
  },
  {
   "cell_type": "code",
   "execution_count": 21,
   "metadata": {
    "nbpresent": {
     "id": "f611c852-50e3-4a1a-9134-c1c6e82ad780"
    }
   },
   "outputs": [],
   "source": [
    "result = model.predict(X_test)"
   ]
  },
  {
   "cell_type": "code",
   "execution_count": 22,
   "metadata": {},
   "outputs": [
    {
     "data": {
      "text/plain": [
       "array([[0.0027694 , 0.97066444, 0.02656613],\n",
       "       [0.9931972 , 0.00680049, 0.00000242],\n",
       "       [0.00148231, 0.9460273 , 0.05249051],\n",
       "       [0.00000566, 0.22368866, 0.77630574],\n",
       "       [0.00000016, 0.04726679, 0.9527331 ]], dtype=float32)"
      ]
     },
     "execution_count": 22,
     "metadata": {},
     "output_type": "execute_result"
    }
   ],
   "source": [
    "# Probability of a sample belonging to the three classes\n",
    "# Sample can belong to only class and the sum of the three probabilities is 1.\n",
    "np.set_printoptions(suppress=True)\n",
    "result[:5]"
   ]
  },
  {
   "cell_type": "code",
   "execution_count": 23,
   "metadata": {},
   "outputs": [],
   "source": [
    "# reset print options\n",
    "np.set_printoptions()"
   ]
  },
  {
   "cell_type": "code",
   "execution_count": 24,
   "metadata": {
    "nbpresent": {
     "id": "2c573c2b-4143-4e01-b107-e6b871ce0249"
    }
   },
   "outputs": [],
   "source": [
    "df['predicted_class'] = np.argmax(result,axis=1)"
   ]
  },
  {
   "cell_type": "code",
   "execution_count": 25,
   "metadata": {
    "nbpresent": {
     "id": "5ad0fa04-6896-46b5-bc23-40d61480d7ca"
    }
   },
   "outputs": [
    {
     "data": {
      "text/html": [
       "<div>\n",
       "<style scoped>\n",
       "    .dataframe tbody tr th:only-of-type {\n",
       "        vertical-align: middle;\n",
       "    }\n",
       "\n",
       "    .dataframe tbody tr th {\n",
       "        vertical-align: top;\n",
       "    }\n",
       "\n",
       "    .dataframe thead th {\n",
       "        text-align: right;\n",
       "    }\n",
       "</style>\n",
       "<table border=\"1\" class=\"dataframe\">\n",
       "  <thead>\n",
       "    <tr style=\"text-align: right;\">\n",
       "      <th></th>\n",
       "      <th>encoded_class</th>\n",
       "      <th>sepal_length</th>\n",
       "      <th>sepal_width</th>\n",
       "      <th>petal_length</th>\n",
       "      <th>petal_width</th>\n",
       "      <th>predicted_class</th>\n",
       "    </tr>\n",
       "  </thead>\n",
       "  <tbody>\n",
       "    <tr>\n",
       "      <th>0</th>\n",
       "      <td>1</td>\n",
       "      <td>5.8</td>\n",
       "      <td>2.7</td>\n",
       "      <td>4.1</td>\n",
       "      <td>1.0</td>\n",
       "      <td>1</td>\n",
       "    </tr>\n",
       "    <tr>\n",
       "      <th>1</th>\n",
       "      <td>0</td>\n",
       "      <td>4.8</td>\n",
       "      <td>3.4</td>\n",
       "      <td>1.6</td>\n",
       "      <td>0.2</td>\n",
       "      <td>0</td>\n",
       "    </tr>\n",
       "    <tr>\n",
       "      <th>2</th>\n",
       "      <td>1</td>\n",
       "      <td>6.0</td>\n",
       "      <td>2.2</td>\n",
       "      <td>4.0</td>\n",
       "      <td>1.0</td>\n",
       "      <td>1</td>\n",
       "    </tr>\n",
       "    <tr>\n",
       "      <th>3</th>\n",
       "      <td>2</td>\n",
       "      <td>6.4</td>\n",
       "      <td>3.1</td>\n",
       "      <td>5.5</td>\n",
       "      <td>1.8</td>\n",
       "      <td>2</td>\n",
       "    </tr>\n",
       "    <tr>\n",
       "      <th>4</th>\n",
       "      <td>2</td>\n",
       "      <td>6.7</td>\n",
       "      <td>2.5</td>\n",
       "      <td>5.8</td>\n",
       "      <td>1.8</td>\n",
       "      <td>2</td>\n",
       "    </tr>\n",
       "  </tbody>\n",
       "</table>\n",
       "</div>"
      ],
      "text/plain": [
       "   encoded_class  sepal_length  sepal_width  petal_length  petal_width  \\\n",
       "0              1           5.8          2.7           4.1          1.0   \n",
       "1              0           4.8          3.4           1.6          0.2   \n",
       "2              1           6.0          2.2           4.0          1.0   \n",
       "3              2           6.4          3.1           5.5          1.8   \n",
       "4              2           6.7          2.5           5.8          1.8   \n",
       "\n",
       "   predicted_class  \n",
       "0                1  \n",
       "1                0  \n",
       "2                1  \n",
       "3                2  \n",
       "4                2  "
      ]
     },
     "execution_count": 25,
     "metadata": {},
     "output_type": "execute_result"
    }
   ],
   "source": [
    "df.head()"
   ]
  },
  {
   "cell_type": "markdown",
   "metadata": {},
   "source": [
    "<h2>Confusion Matrix</h2>\n",
    "Confusion Matrix is a table that summarizes performance of classification model.<br><br>"
   ]
  },
  {
   "cell_type": "code",
   "execution_count": 26,
   "metadata": {},
   "outputs": [],
   "source": [
    "# Reference: \n",
    "# https://scikit-learn.org/stable/auto_examples/model_selection/plot_confusion_matrix.html\n",
    "def plot_confusion_matrix(cm, classes,\n",
    "                          normalize=False,\n",
    "                          title='Confusion matrix',\n",
    "                          cmap=plt.cm.Blues):\n",
    "    \"\"\"\n",
    "    This function prints and plots the confusion matrix.\n",
    "    Normalization can be applied by setting `normalize=True`.\n",
    "    \"\"\"\n",
    "    if normalize:\n",
    "        cm = cm.astype('float') / cm.sum(axis=1)[:, np.newaxis]\n",
    "        #print(\"Normalized confusion matrix\")\n",
    "    #else:\n",
    "    #    print('Confusion matrix, without normalization')\n",
    "\n",
    "    #print(cm)\n",
    "\n",
    "    plt.imshow(cm, interpolation='nearest', cmap=cmap)\n",
    "    plt.title(title)\n",
    "    plt.colorbar()\n",
    "    tick_marks = np.arange(len(classes))\n",
    "    plt.xticks(tick_marks, classes, rotation=45)\n",
    "    plt.yticks(tick_marks, classes)\n",
    "\n",
    "    fmt = '.2f' if normalize else 'd'\n",
    "    thresh = cm.max() / 2.\n",
    "    for i, j in itertools.product(range(cm.shape[0]), range(cm.shape[1])):\n",
    "        plt.text(j, i, format(cm[i, j], fmt),\n",
    "                 horizontalalignment=\"center\",\n",
    "                 color=\"white\" if cm[i, j] > thresh else \"black\")\n",
    "\n",
    "    plt.ylabel('True label')\n",
    "    plt.xlabel('Predicted label')\n",
    "    plt.tight_layout()"
   ]
  },
  {
   "cell_type": "code",
   "execution_count": 27,
   "metadata": {},
   "outputs": [],
   "source": [
    "# Compute confusion matrix\n",
    "cnf_matrix = confusion_matrix(df['encoded_class'],\n",
    "                              df['predicted_class'],labels=labels)"
   ]
  },
  {
   "cell_type": "code",
   "execution_count": 28,
   "metadata": {},
   "outputs": [
    {
     "data": {
      "text/plain": [
       "array([[16,  0,  0],\n",
       "       [ 0, 10,  1],\n",
       "       [ 0,  0, 18]])"
      ]
     },
     "execution_count": 28,
     "metadata": {},
     "output_type": "execute_result"
    }
   ],
   "source": [
    "cnf_matrix"
   ]
  },
  {
   "cell_type": "code",
   "execution_count": 29,
   "metadata": {},
   "outputs": [
    {
     "data": {
      "image/png": "[encoded data removed]",
      "text/plain": [
       "<Figure size 432x288 with 2 Axes>"
      ]
     },
     "metadata": {},
     "output_type": "display_data"
    }
   ],
   "source": [
    "# Plot confusion matrix\n",
    "plt.figure()\n",
    "plot_confusion_matrix(cnf_matrix, classes=classes,\n",
    "                      title='Confusion matrix - Count')"
   ]
  },
  {
   "cell_type": "code",
   "execution_count": 30,
   "metadata": {},
   "outputs": [
    {
     "data": {
      "image/png": "[encoded data removed]",
      "text/plain": [
       "<Figure size 432x288 with 2 Axes>"
      ]
     },
     "metadata": {},
     "output_type": "display_data"
    }
   ],
   "source": [
    "# Plot confusion matrix\n",
    "plt.figure()\n",
    "plot_confusion_matrix(cnf_matrix, classes=classes,\n",
    "                      title='Confusion matrix - Count',normalize=True)"
   ]
  },
  {
   "cell_type": "code",
   "execution_count": 31,
   "metadata": {},
   "outputs": [
    {
     "name": "stdout",
     "output_type": "stream",
     "text": [
      "                 precision    recall  f1-score   support\n",
      "\n",
      "    Iris-setosa       1.00      1.00      1.00        16\n",
      "Iris-versicolor       1.00      0.91      0.95        11\n",
      " Iris-virginica       0.95      1.00      0.97        18\n",
      "\n",
      "       accuracy                           0.98        45\n",
      "      macro avg       0.98      0.97      0.98        45\n",
      "   weighted avg       0.98      0.98      0.98        45\n",
      "\n"
     ]
    }
   ],
   "source": [
    "print(classification_report(\n",
    "    df['encoded_class'],\n",
    "    df['predicted_class'],\n",
    "    labels=labels,\n",
    "    target_names=classes))"
   ]
  },
  {
   "cell_type": "code",
   "execution_count": null,
   "metadata": {},
   "outputs": [],
   "source": []
  }
 ],
 "metadata": {
  "kernelspec": {
   "display_name": "conda_tensorflow_p36",
   "language": "python",
   "name": "conda_tensorflow_p36"
  },
  "language_info": {
   "codemirror_mode": {
    "name": "ipython",
    "version": 3
   },
   "file_extension": ".py",
   "mimetype": "text/x-python",
   "name": "python",
   "nbconvert_exporter": "python",
   "pygments_lexer": "ipython3",
   "version": "3.6.6"
  }
 },
 "nbformat": 4,
 "nbformat_minor": 2
}
